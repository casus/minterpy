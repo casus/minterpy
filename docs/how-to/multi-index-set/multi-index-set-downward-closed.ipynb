{
 "cells": [
  {
   "cell_type": "markdown",
   "id": "5741d863-bc8c-4011-8d63-712c89ef9dd8",
   "metadata": {},
   "source": [
    "# Make a Multi-Index Set Downward-Closed"
   ]
  },
  {
   "cell_type": "code",
   "execution_count": null,
   "id": "c94d29f1-8250-4231-af69-440ef9df77df",
   "metadata": {},
   "outputs": [],
   "source": [
    "import minterpy as mp\n",
    "import numpy as np"
   ]
  },
  {
   "cell_type": "markdown",
   "id": "79490875-cdde-497a-a5a8-c20588b5ece9",
   "metadata": {},
   "source": [
    "A multi-index set is said to be _downward-closed_ if the set does not contain any lexicographical \"holes\". For a more rigorous definition of downward-closedness, please refer to the {doc}`relevant section </fundamentals/polynomial-bases>` in the docs.\n",
    "\n",
    "This guide shows how to check a given `MultiIndexSet` instance for downward-closedness and make the corresponding set of exponents downward-closed."
   ]
  },
  {
   "cell_type": "markdown",
   "id": "d6f277a3-1a78-496f-9154-a092dbded327",
   "metadata": {},
   "source": [
    "## Motivating example\n",
    "\n",
    "Consider a non-downward-closed two-dimensional multi-index set with two elements:\n",
    "\n",
    "$$\n",
    "A = \\{ (1, 0), (1, 2) \\}.\n",
    "$$\n",
    "\n",
    "This set is not downward-closed because it contains lexicographical \"holes\" between $(0, 0)$ and the lexicographically largest element $(1,2)$ (e.g., $(0, 0)$ itself, $(0, 1)$)."
   ]
  },
  {
   "cell_type": "markdown",
   "id": "63a9fc78-d3e7-463a-9b11-cedf391ee827",
   "metadata": {},
   "source": [
    "This multi-index set can be created in Minterpy as follows:"
   ]
  },
  {
   "cell_type": "code",
   "execution_count": null,
   "id": "3bff2feb-3a96-4f93-94b7-4ab900c8e4dd",
   "metadata": {},
   "outputs": [],
   "source": [
    "mi = mp.MultiIndexSet(np.array([[1, 0], [1, 2]]), lp_degree=1.0)"
   ]
  },
  {
   "cell_type": "markdown",
   "id": "42a2bc8a-65db-4177-ad8f-88f912adb019",
   "metadata": {},
   "source": [
    "```{note}\n",
    "As noted in {doc}`multi-index-set-create`, creating a `MultiIndexSet` instance from the default constructor requires the parameter `lp_degree` (i.e., the $l_p$-degree) to be specified. Here the value of $1.0$ is chosen arbitrarily.\n",
    "```"
   ]
  },
  {
   "cell_type": "code",
   "execution_count": null,
   "id": "9a115ec2-1bcc-4dd5-9dc4-c1b5af2c1fdd",
   "metadata": {},
   "outputs": [],
   "source": [
    "print(mi)"
   ]
  },
  {
   "cell_type": "markdown",
   "id": "f8eacd5f-3ee6-4f29-ba4f-dc325b5a1b42",
   "metadata": {},
   "source": [
    "## Check for downward-closedness\n",
    "\n",
    "The property `is_downward_closed` of a `MultiIndexSet` instance returns `True` if the set of exponents in the instance is downward-closed and `False` otherwise. "
   ]
  },
  {
   "cell_type": "code",
   "execution_count": null,
   "id": "0dabd4f7-32d7-42e7-af1e-ffce35969d46",
   "metadata": {},
   "outputs": [],
   "source": [
    "mi.is_downward_closed"
   ]
  },
  {
   "cell_type": "markdown",
   "id": "edc4aecb-5468-460d-996c-241ad8bfb63d",
   "metadata": {},
   "source": [
    "## Make downward-closed\n",
    "\n",
    "The method `make_downward_closed()` creates a downward-closed multi-index set from a given instance of `MultiIndexSet`."
   ]
  },
  {
   "cell_type": "code",
   "execution_count": null,
   "id": "0c19ae50-684e-4766-863b-d92fa5120bba",
   "metadata": {},
   "outputs": [],
   "source": [
    "mi.make_downward_closed()"
   ]
  },
  {
   "cell_type": "markdown",
   "id": "08dc6cbf-6235-436f-bd0e-fe0b5d271b9f",
   "metadata": {},
   "source": [
    "The method returns a new instance of `MultiIndexSet` and can be stored in a variable for further use:"
   ]
  },
  {
   "cell_type": "code",
   "execution_count": null,
   "id": "f66557d5-8d81-4919-937c-ba5f16b9a56d",
   "metadata": {},
   "outputs": [],
   "source": [
    "mi_downward_closed = mi.make_downward_closed()"
   ]
  },
  {
   "cell_type": "markdown",
   "id": "9490975f-6abd-4060-b6e3-be82041e838e",
   "metadata": {},
   "source": [
    "And indeed, the resulting multi-index set is downward-closed:"
   ]
  },
  {
   "cell_type": "code",
   "execution_count": null,
   "id": "a9b6e2a7-7ff5-4957-8e3f-ac789efe31e0",
   "metadata": {},
   "outputs": [],
   "source": [
    "mi_downward_closed.is_downward_closed"
   ]
  },
  {
   "cell_type": "markdown",
   "id": "d678a580-bdd4-4bd4-9344-d7e8e8b8d53b",
   "metadata": {},
   "source": [
    "## Downward-closedness vs completeness\n",
    "\n",
    "All complete multi-index sets (see {doc}`multi-index-set-complete`) are downward-closed. A downward-closed multi-index set, however, may or may not be complete. A complete set must be defined with respect to the corresponding polynomial degree and the chosen $l_p$-degree."
   ]
  },
  {
   "cell_type": "markdown",
   "id": "c6fb75e6-2972-4a0c-9895-eed02bd4dd85",
   "metadata": {},
   "source": [
    "In the example above, the downward-closed multi-index set has the following polynomial degree with respect to the chosen $l_p$-degree ($1.0$):"
   ]
  },
  {
   "cell_type": "code",
   "execution_count": null,
   "id": "4be50f9c-0f80-4c7a-95c9-5c1071c8e2c1",
   "metadata": {},
   "outputs": [],
   "source": [
    "mi_downward_closed.poly_degree"
   ]
  },
  {
   "cell_type": "markdown",
   "id": "1be26c6e-c11b-4fc9-aac5-00208e75cbdd",
   "metadata": {},
   "source": [
    "```{note}\n",
    "This polynomial degree corresponds to the minimum degree $n$ such that all elements in the multi-index set satisfy the $l_p$-norm condition $\\lVert \\boldsymbol{\\alpha} \\rVert_p = (\\alpha_1^p + \\ldots + \\alpha_m^p)^{\\frac{1}{p}} \\leq n$ for all $\\boldsymbol{\\alpha} \\in A$.\n",
    "```"
   ]
  },
  {
   "cell_type": "markdown",
   "id": "686ea12a-6ec4-4a08-8c85-b761179907bf",
   "metadata": {},
   "source": [
    "The corresponding complete multi-index set is (the method `from_degree()` constructs a complete set):"
   ]
  },
  {
   "cell_type": "code",
   "execution_count": null,
   "id": "4e8cd7d3-aa61-403a-a84d-ff02fcfd0a63",
   "metadata": {},
   "outputs": [],
   "source": [
    "mp.MultiIndexSet.from_degree(\n",
    "    mi_downward_closed.spatial_dimension,\n",
    "    mi_downward_closed.poly_degree,\n",
    "    mi_downward_closed.lp_degree,\n",
    ")"
   ]
  },
  {
   "cell_type": "markdown",
   "id": "de3ab73f-9bd9-4dc3-b6f2-a07df3670a16",
   "metadata": {},
   "source": [
    "which contains additional multi-index elements."
   ]
  },
  {
   "cell_type": "markdown",
   "id": "f4ac700c-f2c9-4975-8a18-85c48d7ad92c",
   "metadata": {},
   "source": [
    "```{note}\n",
    "Downward-closedness and completeness coincide when the lexicographically largest multi-index element of a _multi-dimensional_ set has all the same values (i.e., $\\boldsymbol{\\alpha}_{\\max} = \\left( k, \\ldots, k \\right),\\; k \\in \\mathbb{N}_{\\geq 0}$). The corresponding downward-closed set is the same as the complete set with respect to polynomial degree $k$ and $l_p$-degree $\\infty$.\n",
    "```"
   ]
  }
 ],
 "metadata": {
  "kernelspec": {
   "display_name": "Python 3 (ipykernel)",
   "language": "python",
   "name": "python3"
  },
  "language_info": {
   "codemirror_mode": {
    "name": "ipython",
    "version": 3
   },
   "file_extension": ".py",
   "mimetype": "text/x-python",
   "name": "python",
   "nbconvert_exporter": "python",
   "pygments_lexer": "ipython3",
   "version": "3.8.18"
  }
 },
 "nbformat": 4,
 "nbformat_minor": 5
}
