{
 "cells": [
  {
   "cell_type": "markdown",
   "id": "f37c96eb-ccaa-48ae-8950-2c70e195da03",
   "metadata": {},
   "source": [
    "# Compare MultiIndexSet Instances"
   ]
  },
  {
   "cell_type": "code",
   "execution_count": 1,
   "id": "9a31baab-58d9-4bec-ad3c-9a636b9821b0",
   "metadata": {
    "ExecuteTime": {
     "end_time": "2024-02-19T15:17:16.557895700Z",
     "start_time": "2024-02-19T15:17:15.542891900Z"
    }
   },
   "outputs": [],
   "source": [
    "import minterpy as mp\n",
    "import numpy as np"
   ]
  },
  {
   "cell_type": "markdown",
   "id": "c63562c0-ee9f-4de6-bc5d-f0ff72b4be1f",
   "metadata": {},
   "source": [
    "This guide shows how to check whether a `MultiIndexSet` instance is a superset or subset of another `MultiIndexSet` instance.\n",
    "\n",
    "The guide covers the following methods of a `MultiIndexSet` instance:\n",
    "\n",
    "- `is_subset()` (resp. `is_propsubset()`) checks whether a `MultiIndexSet` instance is a subset (resp. proper subset) of another `MultiIndexSet` instance.\n",
    "- `is_superset()` (resp. `is_propsuperset()`) checks whether a `MultiIndexSet` instance is a superset (resp. proper superset) of another `MultiIndexSet` instance.\n",
    "\n",
    "Operators may also be used instead of (some) methods above."
   ]
  },
  {
   "cell_type": "markdown",
   "id": "4c6a6b9b-e11f-4f27-96bc-81076bfc37c1",
   "metadata": {},
   "source": [
    "## Motivating example"
   ]
  },
  {
   "cell_type": "markdown",
   "id": "883618a3-742b-45ed-b945-3bd56f740441",
   "metadata": {},
   "source": [
    "As a motivating example, consider the following three multi-index sets of the same dimension and $l_p$-degree of $2.0$:\n",
    "\n",
    "\\begin{align*}\n",
    "A & = \\left\\{ (0, 0, 0), (1, 0, 0), (2, 0, 0), (0, 1, 0), (1, 1, 0) \\right\\}\\\\\n",
    "B & = \\left\\{ (0, 0, 0), (1, 0, 0) \\right\\}\\\\\n",
    "C & = \\left\\{ (0, 0, 0), (2, 0, 0), (0, 1, 0), (1, 1, 0), (0, 0, 2) \\right\\}\n",
    "\\end{align*}"
   ]
  },
  {
   "cell_type": "code",
   "execution_count": 2,
   "id": "15893b78-f97d-4da7-aa92-ca88881b024e",
   "metadata": {
    "ExecuteTime": {
     "end_time": "2024-02-19T15:17:16.579907600Z",
     "start_time": "2024-02-19T15:17:16.563897400Z"
    }
   },
   "outputs": [],
   "source": [
    "mi_a = mp.MultiIndexSet(\n",
    "    np.array([[0, 0, 0], [1, 0, 0], [2, 0, 0], [0, 1, 0], [1, 1, 0]]),\n",
    "    lp_degree=2.0,\n",
    ")\n",
    "mi_b = mp.MultiIndexSet(\n",
    "    np.array([[0, 0, 0], [1, 0, 0]]),\n",
    "    lp_degree=2.0,\n",
    ")\n",
    "mi_c = mp.MultiIndexSet(\n",
    "    np.array(\n",
    "        [[0, 0, 0], [2, 0, 0], [0, 1, 0], [1, 1, 0], [0, 0, 2]],\n",
    "    ),\n",
    "    lp_degree=2.0,\n",
    ")"
   ]
  },
  {
   "cell_type": "markdown",
   "source": [
    "## Check for superset\n",
    "\n",
    "The operator `>=` is used to check whether a given `MultiIndexSet` instance is a superset of another `MultiIndexSet` instance (i.e., checking if $A \\supseteq B$).\n",
    "The method returns `True` if the given `MultiIndexSet` is a superset of another instance and `False` otherwise.\n",
    "Note that both of the operands must be instances of the `MultiIndexSet` class."
   ],
   "metadata": {
    "collapsed": false
   },
   "id": "5d8913dfaeac8368"
  },
  {
   "cell_type": "markdown",
   "source": [
    "For instance, to check if the multi-index set $A$ is a superset of $B$ (it is):"
   ],
   "metadata": {
    "collapsed": false
   },
   "id": "ef891baf8d2203c6"
  },
  {
   "cell_type": "code",
   "outputs": [
    {
     "data": {
      "text/plain": "True"
     },
     "execution_count": 3,
     "metadata": {},
     "output_type": "execute_result"
    }
   ],
   "source": [
    "mi_a >= mi_b"
   ],
   "metadata": {
    "collapsed": false,
    "ExecuteTime": {
     "end_time": "2024-02-19T15:17:16.608895900Z",
     "start_time": "2024-02-19T15:17:16.575896500Z"
    }
   },
   "id": "99d2c78577e03a52",
   "execution_count": 3
  },
  {
   "cell_type": "markdown",
   "source": [
    "Alternatively, the method `is_superset()` may also be used:"
   ],
   "metadata": {
    "collapsed": false
   },
   "id": "44a05ba57b9e9efe"
  },
  {
   "cell_type": "code",
   "outputs": [
    {
     "data": {
      "text/plain": "True"
     },
     "execution_count": 4,
     "metadata": {},
     "output_type": "execute_result"
    }
   ],
   "source": [
    "mi_a.is_superset(mi_b)"
   ],
   "metadata": {
    "collapsed": false,
    "ExecuteTime": {
     "end_time": "2024-02-19T15:17:16.609896900Z",
     "start_time": "2024-02-19T15:17:16.591895500Z"
    }
   },
   "id": "7f41d8f28e073de6",
   "execution_count": 4
  },
  {
   "cell_type": "markdown",
   "source": [
    "On the other hand, the multi-index set $C$ is _not_ a superset of $B$:"
   ],
   "metadata": {
    "collapsed": false
   },
   "id": "e93acea87ce23b70"
  },
  {
   "cell_type": "code",
   "outputs": [
    {
     "data": {
      "text/plain": "False"
     },
     "execution_count": 5,
     "metadata": {},
     "output_type": "execute_result"
    }
   ],
   "source": [
    "mi_c >= mi_b"
   ],
   "metadata": {
    "collapsed": false,
    "ExecuteTime": {
     "end_time": "2024-02-19T15:17:16.626897300Z",
     "start_time": "2024-02-19T15:17:16.606895500Z"
    }
   },
   "id": "5636a93130b33105",
   "execution_count": 5
  },
  {
   "cell_type": "markdown",
   "source": [
    "### Proper superset\n",
    "\n",
    "To determine whether a `MultiIndexSet` instance is a _proper superset_ of another, the operator `>` is used.\n",
    "For instance, a set is a subset of itself but not its proper superset:"
   ],
   "metadata": {
    "collapsed": false
   },
   "id": "79c1e2e1676c64fa"
  },
  {
   "cell_type": "code",
   "outputs": [
    {
     "data": {
      "text/plain": "False"
     },
     "execution_count": 6,
     "metadata": {},
     "output_type": "execute_result"
    }
   ],
   "source": [
    "mi_a > mi_a"
   ],
   "metadata": {
    "collapsed": false,
    "ExecuteTime": {
     "end_time": "2024-02-19T15:17:16.671898100Z",
     "start_time": "2024-02-19T15:17:16.624895900Z"
    }
   },
   "id": "458ba01863d23043",
   "execution_count": 6
  },
  {
   "cell_type": "markdown",
   "source": [
    "Alternatively, the method `is_propsuperset()` may also be used:"
   ],
   "metadata": {
    "collapsed": false
   },
   "id": "17e9629b54879c25"
  },
  {
   "cell_type": "code",
   "outputs": [
    {
     "data": {
      "text/plain": "False"
     },
     "execution_count": 7,
     "metadata": {},
     "output_type": "execute_result"
    }
   ],
   "source": [
    "mi_a.is_propsuperset(mi_a)"
   ],
   "metadata": {
    "collapsed": false,
    "ExecuteTime": {
     "end_time": "2024-02-19T15:17:16.672897100Z",
     "start_time": "2024-02-19T15:17:16.638896900Z"
    }
   },
   "id": "e70b0255311d4b08",
   "execution_count": 7
  },
  {
   "cell_type": "code",
   "outputs": [
    {
     "data": {
      "text/plain": "True"
     },
     "execution_count": 8,
     "metadata": {},
     "output_type": "execute_result"
    }
   ],
   "source": [
    "mi_a.is_propsuperset(mi_b)"
   ],
   "metadata": {
    "collapsed": false,
    "ExecuteTime": {
     "end_time": "2024-02-19T15:17:16.705897500Z",
     "start_time": "2024-02-19T15:17:16.654896600Z"
    }
   },
   "id": "39e0d9922531cc89",
   "execution_count": 8
  },
  {
   "cell_type": "markdown",
   "source": [
    "## Check for subset\n",
    "\n",
    "The operator `<=` is used to check whether a given `MultiIndexSet` instance is a subset of another `MultiIndexSet` instance (i.e., checking if $A \\subseteq B$).\n",
    "The method returns `True` if the given `MultiIndexSet` is a subset of another instance and `False` otherwise.\n",
    "Note that both of the operands must be of `MultiIndexSet`."
   ],
   "metadata": {
    "collapsed": false
   },
   "id": "e557449e6c2811e5"
  },
  {
   "cell_type": "markdown",
   "source": [
    "For instance, to check if the multi-index set $B$ is a subset of $A$ (it is):"
   ],
   "metadata": {
    "collapsed": false
   },
   "id": "7ba64886347c1428"
  },
  {
   "cell_type": "code",
   "outputs": [
    {
     "data": {
      "text/plain": "True"
     },
     "execution_count": 9,
     "metadata": {},
     "output_type": "execute_result"
    }
   ],
   "source": [
    "mi_b <= mi_a"
   ],
   "metadata": {
    "collapsed": false,
    "ExecuteTime": {
     "end_time": "2024-02-19T15:17:16.708901900Z",
     "start_time": "2024-02-19T15:17:16.670911Z"
    }
   },
   "id": "b968829fe62ec68",
   "execution_count": 9
  },
  {
   "cell_type": "markdown",
   "source": [
    "Alternatively, the method `is_subset()` may also be used:"
   ],
   "metadata": {
    "collapsed": false
   },
   "id": "d8db4cbbcea4a52b"
  },
  {
   "cell_type": "code",
   "outputs": [
    {
     "data": {
      "text/plain": "True"
     },
     "execution_count": 10,
     "metadata": {},
     "output_type": "execute_result"
    }
   ],
   "source": [
    "mi_b.is_subset(mi_a)"
   ],
   "metadata": {
    "collapsed": false,
    "ExecuteTime": {
     "end_time": "2024-02-19T15:17:16.709896400Z",
     "start_time": "2024-02-19T15:17:16.686898400Z"
    }
   },
   "id": "b9e46920ced601b0",
   "execution_count": 10
  },
  {
   "cell_type": "markdown",
   "source": [
    "On the other hand, the multi-index set $B$ is _not_ a subset of $C$:"
   ],
   "metadata": {
    "collapsed": false
   },
   "id": "2cde16aed3df9d31"
  },
  {
   "cell_type": "code",
   "outputs": [
    {
     "data": {
      "text/plain": "False"
     },
     "execution_count": 11,
     "metadata": {},
     "output_type": "execute_result"
    }
   ],
   "source": [
    "mi_b <= mi_c"
   ],
   "metadata": {
    "collapsed": false,
    "ExecuteTime": {
     "end_time": "2024-02-19T15:17:16.762903600Z",
     "start_time": "2024-02-19T15:17:16.702897200Z"
    }
   },
   "id": "6c8af2ee9144f6db",
   "execution_count": 11
  },
  {
   "cell_type": "markdown",
   "source": [
    "or:"
   ],
   "metadata": {
    "collapsed": false
   },
   "id": "e4fbbcf3e70ac57b"
  },
  {
   "cell_type": "code",
   "outputs": [
    {
     "data": {
      "text/plain": "False"
     },
     "execution_count": 12,
     "metadata": {},
     "output_type": "execute_result"
    }
   ],
   "source": [
    "mi_b.is_subset(mi_c)"
   ],
   "metadata": {
    "collapsed": false,
    "ExecuteTime": {
     "end_time": "2024-02-19T15:17:16.764896600Z",
     "start_time": "2024-02-19T15:17:16.719905800Z"
    }
   },
   "id": "d9cdf1d7b2aa0a25",
   "execution_count": 12
  },
  {
   "cell_type": "markdown",
   "source": [
    "### Proper subset\n",
    "\n",
    "To determine whether a `MultiIndexSet` instance is a _proper subset_ of another, the operator `<` is used.\n",
    "For instance, a set is a subset of itself but not its proper subset:"
   ],
   "metadata": {
    "collapsed": false
   },
   "id": "d64460bfb132e827"
  },
  {
   "cell_type": "code",
   "outputs": [
    {
     "data": {
      "text/plain": "False"
     },
     "execution_count": 13,
     "metadata": {},
     "output_type": "execute_result"
    }
   ],
   "source": [
    "mi_a < mi_a"
   ],
   "metadata": {
    "collapsed": false,
    "ExecuteTime": {
     "end_time": "2024-02-19T15:17:16.765896600Z",
     "start_time": "2024-02-19T15:17:16.734897100Z"
    }
   },
   "id": "4e94794e9241e5f9",
   "execution_count": 13
  },
  {
   "cell_type": "markdown",
   "source": [
    "Alternatively, the method `is_propsubset()` may also be used:"
   ],
   "metadata": {
    "collapsed": false
   },
   "id": "5fa013608b75e34f"
  },
  {
   "cell_type": "code",
   "outputs": [
    {
     "data": {
      "text/plain": "False"
     },
     "execution_count": 14,
     "metadata": {},
     "output_type": "execute_result"
    }
   ],
   "source": [
    "mi_a.is_propsubset(mi_a)"
   ],
   "metadata": {
    "collapsed": false,
    "ExecuteTime": {
     "end_time": "2024-02-19T15:17:16.806903900Z",
     "start_time": "2024-02-19T15:17:16.750896400Z"
    }
   },
   "id": "77f331d0f73f0446",
   "execution_count": 14
  },
  {
   "cell_type": "code",
   "outputs": [
    {
     "data": {
      "text/plain": "True"
     },
     "execution_count": 15,
     "metadata": {},
     "output_type": "execute_result"
    }
   ],
   "source": [
    "mi_b.is_propsubset(mi_a)"
   ],
   "metadata": {
    "collapsed": false,
    "ExecuteTime": {
     "end_time": "2024-02-19T15:17:16.808902700Z",
     "start_time": "2024-02-19T15:17:16.766897400Z"
    }
   },
   "id": "cc9e88095f834b8f",
   "execution_count": 15
  },
  {
   "cell_type": "markdown",
   "source": [
    "## Check for disjoint\n",
    "\n",
    "Two determine whether a `MultiIndexSet` instance is disjoint with another, the method `is_disjoint()` is used.\n",
    "For instance, the multi-index sets $A$, $B$, and $C$ are not disjoint because their intersection is not empty:"
   ],
   "metadata": {
    "collapsed": false
   },
   "id": "39cab1f716b39ee5"
  },
  {
   "cell_type": "code",
   "outputs": [
    {
     "data": {
      "text/plain": "False"
     },
     "execution_count": 16,
     "metadata": {},
     "output_type": "execute_result"
    }
   ],
   "source": [
    "mi_a.is_disjoint(mi_b)"
   ],
   "metadata": {
    "collapsed": false,
    "ExecuteTime": {
     "end_time": "2024-02-19T15:17:16.840896Z",
     "start_time": "2024-02-19T15:17:16.781897200Z"
    }
   },
   "id": "933c093fb05a6327",
   "execution_count": 16
  },
  {
   "cell_type": "code",
   "outputs": [
    {
     "data": {
      "text/plain": "False"
     },
     "execution_count": 17,
     "metadata": {},
     "output_type": "execute_result"
    }
   ],
   "source": [
    "mi_b.is_disjoint(mi_c)"
   ],
   "metadata": {
    "collapsed": false,
    "ExecuteTime": {
     "end_time": "2024-02-19T15:17:16.843896400Z",
     "start_time": "2024-02-19T15:17:16.797898800Z"
    }
   },
   "id": "71b908bb5c9c713c",
   "execution_count": 17
  },
  {
   "cell_type": "code",
   "outputs": [
    {
     "data": {
      "text/plain": "False"
     },
     "execution_count": 18,
     "metadata": {},
     "output_type": "execute_result"
    }
   ],
   "source": [
    "mi_c.is_disjoint(mi_a)"
   ],
   "metadata": {
    "collapsed": false,
    "ExecuteTime": {
     "end_time": "2024-02-19T15:17:16.844896800Z",
     "start_time": "2024-02-19T15:17:16.813896700Z"
    }
   },
   "id": "6d9c492e8516b430",
   "execution_count": 18
  },
  {
   "cell_type": "markdown",
   "source": [
    "They are, however, disjoint with the set $\\left\\{ (2, 2, 2) \\right\\}$:"
   ],
   "metadata": {
    "collapsed": false
   },
   "id": "36d3eddf0ccac9d1"
  },
  {
   "cell_type": "code",
   "outputs": [],
   "source": [
    "mi_d = mp.MultiIndexSet(np.array([[2, 2, 2]]), lp_degree=1.0)"
   ],
   "metadata": {
    "collapsed": false,
    "ExecuteTime": {
     "end_time": "2024-02-19T15:17:16.874897900Z",
     "start_time": "2024-02-19T15:17:16.830896700Z"
    }
   },
   "id": "dec6bffadd687c62",
   "execution_count": 19
  },
  {
   "cell_type": "code",
   "outputs": [
    {
     "data": {
      "text/plain": "True"
     },
     "execution_count": 20,
     "metadata": {},
     "output_type": "execute_result"
    }
   ],
   "source": [
    "mi_a.is_disjoint(mi_d)"
   ],
   "metadata": {
    "collapsed": false,
    "ExecuteTime": {
     "end_time": "2024-02-19T15:17:16.876898Z",
     "start_time": "2024-02-19T15:17:16.845898500Z"
    }
   },
   "id": "8a18aefa0ae4a48d",
   "execution_count": 20
  },
  {
   "cell_type": "code",
   "outputs": [
    {
     "data": {
      "text/plain": "True"
     },
     "execution_count": 21,
     "metadata": {},
     "output_type": "execute_result"
    }
   ],
   "source": [
    "mi_b.is_disjoint(mi_d)"
   ],
   "metadata": {
    "collapsed": false,
    "ExecuteTime": {
     "end_time": "2024-02-19T15:17:16.877896900Z",
     "start_time": "2024-02-19T15:17:16.862898500Z"
    }
   },
   "id": "57b8e1ecf6e338a2",
   "execution_count": 21
  },
  {
   "cell_type": "code",
   "outputs": [
    {
     "data": {
      "text/plain": "True"
     },
     "execution_count": 22,
     "metadata": {},
     "output_type": "execute_result"
    }
   ],
   "source": [
    "mi_c.is_disjoint(mi_d)"
   ],
   "metadata": {
    "collapsed": false,
    "ExecuteTime": {
     "end_time": "2024-02-19T15:17:16.923899200Z",
     "start_time": "2024-02-19T15:17:16.878897200Z"
    }
   },
   "id": "c69685eba77f1b48",
   "execution_count": 22
  },
  {
   "cell_type": "markdown",
   "source": [
    "## Different in Spatial Dimension\n",
    "\n",
    "Using operators to check whether a set is either a subset or superset of another does not require the spatial dimension of the operands to be equal.\n",
    "For instance the set:\n",
    "\n",
    "$$\n",
    "E = \\left\\{ (0, 0), (1, 0), (2, 0) \\right\\}\n",
    "$$\n",
    "\n",
    "is a subset of:\n",
    "\n",
    "$$\n",
    "F = \\left\\{ (0, 0, 0), (1, 0, 0), (2, 0, 0), (0, 1, 0), (1, 1, 0) \\right\\}\n",
    "$$\n",
    "\n",
    "as the dimension of set $D$ is first expanded such that:\n",
    "\n",
    "$$\n",
    "E = \\left\\{ (0, 0, 0), (1, 0, 0), (2, 0, 0) \\right\\}.\n",
    "$$"
   ],
   "metadata": {
    "collapsed": false
   },
   "id": "54c346c6c5a7718e"
  },
  {
   "cell_type": "code",
   "outputs": [],
   "source": [
    "mi_e = mp.MultiIndexSet(np.array([[0, 0], [1, 0], [2, 0]]), lp_degree=1.0)\n",
    "mi_f = mp.MultiIndexSet(\n",
    "    np.array([[0, 0, 0], [1, 0, 0], [2, 0, 0], [0, 1, 0], [1, 1, 0]]),\n",
    "    lp_degree=1.0,\n",
    ")"
   ],
   "metadata": {
    "collapsed": false,
    "ExecuteTime": {
     "end_time": "2024-02-19T15:17:16.924900300Z",
     "start_time": "2024-02-19T15:17:16.895898100Z"
    }
   },
   "id": "87b936dd38e51f3d",
   "execution_count": 23
  },
  {
   "cell_type": "code",
   "outputs": [
    {
     "data": {
      "text/plain": "True"
     },
     "execution_count": 24,
     "metadata": {},
     "output_type": "execute_result"
    }
   ],
   "source": [
    "mi_e <= mi_f"
   ],
   "metadata": {
    "collapsed": false,
    "ExecuteTime": {
     "end_time": "2024-02-19T15:17:16.950932500Z",
     "start_time": "2024-02-19T15:17:16.909897400Z"
    }
   },
   "id": "4e1defae65fced19",
   "execution_count": 24
  },
  {
   "cell_type": "markdown",
   "source": [
    "To strict the checking only for instances of the same dimension, use the method call instead (e.g., `mi_d.is_subset(mi_e)`).\n",
    "If there's a dimension mismatch, an exception is raised.\n",
    "\n",
    "The parameter `expand_dim` of the methods can be used to alter this behavior; note that this parameter is default to `False`.\n",
    "For instance:"
   ],
   "metadata": {
    "collapsed": false
   },
   "id": "81c6495b49a06de9"
  },
  {
   "cell_type": "code",
   "outputs": [
    {
     "data": {
      "text/plain": "True"
     },
     "execution_count": 25,
     "metadata": {},
     "output_type": "execute_result"
    }
   ],
   "source": [
    "mi_e.is_subset(mi_f, expand_dim=True)"
   ],
   "metadata": {
    "collapsed": false,
    "ExecuteTime": {
     "end_time": "2024-02-19T15:17:16.952896900Z",
     "start_time": "2024-02-19T15:17:16.924900300Z"
    }
   },
   "id": "28ba5b5a541ff647",
   "execution_count": 25
  }
 ],
 "metadata": {
  "kernelspec": {
   "display_name": "Python 3 (ipykernel)",
   "language": "python",
   "name": "python3"
  },
  "language_info": {
   "codemirror_mode": {
    "name": "ipython",
    "version": 3
   },
   "file_extension": ".py",
   "mimetype": "text/x-python",
   "name": "python",
   "nbconvert_exporter": "python",
   "pygments_lexer": "ipython3",
   "version": "3.8.17"
  }
 },
 "nbformat": 4,
 "nbformat_minor": 5
}
