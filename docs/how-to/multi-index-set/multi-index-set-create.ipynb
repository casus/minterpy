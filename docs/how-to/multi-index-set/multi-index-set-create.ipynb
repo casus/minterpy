{
 "cells": [
  {
   "cell_type": "markdown",
   "id": "d6a11f9a-d895-4cc7-befa-bac340b8915d",
   "metadata": {},
   "source": [
    "# Create a Multi-Index Set"
   ]
  },
  {
   "cell_type": "code",
   "execution_count": 1,
   "id": "b86f737a-bdc7-432e-ab3f-939491391220",
   "metadata": {},
   "outputs": [],
   "source": [
    "import minterpy as mp\n",
    "import numpy as np"
   ]
  },
  {
   "cell_type": "markdown",
   "id": "b81abe18-3ed4-4925-a09e-bdd95e4b0880",
   "metadata": {},
   "source": [
    "A Minterpy polynomial is defined with respect to a multi-index set; the set defines the polynomial degrees across different spatial dimensions. This guide provides an example on how-to construct a multi-index set in Minterpy using different constructors.\n",
    "\n",
    "Currently, Minterpy supports the creation of a multi-index set via two constructors:\n",
    "\n",
    "- `minterpy.MultiIndexSet.from_degree()` is used to create a complete multi-index set with a given spatial dimension, polynomial degree, and $l_p$-degree\n",
    "- `minterpy.MultiIndexSet()` (the default constructor) is used to create a multi-index set with a given set of exponents and $l_p$-degree"
   ]
  },
  {
   "cell_type": "markdown",
   "id": "72d91dfd-ba93-48da-9de1-b7584c7a0428",
   "metadata": {},
   "source": [
    "## From a given spatial dimension, polynomial degree, and $l_p$-degree"
   ]
  },
  {
   "cell_type": "markdown",
   "id": "55121107-73ca-422f-8afa-7fc6b1852c14",
   "metadata": {},
   "source": [
    "The constructor `minterpy.MultiIndexSet.from_degree()` can be used to create a complete multi-index set for a given spatial dimension, degree, and $l_p$-degree.\n",
    "The constructor takes the following (positional) arguments:\n",
    "\n",
    "- `spatial_dimension`: the number of spatial dimensions ($m$) of the multi-index set (must be an integer $> 0$)\n",
    "- `poly_degree`: the polynomial degree ($n$) of the multi-index set (must be an integer $\\geq 0$)\n",
    "- `lp_degree`: the degree $p$ of the $l_p$-norm of the multi-index set (optional but must be a positive float; if not given, a default value of $2.0$ is used)"
   ]
  },
  {
   "cell_type": "markdown",
   "id": "57be42da-5e4d-4dba-995d-a2420b76091a",
   "metadata": {},
   "source": [
    "```{note}\n",
    "The set constructed via `from_degree()` constructor is _complete_ in the sense that it contains _all_ the exponents $\\boldsymbol{\\alpha} = \\left( \\alpha_1, \\ldots, \\alpha_m \\right) \\in \\mathbb{N}^m$ such that the $l_p$-norm $\\lVert \\boldsymbol{\\alpha} \\rVert_{p} = (\\alpha_1^{p} + \\ldots + \\alpha_M^{p})^{\\frac{1}{p}} \\leq n$ holds.\n",
    "```"
   ]
  },
  {
   "cell_type": "markdown",
   "id": "28883cab-94ba-47ae-8b22-b1e05731a4bc",
   "metadata": {},
   "source": [
    "Suppose we would like to create a multi-index set of spatial dimension $3$, polynomial degree $2$, and the default $l_p$-degree:"
   ]
  },
  {
   "cell_type": "code",
   "execution_count": 2,
   "id": "c8e145cf-5125-456b-966a-96039aeaded5",
   "metadata": {},
   "outputs": [],
   "source": [
    "mi = mp.MultiIndexSet.from_degree(3, 2)"
   ]
  },
  {
   "cell_type": "markdown",
   "id": "10e9b9d3-332f-4487-ad60-703e62ec06fa",
   "metadata": {},
   "source": [
    "The resulting multi-index set can be printed to the terminal:"
   ]
  },
  {
   "cell_type": "code",
   "execution_count": 3,
   "id": "fa8ea545-35c1-4d7c-a0d2-89719bd1966e",
   "metadata": {},
   "outputs": [
    {
     "name": "stdout",
     "output_type": "stream",
     "text": [
      "MultiIndexSet\n",
      "[[0 0 0]\n",
      " [1 0 0]\n",
      " [2 0 0]\n",
      " [0 1 0]\n",
      " [1 1 0]\n",
      " [0 2 0]\n",
      " [0 0 1]\n",
      " [1 0 1]\n",
      " [0 1 1]\n",
      " [1 1 1]\n",
      " [0 0 2]]\n"
     ]
    }
   ],
   "source": [
    "print(mi)"
   ]
  },
  {
   "cell_type": "markdown",
   "id": "51a31f45-8c4d-40eb-bb82-b8a1a1c87341",
   "metadata": {},
   "source": [
    "The `MultiIndexSet` instance stores the exponents in the `exponents` property:"
   ]
  },
  {
   "cell_type": "code",
   "execution_count": 4,
   "id": "bd9199a3-af9e-4cad-a7b0-1458f92ee209",
   "metadata": {},
   "outputs": [
    {
     "name": "stdout",
     "output_type": "stream",
     "text": [
      "[[0 0 0]\n",
      " [1 0 0]\n",
      " [2 0 0]\n",
      " [0 1 0]\n",
      " [1 1 0]\n",
      " [0 2 0]\n",
      " [0 0 1]\n",
      " [1 0 1]\n",
      " [0 1 1]\n",
      " [1 1 1]\n",
      " [0 0 2]]\n"
     ]
    }
   ],
   "source": [
    "print(mi.exponents)"
   ]
  },
  {
   "cell_type": "markdown",
   "id": "fbc4bf35-b1cb-4681-b685-ece47a138722",
   "metadata": {},
   "source": [
    "The `exponents` property is a NumPy integer array with the given spatial dimension as the number of columns. The first column corresponds to the exponents of polynomial basis of the first dimension, the second column the second dimension, etc.\n",
    "\n",
    "The number of elements of the resulting multi-index set is determined by the choice of the parameters such that the resulting set is complete. In the example above, the set contains all the exponents $\\boldsymbol{\\alpha} = \\left( \\alpha_1, \\alpha_2, \\alpha_3 \\right)$ such that $\\lVert \\boldsymbol{\\alpha} \\rVert_{2.0} = \\left( \\alpha_1^{2.0} + \\alpha_2^{2.0} + \\alpha_3^{2.0} \\right)^{\\frac{1}{2.0}} \\leq 2$."
   ]
  },
  {
   "cell_type": "markdown",
   "id": "55debd78-e117-48ea-b025-2937588da45b",
   "metadata": {},
   "source": [
    "## From a given set of exponents and $l_p$-degree"
   ]
  },
  {
   "cell_type": "markdown",
   "id": "b0e77aae-ba96-44ba-83ee-a28f83b5f8b5",
   "metadata": {},
   "source": [
    "Alternatively, a `MultiIndexSet` instance can be constructed by passing a set of exponents and the corresponding $l_p$-degree using the default constructor (`minterpy.MultiIndexSet()`). The set of exponents must be given as a NumPy integer array.\n",
    "\n",
    "Suppose we would like to create a multi-index set with the following exponents:\n",
    "\n",
    "$$\n",
    "A = \\left\\{ (0, 0), (1, 0), (0, 1), (0, 2), (0, 3) \\right\\}\n",
    "$$\n",
    "\n",
    "having $l_p$-degree of $1.0$. Notice that from the given set of exponents, the spatial dimension of the multi-index set is $2$."
   ]
  },
  {
   "cell_type": "markdown",
   "id": "706e48e7-9b43-47eb-aa21-5e2739b99b28",
   "metadata": {},
   "source": [
    "Create and store the exponents as a NumPy integer array:"
   ]
  },
  {
   "cell_type": "code",
   "execution_count": 5,
   "id": "1712c31b-95f6-4120-97ff-9dea9f4cc7a8",
   "metadata": {},
   "outputs": [
    {
     "data": {
      "text/plain": [
       "array([[0, 0],\n",
       "       [1, 0],\n",
       "       [0, 1],\n",
       "       [0, 2],\n",
       "       [0, 3]])"
      ]
     },
     "execution_count": 5,
     "metadata": {},
     "output_type": "execute_result"
    }
   ],
   "source": [
    "exps = np.array([[0, 0], [1, 0], [0, 1], [0, 2], [0, 3]], dtype=int)\n",
    "exps"
   ]
  },
  {
   "cell_type": "code",
   "execution_count": 6,
   "id": "5d538197-9f6e-4106-9516-9abe80b85af5",
   "metadata": {},
   "outputs": [],
   "source": [
    "mi = mp.MultiIndexSet(exps, lp_degree=1.0)"
   ]
  },
  {
   "cell_type": "markdown",
   "id": "30739c9b-b855-4587-905e-184bd256874b",
   "metadata": {},
   "source": [
    "Verify that the resulting `MultiIndexSet` instance has the exponents as given:"
   ]
  },
  {
   "cell_type": "code",
   "execution_count": 7,
   "id": "7a2aa9a2-89a3-49a1-8f1b-1b0162cc4321",
   "metadata": {},
   "outputs": [
    {
     "name": "stdout",
     "output_type": "stream",
     "text": [
      "MultiIndexSet\n",
      "[[0 0]\n",
      " [1 0]\n",
      " [0 1]\n",
      " [0 2]\n",
      " [0 3]]\n"
     ]
    }
   ],
   "source": [
    "print(mi)"
   ]
  },
  {
   "cell_type": "markdown",
   "id": "8bd79638-c72c-4260-8448-6d5cb16d2f71",
   "metadata": {},
   "source": [
    "...and the $l_p$-degree as given:"
   ]
  },
  {
   "cell_type": "code",
   "execution_count": 11,
   "id": "486b2b3c-1db0-4235-ac12-86e2a7642dbe",
   "metadata": {},
   "outputs": [
    {
     "name": "stdout",
     "output_type": "stream",
     "text": [
      "1.0\n"
     ]
    }
   ],
   "source": [
    "print(mi.lp_degree)"
   ]
  },
  {
   "cell_type": "markdown",
   "id": "518ed122-d516-467c-9ed9-bd81afa8c5eb",
   "metadata": {},
   "source": [
    "The spatial dimension of the multi-index set is inferred from the given exponents (i.e., the number of columns of the exponents):"
   ]
  },
  {
   "cell_type": "code",
   "execution_count": 12,
   "id": "c8516299-46dc-47fc-b10e-8e2a274d124c",
   "metadata": {},
   "outputs": [
    {
     "name": "stdout",
     "output_type": "stream",
     "text": [
      "2\n"
     ]
    }
   ],
   "source": [
    "print(mi.spatial_dimension)"
   ]
  },
  {
   "cell_type": "markdown",
   "id": "b0978a77-c526-4efa-a21d-78acee33bf7c",
   "metadata": {},
   "source": [
    "The polynomial degree of the multi-index set is also inferred from the given exponents and the $l_p$-degree (the $l_p$-degree, on the other hand, cannot be inferred from the exponents and therefore must be provided):"
   ]
  },
  {
   "cell_type": "code",
   "execution_count": 13,
   "id": "76c88428-e3f2-4be2-9e36-ce48a991b250",
   "metadata": {},
   "outputs": [
    {
     "name": "stdout",
     "output_type": "stream",
     "text": [
      "3\n"
     ]
    }
   ],
   "source": [
    "print(mi.poly_degree)"
   ]
  },
  {
   "cell_type": "markdown",
   "id": "19ba9218-0f43-443f-b00c-9e0275aa83ea",
   "metadata": {},
   "source": [
    "The number above corresponds the smallest degree $n$ such that the condition $\\lVert \\boldsymbol{\\alpha} \\rVert_{p} = (\\alpha_1^p + \\alpha_2^p + \\alpha_3^p)^{\\frac{1}{p}} \\leq 3 = n$ holds (with $p$ in $l_p$ equals to $1.0$)."
   ]
  },
  {
   "cell_type": "markdown",
   "id": "57d44240-a249-4bfe-b1d3-ccbd6658559d",
   "metadata": {},
   "source": [
    "```{note}\n",
    "When the default constructor is used to create an instance of `MultiIndexSet`, the $l_p$-degree is a mandatory argument. Minterpy cannot infer the $l_p$-degree from a given set of exponents; in other words, a multi-index set can be defined for any given set of exponents and $l_p$-degree ($p \\in \\mathbb{R}_{>0})$.\n",
    "```"
   ]
  }
 ],
 "metadata": {
  "kernelspec": {
   "display_name": "Python 3 (ipykernel)",
   "language": "python",
   "name": "python3"
  },
  "language_info": {
   "codemirror_mode": {
    "name": "ipython",
    "version": 3
   },
   "file_extension": ".py",
   "mimetype": "text/x-python",
   "name": "python",
   "nbconvert_exporter": "python",
   "pygments_lexer": "ipython3",
   "version": "3.8.17"
  }
 },
 "nbformat": 4,
 "nbformat_minor": 5
}
