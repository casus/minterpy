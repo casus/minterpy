{
 "cells": [
  {
   "cell_type": "markdown",
   "id": "f37c96eb-ccaa-48ae-8950-2c70e195da03",
   "metadata": {},
   "source": [
    "# Multiply `MultiIndexSet` Instances"
   ]
  },
  {
   "cell_type": "code",
   "execution_count": null,
   "id": "9a31baab-58d9-4bec-ad3c-9a636b9821b0",
   "metadata": {},
   "outputs": [],
   "source": [
    "import minterpy as mp\n",
    "import numpy as np"
   ]
  },
  {
   "cell_type": "markdown",
   "id": "91e4a6a9-8d4e-4472-9fef-730eb613c3cf",
   "metadata": {},
   "source": [
    "This guide demonstrates how to multiply instances of `MultiIndexSet` and shows the convention adopted by Minterpy regarding the product of two multi-indices.\n",
    "\n",
    "The following three cases are considered:\n",
    "\n",
    "- `MultiIndexSet` instances with the same dimension\n",
    "- `MultiIndexSet` instances with different dimensions\n",
    "- `MultiIndexSet` instances with different $l_p$-degrees\n",
    "\n",
    "The multiplication between `MultiIndexSet` instances may be carried out via a method call (`MultiIndexSet.multiply()`) or an operator (`*` or `*=`)."
   ]
  },
  {
   "cell_type": "markdown",
   "id": "32d5dc16-f7c9-4fbc-94c2-2ebf85dcc4c2",
   "metadata": {},
   "source": [
    "## Instances with the same dimension\n",
    "\n",
    "As a motivating example, consider the following two multi-index sets of the same dimension:\n",
    "\n",
    "\\begin{align*}\n",
    "A & = \\left\\{ (0, 0), (1, 0), (2, 0), (0, 1) \\right\\}\\\\\n",
    "B & = \\left\\{ (0, 0), (0, 1), (0, 2), (0, 3) \\right\\}\\\\\n",
    "\\end{align*}\n",
    "\n",
    "Both sets are defined with respect to the same $l_p$-degree of $1.0$. Notice that both sets are downward-closed."
   ]
  },
  {
   "cell_type": "code",
   "execution_count": null,
   "id": "ecc38194-b0cf-45fc-a6ae-e85d47c5dffd",
   "metadata": {},
   "outputs": [],
   "source": [
    "mi_a = mp.MultiIndexSet(\n",
    "    np.array([[0, 0], [1, 0], [2, 0], [0, 1]]),\n",
    "    lp_degree=1.0,\n",
    ")\n",
    "\n",
    "mi_b = mp.MultiIndexSet(\n",
    "    np.array([[0, 0], [0, 1], [0, 2], [0, 3]]),\n",
    "    lp_degree=1.0,\n",
    ")"
   ]
  },
  {
   "cell_type": "markdown",
   "id": "788ef5e1-5dc3-4939-8a5b-c424f8fe322d",
   "metadata": {},
   "source": [
    "The product of these two sets can be constructed using the multiplication (`*`) operator:"
   ]
  },
  {
   "cell_type": "code",
   "execution_count": null,
   "id": "5b013ce5-46b7-4c33-8e57-2a75832cefb7",
   "metadata": {},
   "outputs": [],
   "source": [
    "mi_prod_1 = mi_a * mi_b\n",
    "print(mi_prod_1)"
   ]
  },
  {
   "cell_type": "markdown",
   "id": "237b32f9-ea23-4b01-acbe-ad3a1ec73936",
   "metadata": {},
   "source": [
    "The dimension of the product set remains the same as that of the operands (in this case, $2$). Also notice that the product set is lexicographically sorted. Furthermore, because the operands are downward-closed, the resulting product remains downward-closed. That is:"
   ]
  },
  {
   "cell_type": "code",
   "execution_count": null,
   "id": "5b8ffbb0-86da-4756-8ec1-03161e33eea1",
   "metadata": {},
   "outputs": [],
   "source": [
    "mi_prod_1.is_downward_closed"
   ]
  },
  {
   "cell_type": "markdown",
   "id": "f88bd512-9585-47e6-a0b9-1b9095c5ccc6",
   "metadata": {},
   "source": [
    "The polynomial degree of the product set is:"
   ]
  },
  {
   "cell_type": "code",
   "execution_count": null,
   "id": "17c94f42-c914-4494-84c2-41e21aa89c26",
   "metadata": {},
   "outputs": [],
   "source": [
    "print(mi_prod_1.poly_degree)"
   ]
  },
  {
   "cell_type": "markdown",
   "id": "14ec78ac-443c-4013-9e00-881369f79d24",
   "metadata": {},
   "source": [
    "```{note}\n",
    "If the $l_p$-degree of both operands is $1.0$ then the polynomial degree of the product set is the sum of the polynomial degrees of the operands.\n",
    "```"
   ]
  },
  {
   "cell_type": "code",
   "execution_count": null,
   "id": "3143e360-ac0e-40cf-b08c-aa938362f614",
   "metadata": {},
   "outputs": [],
   "source": [
    "print((mi_a.poly_degree, mi_b.poly_degree))"
   ]
  },
  {
   "cell_type": "markdown",
   "source": [
    "Alternatively, the union may also be created using a method call whose result is equivalent:"
   ],
   "metadata": {
    "collapsed": false
   },
   "id": "216d5454ac5382ea"
  },
  {
   "cell_type": "code",
   "outputs": [],
   "source": [
    "mi_prod_1 == mi_a.multiply(mi_b)"
   ],
   "metadata": {
    "collapsed": false
   },
   "id": "b00cc8ae75109616",
   "execution_count": null
  },
  {
   "cell_type": "markdown",
   "id": "1255d3e3-6f71-49e2-b584-39acfaa20a13",
   "metadata": {},
   "source": [
    "The multi-index sets do not have to be downward-closed for taking the product. Consider, for instance, a multi-index set that is not downward-closed:\n",
    "\n",
    "$$\n",
    "C = \\left\\{ (1, 0), (0, 3) \\right\\}\\\\\n",
    "$$\n",
    "\n",
    "again with respect to $l_p$-degree of $1.0$."
   ]
  },
  {
   "cell_type": "code",
   "execution_count": null,
   "id": "e51306bf-dcbc-42e3-9178-197a1acfcd75",
   "metadata": {},
   "outputs": [],
   "source": [
    "mi_c = mp.MultiIndexSet(\n",
    "    np.array([[1, 0], [0, 3]]),\n",
    "    lp_degree=1.0,\n",
    ")"
   ]
  },
  {
   "cell_type": "markdown",
   "id": "43cd2b7b-ca92-49f5-99b6-cac09a8d5170",
   "metadata": {},
   "source": [
    "The product with the multi-index set $A$ is:"
   ]
  },
  {
   "cell_type": "code",
   "execution_count": null,
   "id": "17306abc-9e24-4422-b846-e26c53d974c4",
   "metadata": {},
   "outputs": [],
   "source": [
    "mi_a * mi_c"
   ]
  },
  {
   "cell_type": "markdown",
   "id": "c58c84a2-0de9-433b-a064-b93de50dc502",
   "metadata": {},
   "source": [
    "Because one of the operands is not downward-closed, the product set is also not downward-closed. That is:"
   ]
  },
  {
   "cell_type": "code",
   "execution_count": null,
   "id": "f77888f4-6ad9-4348-a4be-9298a73372ef",
   "metadata": {},
   "outputs": [],
   "source": [
    "(mi_a * mi_c).is_downward_closed"
   ]
  },
  {
   "cell_type": "markdown",
   "id": "7ea39195-56f8-44c4-ad83-3c6a6c15cda1",
   "metadata": {},
   "source": [
    "## Instances with different dimensions\n",
    "\n",
    "Multi-index sets of different dimension may also be multiplied. For instance, consider the following:\n",
    "\n",
    "\\begin{align*}\n",
    "D & = \\left\\{ (0, 0), (1, 0) \\right\\} & \\text{dimension 2} \\\\\n",
    "E & = \\left\\{ (0, 0, 0), (1, 0, 0), (0, 0, 1) \\right\\} & \\text{dimension 3}\\\\\n",
    "\\end{align*}\n",
    "\n",
    "Both sets are defined with the same $l_p$-degree of $1.0$."
   ]
  },
  {
   "cell_type": "code",
   "execution_count": null,
   "id": "b77fb618-7e9c-4d04-90bc-6b441a8fcb99",
   "metadata": {},
   "outputs": [],
   "source": [
    "mi_d = mp.MultiIndexSet(\n",
    "    np.array([[0, 0], [1, 0]]),\n",
    "    lp_degree=1.0,\n",
    ")\n",
    "mi_e = mp.MultiIndexSet(\n",
    "    np.array([[0, 0, 0], [1, 0, 0], [0, 0, 1]]),\n",
    "    lp_degree=1.0,\n",
    ")"
   ]
  },
  {
   "cell_type": "markdown",
   "id": "650eb1f4-f89f-4ab3-917e-d517d1e3ed9b",
   "metadata": {},
   "source": [
    "The product set is:"
   ]
  },
  {
   "cell_type": "code",
   "execution_count": null,
   "id": "e65b0e89-50df-4b15-b0c5-520e88547927",
   "metadata": {},
   "outputs": [],
   "source": [
    "mi_prod_2 = mi_d * mi_e\n",
    "print(mi_prod_2)"
   ]
  },
  {
   "cell_type": "markdown",
   "id": "e43a6a70-7321-496b-9fd8-a02ea50f9f37",
   "metadata": {},
   "source": [
    "Notice that the product set has the same dimension as the largest dimension of the operands (in this case, $3$)."
   ]
  },
  {
   "cell_type": "markdown",
   "id": "38acb577-bfc2-4247-906b-1faa6c993019",
   "metadata": {},
   "source": [
    "The polynomial degree of the product set is:"
   ]
  },
  {
   "cell_type": "code",
   "execution_count": null,
   "id": "f4ef184c-be89-4726-a74c-cd91192dddae",
   "metadata": {},
   "outputs": [],
   "source": [
    "print(mi_prod_2.poly_degree)"
   ]
  },
  {
   "cell_type": "markdown",
   "id": "0e870978-8632-4b17-8a58-37ea5b9977c7",
   "metadata": {},
   "source": [
    "## Instances with different $l_p$-degrees\n",
    "\n",
    "If two multi-index sets with different $l_p$-degrees are multiplied, then the $l_p$-degrees of the product set is the maximum of the $l_p$-degrees of the operands. Consider the following example:\n",
    "\n",
    "\\begin{align*}\n",
    "F & = \\left\\{ (0, 0), (1, 0), (0, 1), (1, 1) \\right\\} & \\text{w.r.t } & p = \\infty\\\\\n",
    "G & = \\left\\{ (0, 0), (1, 0), (0, 1) \\right\\} & \\text{w.r.t } & p = 1.0 \\\\\n",
    "\\end{align*}"
   ]
  },
  {
   "cell_type": "code",
   "execution_count": null,
   "id": "8050a3b6-3e19-4c75-8903-747c24602003",
   "metadata": {},
   "outputs": [],
   "source": [
    "mi_f = mp.MultiIndexSet(\n",
    "    np.array([[0, 0], [1, 0], [1, 0], [1, 1]]),\n",
    "    lp_degree=np.inf,\n",
    ")\n",
    "mi_g = mp.MultiIndexSet(\n",
    "    np.array([[0, 0], [1, 0], [0, 1]]),\n",
    "    lp_degree=1.0,\n",
    ")"
   ]
  },
  {
   "cell_type": "markdown",
   "id": "4f7007e1-950a-4e49-a13d-057e7820764e",
   "metadata": {},
   "source": [
    "The product set is:"
   ]
  },
  {
   "cell_type": "code",
   "execution_count": null,
   "id": "1eebdf53-34f2-41a4-85cf-c9c6bf8f30c1",
   "metadata": {},
   "outputs": [],
   "source": [
    "mi_prod_3 = mi_f * mi_g\n",
    "print(mi_prod_3)"
   ]
  },
  {
   "cell_type": "markdown",
   "id": "48b12216-7cd1-461a-9348-7bd0defcc02e",
   "metadata": {},
   "source": [
    "By convention, the $l_p$-degree of the product set is the maximum of the $l_p$-degrees of the operands (in this case, $\\infty$):"
   ]
  },
  {
   "cell_type": "code",
   "execution_count": null,
   "id": "0de7e746-8dbf-4736-a749-3e56addbc99e",
   "metadata": {},
   "outputs": [],
   "source": [
    "print(mi_prod_3.lp_degree)"
   ]
  },
  {
   "cell_type": "markdown",
   "id": "ab3c8898-b96c-43e7-bd6d-c5eb8a3ed2cb",
   "metadata": {},
   "source": [
    "The polynomial degree of the product set is computed based on the resulting index set and $l_p$-degree:"
   ]
  },
  {
   "cell_type": "code",
   "execution_count": null,
   "id": "4dca867d-411b-443b-b297-ee38bf6204dc",
   "metadata": {},
   "outputs": [],
   "source": [
    "print(mi_prod_3.poly_degree)"
   ]
  },
  {
   "cell_type": "markdown",
   "source": [
    "## In-place multiplication\n",
    "\n",
    "The product of two `MultiIndexSet` instances may also be created in-place. That is, one of the instance is directly updated by the product."
   ],
   "metadata": {
    "collapsed": false
   },
   "id": "1a792b9dbb98568b"
  },
  {
   "cell_type": "markdown",
   "source": [
    "To create the product via an in-place method call, set the `inplace` parameter to `True` (the default is set to `False`):"
   ],
   "metadata": {
    "collapsed": false
   },
   "id": "4e325d82cf6a82a3"
  },
  {
   "cell_type": "code",
   "outputs": [],
   "source": [
    "mi_a.multiply(mi_b, inplace=True)"
   ],
   "metadata": {
    "collapsed": false
   },
   "id": "17698918a3535f6b",
   "execution_count": null
  },
  {
   "cell_type": "markdown",
   "source": [
    "The instance `mi_a` has been updated in-place:"
   ],
   "metadata": {
    "collapsed": false
   },
   "id": "3268a599ccddaf34"
  },
  {
   "cell_type": "code",
   "outputs": [],
   "source": [
    "mi_a == mi_prod_1"
   ],
   "metadata": {
    "collapsed": false
   },
   "id": "80d5bc88786f1afd",
   "execution_count": null
  },
  {
   "cell_type": "markdown",
   "source": [
    "Alternatively, to create the product via an inplace operator:"
   ],
   "metadata": {
    "collapsed": false
   },
   "id": "824c05de20e2bac9"
  },
  {
   "cell_type": "code",
   "outputs": [],
   "source": [
    "mi_d *= mi_e"
   ],
   "metadata": {
    "collapsed": false
   },
   "id": "51876a0965ab4bf8",
   "execution_count": null
  },
  {
   "cell_type": "markdown",
   "source": [
    "Similarly as before, the instance `mi_d` has been updated in-place:"
   ],
   "metadata": {
    "collapsed": false
   },
   "id": "56cf1c7a1bcb27de"
  },
  {
   "cell_type": "code",
   "outputs": [],
   "source": [
    "mi_d == mi_prod_2"
   ],
   "metadata": {
    "collapsed": false
   },
   "id": "4b3269330390ccd4",
   "execution_count": null
  }
 ],
 "metadata": {
  "kernelspec": {
   "display_name": "Python 3 (ipykernel)",
   "language": "python",
   "name": "python3"
  },
  "language_info": {
   "codemirror_mode": {
    "name": "ipython",
    "version": 3
   },
   "file_extension": ".py",
   "mimetype": "text/x-python",
   "name": "python",
   "nbconvert_exporter": "python",
   "pygments_lexer": "ipython3",
   "version": "3.8.18"
  }
 },
 "nbformat": 4,
 "nbformat_minor": 5
}
