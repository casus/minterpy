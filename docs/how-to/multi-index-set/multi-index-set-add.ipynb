{
 "cells": [
  {
   "cell_type": "markdown",
   "id": "feeb9676-6a78-4dde-a023-8694cf99ae34",
   "metadata": {},
   "source": [
    "# Add Exponents to a Multi-Index Set"
   ]
  },
  {
   "cell_type": "code",
   "execution_count": 1,
   "id": "61a9a739-bf5d-4707-ac2b-752c389e8ffa",
   "metadata": {},
   "outputs": [],
   "source": [
    "import minterpy as mp\n",
    "import numpy as np"
   ]
  },
  {
   "cell_type": "markdown",
   "id": "5af0f904-1109-48ec-9d48-7c12c43bb91f",
   "metadata": {},
   "source": [
    "This guides shows how to add an exponent or a set of exponents may be added to a `MultiIndexSet` instance."
   ]
  },
  {
   "cell_type": "markdown",
   "id": "be4a3326-a453-4442-b806-09e0ac5b1453",
   "metadata": {},
   "source": [
    "## Create a `MultiIndexSet` instance\n",
    "\n",
    "Suppose we have a complete multi-index set for multivariate polynomials of dimension $4$, degree $2$, and $l_p$ degree $1.0$:"
   ]
  },
  {
   "cell_type": "code",
   "execution_count": 2,
   "id": "4b17f3ac-8ac5-4dd9-8700-9e5b1f7b53e5",
   "metadata": {},
   "outputs": [],
   "source": [
    "mi = mp.MultiIndexSet.from_degree(4, 2, 1)"
   ]
  },
  {
   "cell_type": "code",
   "execution_count": 3,
   "id": "80c5a088-518f-43b3-8a68-4f891c56d066",
   "metadata": {},
   "outputs": [
    {
     "name": "stdout",
     "output_type": "stream",
     "text": [
      "MultiIndexSet\n",
      "[[0 0 0 0]\n",
      " [1 0 0 0]\n",
      " [2 0 0 0]\n",
      " [0 1 0 0]\n",
      " [1 1 0 0]\n",
      " [0 2 0 0]\n",
      " [0 0 1 0]\n",
      " [1 0 1 0]\n",
      " [0 1 1 0]\n",
      " [0 0 2 0]\n",
      " [0 0 0 1]\n",
      " [1 0 0 1]\n",
      " [0 1 0 1]\n",
      " [0 0 1 1]\n",
      " [0 0 0 2]]\n"
     ]
    }
   ],
   "source": [
    "print(mi)"
   ]
  },
  {
   "cell_type": "markdown",
   "id": "59544710-bbc3-4b38-983e-c6b919686098",
   "metadata": {},
   "source": [
    "## Add an exponent to a `MultiIndexSet` instance"
   ]
  },
  {
   "cell_type": "markdown",
   "id": "77509ab3-1307-43f0-b6a5-3189cfd47039",
   "metadata": {},
   "source": [
    "The method `add_exponents()` inserts an exponent to a `MultiIndexSet` instance. The exponents must be given as a NumPy integer array of the correct dimension.\n",
    "Suppose now we'd like to add a new exponent element $\\left( 0, 0, 3, 0 \\right)$:"
   ]
  },
  {
   "cell_type": "code",
   "execution_count": 13,
   "id": "a7766609-36a5-4ee0-beb2-e6d43a46bec2",
   "metadata": {},
   "outputs": [
    {
     "data": {
      "text/plain": [
       "array([[0, 0, 3, 0]])"
      ]
     },
     "execution_count": 13,
     "metadata": {},
     "output_type": "execute_result"
    }
   ],
   "source": [
    "new_exp = np.array([[0, 0, 3, 0]], dtype=int)\n",
    "new_exp"
   ]
  },
  {
   "cell_type": "markdown",
   "id": "be46c109-3055-477e-b94a-8349a3198b71",
   "metadata": {},
   "source": [
    "Notice that the array is of shape $1 \\times 4$ because the dimension of the multi-index set is $4$ and one new element is to be added.\n",
    "To add the exponent:"
   ]
  },
  {
   "cell_type": "code",
   "execution_count": 14,
   "id": "2f9ceb71-06d0-452e-80bb-513aa96b6cea",
   "metadata": {},
   "outputs": [
    {
     "data": {
      "text/plain": [
       "MultiIndexSet\n",
       "[[0 0 0 0]\n",
       " [1 0 0 0]\n",
       " [2 0 0 0]\n",
       " [0 1 0 0]\n",
       " [1 1 0 0]\n",
       " [0 2 0 0]\n",
       " [0 0 1 0]\n",
       " [1 0 1 0]\n",
       " [0 1 1 0]\n",
       " [0 0 2 0]\n",
       " [0 0 3 0]\n",
       " [0 0 0 1]\n",
       " [1 0 0 1]\n",
       " [0 1 0 1]\n",
       " [0 0 1 1]\n",
       " [0 0 0 2]]"
      ]
     },
     "execution_count": 14,
     "metadata": {},
     "output_type": "execute_result"
    }
   ],
   "source": [
    "mi.add_exponents(new_exp)"
   ]
  },
  {
   "cell_type": "markdown",
   "id": "a1c2c996-0bee-432a-abaf-102ebf2884a3",
   "metadata": {},
   "source": [
    "The new exponent is lexicographically added to the previous set of exponents. In the example above, the element $\\left( 0, 0, 3, 0 \\right)$ comes right after $\\left( 0, 0, 2, 0 \\right)$ and before $\\left( 0, 0, 0, 1 \\right)$."
   ]
  },
  {
   "cell_type": "markdown",
   "id": "ca39d167-4d85-4876-8c93-9b3daebdd1fa",
   "metadata": {},
   "source": [
    "The method `add_exponents()` returns a new instance of `MultiIndexSet` with extended exponents; the change does not happen in-place and should be stored in a different variable for later usage:"
   ]
  },
  {
   "cell_type": "code",
   "execution_count": 15,
   "id": "3cd40133-7f23-47bd-b780-2e0ebb8de34d",
   "metadata": {},
   "outputs": [],
   "source": [
    "mi_ext = mi.add_exponents(new_exp)"
   ]
  },
  {
   "cell_type": "code",
   "execution_count": 16,
   "id": "e1ee4c5a-1686-4ce9-811d-ec14ab065c8a",
   "metadata": {},
   "outputs": [
    {
     "name": "stdout",
     "output_type": "stream",
     "text": [
      "MultiIndexSet\n",
      "[[0 0 0 0]\n",
      " [1 0 0 0]\n",
      " [2 0 0 0]\n",
      " [0 1 0 0]\n",
      " [1 1 0 0]\n",
      " [0 2 0 0]\n",
      " [0 0 1 0]\n",
      " [1 0 1 0]\n",
      " [0 1 1 0]\n",
      " [0 0 2 0]\n",
      " [0 0 3 0]\n",
      " [0 0 0 1]\n",
      " [1 0 0 1]\n",
      " [0 1 0 1]\n",
      " [0 0 1 1]\n",
      " [0 0 0 2]]\n"
     ]
    }
   ],
   "source": [
    "print(mi_ext)"
   ]
  },
  {
   "cell_type": "markdown",
   "id": "4bb5753c-6260-4387-804b-f8c146d4fb9d",
   "metadata": {},
   "source": [
    "Notice that the new instance has a higher polynomial degree than the original one:"
   ]
  },
  {
   "cell_type": "code",
   "execution_count": 30,
   "id": "4940bab8-f3a0-48b9-969c-9dcfb765e514",
   "metadata": {},
   "outputs": [
    {
     "data": {
      "text/plain": [
       "3"
      ]
     },
     "execution_count": 30,
     "metadata": {},
     "output_type": "execute_result"
    }
   ],
   "source": [
    "mi_ext.poly_degree"
   ]
  },
  {
   "cell_type": "markdown",
   "id": "92f65b35-466c-4b01-a75f-f9d1d41f4601",
   "metadata": {},
   "source": [
    "This degree corresponds to the degree $p$ such that the condition $\\lVert \\boldsymbol{\\alpha} \\rVert_p = (\\alpha_1^p + \\alpha_2^p + \\alpha_3^p + \\alpha_4^p)^{\\frac{1}{p}} \\leq 1.0 = l_p$ for all $\\boldsymbol{\\alpha} \\in A$ holds."
   ]
  },
  {
   "cell_type": "markdown",
   "id": "8297ad69-3880-4788-8090-5e79e261ba18",
   "metadata": {},
   "source": [
    "## Add a set of exponents to a `MultiIndexSet` instance\n",
    "\n",
    "The method `add_exponents()` also supports multiple exponents. For instance, the following exponents can be added:\n",
    "\n",
    "$$\n",
    "B = \\left\\{ (3, 0, 0, 0), (0, 3, 0, 0), (0, 0, 0, 3) \\right\\}\n",
    "$$"
   ]
  },
  {
   "cell_type": "code",
   "execution_count": 31,
   "id": "a07826bc-1a7c-4f91-8751-f0ded721c911",
   "metadata": {},
   "outputs": [],
   "source": [
    "exps = np.array([\n",
    "    [3, 0, 0, 0],\n",
    "    [0, 3, 0, 0],\n",
    "    [0, 0, 0, 3],\n",
    "])"
   ]
  },
  {
   "cell_type": "code",
   "execution_count": 32,
   "id": "aaf4b93d-1ef1-4c98-b58a-bb2159863fec",
   "metadata": {},
   "outputs": [
    {
     "data": {
      "text/plain": [
       "MultiIndexSet\n",
       "[[0 0 0 0]\n",
       " [1 0 0 0]\n",
       " [2 0 0 0]\n",
       " [3 0 0 0]\n",
       " [0 1 0 0]\n",
       " [1 1 0 0]\n",
       " [0 2 0 0]\n",
       " [0 3 0 0]\n",
       " [0 0 1 0]\n",
       " [1 0 1 0]\n",
       " [0 1 1 0]\n",
       " [0 0 2 0]\n",
       " [0 0 0 1]\n",
       " [1 0 0 1]\n",
       " [0 1 0 1]\n",
       " [0 0 1 1]\n",
       " [0 0 0 2]\n",
       " [0 0 0 3]]"
      ]
     },
     "execution_count": 32,
     "metadata": {},
     "output_type": "execute_result"
    }
   ],
   "source": [
    "mi.add_exponents(exps)"
   ]
  },
  {
   "cell_type": "markdown",
   "id": "cae23f66-3d1a-477c-8a4f-fce6f7cadc78",
   "metadata": {},
   "source": [
    "As before the new exponents are added lexicographically to the existing set of exponents. As mentioned, the method returns a new instance and does not modify the current instance in place."
   ]
  }
 ],
 "metadata": {
  "kernelspec": {
   "display_name": "Python 3 (ipykernel)",
   "language": "python",
   "name": "python3"
  },
  "language_info": {
   "codemirror_mode": {
    "name": "ipython",
    "version": 3
   },
   "file_extension": ".py",
   "mimetype": "text/x-python",
   "name": "python",
   "nbconvert_exporter": "python",
   "pygments_lexer": "ipython3",
   "version": "3.8.17"
  }
 },
 "nbformat": 4,
 "nbformat_minor": 5
}
