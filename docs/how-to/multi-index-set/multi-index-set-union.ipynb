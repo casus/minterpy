{
 "cells": [
  {
   "cell_type": "markdown",
   "id": "f37c96eb-ccaa-48ae-8950-2c70e195da03",
   "metadata": {},
   "source": [
    "# Create the Union of `MultiIndexSet` Instances"
   ]
  },
  {
   "cell_type": "code",
   "execution_count": null,
   "id": "9a31baab-58d9-4bec-ad3c-9a636b9821b0",
   "metadata": {},
   "outputs": [],
   "source": [
    "import minterpy as mp\n",
    "import numpy as np"
   ]
  },
  {
   "cell_type": "markdown",
   "id": "91e4a6a9-8d4e-4472-9fef-730eb613c3cf",
   "metadata": {},
   "source": [
    "This guide demonstrates how to create the union of `MultiIndexSet` instances and shows the convention adopted by Minterpy regarding the union of two multi-indices.\n",
    "\n",
    "The following three cases are considered:\n",
    "\n",
    "- `MultiIndexSet` instances with the same dimension\n",
    "- `MultiIndexSet` instances with different dimensions\n",
    "- `MultiIndexSet` instances with different $l_p$-degrees\n",
    "\n",
    "The union of `MultiIndexSet` instances may be created via a method call (`MultiIndexSet.union()`) or an operator (`|` or `|=`)."
   ]
  },
  {
   "cell_type": "markdown",
   "id": "32d5dc16-f7c9-4fbc-94c2-2ebf85dcc4c2",
   "metadata": {},
   "source": [
    "## Instances with the same dimension\n",
    "\n",
    "As a motivating example, consider the following two multi-index sets of the same dimension:\n",
    "\n",
    "\\begin{align*}\n",
    "A & = \\left\\{ (0, 0), (1, 0), (2, 0), (0, 1) \\right\\}\\\\\n",
    "B & = \\left\\{ (0, 0), (0, 1), (0, 2), (0, 3) \\right\\}\\\\\n",
    "\\end{align*}\n",
    "\n",
    "Both sets are defined with respect to the same $l_p$-degree of $1.0$. Notice that both sets are downward-closed."
   ]
  },
  {
   "cell_type": "code",
   "execution_count": null,
   "id": "ecc38194-b0cf-45fc-a6ae-e85d47c5dffd",
   "metadata": {},
   "outputs": [],
   "source": [
    "mi_a = mp.MultiIndexSet(\n",
    "    np.array([[0, 0], [1, 0], [2, 0], [0, 1]]),\n",
    "    lp_degree=1.0,\n",
    ")\n",
    "\n",
    "mi_b = mp.MultiIndexSet(\n",
    "    np.array([[0, 0], [0, 1], [0, 2], [0, 3]]),\n",
    "    lp_degree=1.0,\n",
    ")"
   ]
  },
  {
   "cell_type": "markdown",
   "id": "788ef5e1-5dc3-4939-8a5b-c424f8fe322d",
   "metadata": {},
   "source": [
    "The union of these two sets can be constructed using the \"or\" (`|`) operator:"
   ]
  },
  {
   "cell_type": "code",
   "execution_count": null,
   "id": "5b013ce5-46b7-4c33-8e57-2a75832cefb7",
   "metadata": {},
   "outputs": [],
   "source": [
    "mi_union_1 = mi_a | mi_b\n",
    "print(mi_union_1)"
   ]
  },
  {
   "cell_type": "markdown",
   "id": "237b32f9-ea23-4b01-acbe-ad3a1ec73936",
   "metadata": {},
   "source": [
    "The dimension of the product set remains the same as that of the operands (in this case, $2$). Also notice that the union set is lexicographically sorted. Furthermore, because the operands are downward-closed, the resulting union remains downward-closed. That is:"
   ]
  },
  {
   "cell_type": "code",
   "execution_count": null,
   "id": "d5c075fe-8165-4f80-85bb-00d4ecd2d7f9",
   "metadata": {},
   "outputs": [],
   "source": [
    "mi_union_1.is_downward_closed"
   ]
  },
  {
   "cell_type": "markdown",
   "id": "f88bd512-9585-47e6-a0b9-1b9095c5ccc6",
   "metadata": {},
   "source": [
    "The polynomial degree of the product set is:"
   ]
  },
  {
   "cell_type": "code",
   "execution_count": null,
   "id": "17c94f42-c914-4494-84c2-41e21aa89c26",
   "metadata": {},
   "outputs": [],
   "source": [
    "print(mi_union_1.poly_degree)"
   ]
  },
  {
   "cell_type": "markdown",
   "id": "aeb63266-c86e-4607-afe2-68714863d835",
   "metadata": {},
   "source": [
    "The union may also be created using a method call (`MultiIndexSet.union()`) whose result is equivalent:"
   ]
  },
  {
   "cell_type": "code",
   "execution_count": null,
   "id": "1c0bb7e1-3e48-4892-96f8-f5ec1d0effb7",
   "metadata": {},
   "outputs": [],
   "source": [
    "mi_union_1 == mi_a.union(mi_b)"
   ]
  },
  {
   "cell_type": "markdown",
   "id": "1255d3e3-6f71-49e2-b584-39acfaa20a13",
   "metadata": {},
   "source": [
    "Note that the multi-index sets do not have to be downward-closed for taking the product. Consider, for instance, a multi-index set that is not downward-closed:\n",
    "\n",
    "$$\n",
    "C = \\left\\{ (1, 0), (0, 3) \\right\\}\\\\\n",
    "$$\n",
    "\n",
    "again with respect to $l_p$-degree of $1.0$."
   ]
  },
  {
   "cell_type": "code",
   "execution_count": null,
   "id": "e51306bf-dcbc-42e3-9178-197a1acfcd75",
   "metadata": {},
   "outputs": [],
   "source": [
    "mi_c = mp.MultiIndexSet(\n",
    "    np.array([[1, 0], [0, 3]]),\n",
    "    lp_degree=1.0,\n",
    ")"
   ]
  },
  {
   "cell_type": "markdown",
   "id": "43cd2b7b-ca92-49f5-99b6-cac09a8d5170",
   "metadata": {},
   "source": [
    "The union with the multi-index set $A$ is:"
   ]
  },
  {
   "cell_type": "code",
   "execution_count": null,
   "id": "17306abc-9e24-4422-b846-e26c53d974c4",
   "metadata": {},
   "outputs": [],
   "source": [
    "mi_a | mi_c"
   ]
  },
  {
   "cell_type": "markdown",
   "id": "c58c84a2-0de9-433b-a064-b93de50dc502",
   "metadata": {},
   "source": [
    "Because one of the operands is not downward-closed, the product set is also not downward-closed. That is:"
   ]
  },
  {
   "cell_type": "code",
   "execution_count": null,
   "id": "b265c32d-05a4-4346-ad50-8550246d77f7",
   "metadata": {},
   "outputs": [],
   "source": [
    "(mi_a | mi_c).is_downward_closed"
   ]
  },
  {
   "cell_type": "markdown",
   "id": "7ea39195-56f8-44c4-ad83-3c6a6c15cda1",
   "metadata": {},
   "source": [
    "## Instances with different dimensions\n",
    "\n",
    "The union may also be carried out for multi-index sets of different dimensions.\n",
    "\n",
    "\\begin{align*}\n",
    "D & = \\left\\{ (0, 0), (1, 0) \\right\\} & \\text{dimension 2} \\\\\n",
    "E & = \\left\\{ (0, 0, 0), (1, 0, 0), (0, 0, 1) \\right\\} & \\text{dimension 3}\\\\\n",
    "\\end{align*}\n",
    "\n",
    "Both sets are defined with the same $l_p$-degree of $1.0$."
   ]
  },
  {
   "cell_type": "code",
   "execution_count": null,
   "id": "b77fb618-7e9c-4d04-90bc-6b441a8fcb99",
   "metadata": {},
   "outputs": [],
   "source": [
    "mi_d = mp.MultiIndexSet(\n",
    "    np.array([[0, 0], [1, 0]]),\n",
    "    lp_degree=1.0,\n",
    ")\n",
    "mi_e = mp.MultiIndexSet(\n",
    "    np.array([[0, 0, 0], [1, 0, 0], [0, 0, 1]]),\n",
    "    lp_degree=1.0,\n",
    ")"
   ]
  },
  {
   "cell_type": "markdown",
   "id": "650eb1f4-f89f-4ab3-917e-d517d1e3ed9b",
   "metadata": {},
   "source": [
    "The union set is:"
   ]
  },
  {
   "cell_type": "code",
   "execution_count": null,
   "id": "e65b0e89-50df-4b15-b0c5-520e88547927",
   "metadata": {},
   "outputs": [],
   "source": [
    "mi_union_2 = mi_d | mi_e\n",
    "print(mi_union_2)"
   ]
  },
  {
   "cell_type": "markdown",
   "id": "e43a6a70-7321-496b-9fd8-a02ea50f9f37",
   "metadata": {},
   "source": [
    "Notice that the product set has the same dimension as the largest dimension of the operands (in this case, $3$). In other words, the dimensionality of the first operand is expanded."
   ]
  },
  {
   "cell_type": "markdown",
   "id": "38acb577-bfc2-4247-906b-1faa6c993019",
   "metadata": {},
   "source": [
    "The polynomial degree of the product set is:"
   ]
  },
  {
   "cell_type": "code",
   "execution_count": null,
   "id": "f4ef184c-be89-4726-a74c-cd91192dddae",
   "metadata": {},
   "outputs": [],
   "source": [
    "print(mi_union_2.poly_degree)"
   ]
  },
  {
   "cell_type": "markdown",
   "id": "0e870978-8632-4b17-8a58-37ea5b9977c7",
   "metadata": {},
   "source": [
    "## Instances with different $l_p$-degrees\n",
    "\n",
    "If the union of two multi-index sets with different $l_p$-degrees are created, then the $l_p$-degrees of the union set is the maximum of the $l_p$-degrees of the operands. Consider the following example:\n",
    "\n",
    "\\begin{align*}\n",
    "F & = \\left\\{ (0, 0), (1, 0), (0, 1), (1, 1) \\right\\} & \\text{w.r.t } & p = \\infty\\\\\n",
    "G & = \\left\\{ (0, 0), (1, 0), (0, 1) \\right\\} & \\text{w.r.t } & p = 1.0 \\\\\n",
    "\\end{align*}"
   ]
  },
  {
   "cell_type": "code",
   "execution_count": null,
   "id": "8050a3b6-3e19-4c75-8903-747c24602003",
   "metadata": {},
   "outputs": [],
   "source": [
    "mi_f = mp.MultiIndexSet(\n",
    "    np.array([[0, 0], [1, 0], [1, 0], [1, 1]]),\n",
    "    lp_degree=np.inf,\n",
    ")\n",
    "mi_g = mp.MultiIndexSet(\n",
    "    np.array([[0, 0], [1, 0], [0, 1]]),\n",
    "    lp_degree=1.0,\n",
    ")"
   ]
  },
  {
   "cell_type": "markdown",
   "id": "4f7007e1-950a-4e49-a13d-057e7820764e",
   "metadata": {},
   "source": [
    "The union set is:"
   ]
  },
  {
   "cell_type": "code",
   "execution_count": null,
   "id": "1eebdf53-34f2-41a4-85cf-c9c6bf8f30c1",
   "metadata": {},
   "outputs": [],
   "source": [
    "mi_union_3 = mi_f | mi_g\n",
    "print(mi_union_3)"
   ]
  },
  {
   "cell_type": "markdown",
   "id": "48b12216-7cd1-461a-9348-7bd0defcc02e",
   "metadata": {},
   "source": [
    "By convention, the $l_p$-degree of the union set is the maximum of the $l_p$-degrees of the operands (in this case, $\\infty$):"
   ]
  },
  {
   "cell_type": "code",
   "execution_count": null,
   "id": "0de7e746-8dbf-4736-a749-3e56addbc99e",
   "metadata": {},
   "outputs": [],
   "source": [
    "print(mi_union_3.lp_degree)"
   ]
  },
  {
   "cell_type": "markdown",
   "id": "ab3c8898-b96c-43e7-bd6d-c5eb8a3ed2cb",
   "metadata": {},
   "source": [
    "The polynomial degree of the union set is computed based on the resulting index set and $l_p$-degree:"
   ]
  },
  {
   "cell_type": "code",
   "execution_count": null,
   "id": "4dca867d-411b-443b-b297-ee38bf6204dc",
   "metadata": {},
   "outputs": [],
   "source": [
    "print(mi_union_3.poly_degree)"
   ]
  },
  {
   "cell_type": "markdown",
   "id": "d6326112-8732-4144-82d0-e09c7b4e116d",
   "metadata": {},
   "source": [
    "## Inplace union\n",
    "\n",
    "The union between two `MultiIndexSet` instances may also be created in-place. That is, one of the instance is directly updated by the union of the two instances.\n",
    "\n",
    "To create the union via an in-place method call, set the `inplace` parameter to `True` (the default is set to `False`):"
   ]
  },
  {
   "cell_type": "code",
   "execution_count": null,
   "id": "387e87e1-9d9e-423b-a313-d6ce2ae21803",
   "metadata": {},
   "outputs": [],
   "source": [
    "mi_a.union(mi_b, inplace=True)"
   ]
  },
  {
   "cell_type": "markdown",
   "id": "5eb9750e-449a-432d-8a67-74baf872d10b",
   "metadata": {},
   "source": [
    "The instance `mi_a` has been updated in-place:"
   ]
  },
  {
   "cell_type": "code",
   "execution_count": null,
   "id": "dbe802cb-d631-4927-a88d-bbe77981fcfc",
   "metadata": {},
   "outputs": [],
   "source": [
    "mi_a == mi_union_1"
   ]
  },
  {
   "cell_type": "markdown",
   "id": "2b55e732-8a2d-441f-b1ca-9e92a560faf7",
   "metadata": {},
   "source": [
    "Alternatively, to create the union via an inplace operator:"
   ]
  },
  {
   "cell_type": "code",
   "execution_count": null,
   "id": "6c77c183-9549-4e8e-8b51-2ed049517c5e",
   "metadata": {},
   "outputs": [],
   "source": [
    "mi_d |= mi_e"
   ]
  },
  {
   "cell_type": "markdown",
   "id": "6ce4389f-ff57-45e5-815c-668b2734ecc6",
   "metadata": {},
   "source": [
    "Similarly as before, the instance `mi_d` has been updated in-place:"
   ]
  },
  {
   "cell_type": "code",
   "execution_count": null,
   "id": "63125da0-7b1a-43a1-86ed-880cd173f0b8",
   "metadata": {},
   "outputs": [],
   "source": [
    "mi_d == mi_union_2"
   ]
  }
 ],
 "metadata": {
  "kernelspec": {
   "display_name": "Python 3 (ipykernel)",
   "language": "python",
   "name": "python3"
  },
  "language_info": {
   "codemirror_mode": {
    "name": "ipython",
    "version": 3
   },
   "file_extension": ".py",
   "mimetype": "text/x-python",
   "name": "python",
   "nbconvert_exporter": "python",
   "pygments_lexer": "ipython3",
   "version": "3.8.18"
  }
 },
 "nbformat": 4,
 "nbformat_minor": 5
}
