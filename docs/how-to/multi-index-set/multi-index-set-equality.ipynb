{
 "cells": [
  {
   "cell_type": "markdown",
   "id": "f37c96eb-ccaa-48ae-8950-2c70e195da03",
   "metadata": {},
   "source": [
    "# Check for Equality between Two MultiIndexSet Instances"
   ]
  },
  {
   "cell_type": "code",
   "execution_count": null,
   "id": "9a31baab-58d9-4bec-ad3c-9a636b9821b0",
   "metadata": {},
   "outputs": [],
   "source": [
    "import minterpy as mp\n",
    "import numpy as np"
   ]
  },
  {
   "cell_type": "markdown",
   "id": "fb3c2a13-274b-463a-a99e-03b0a0ac3408",
   "metadata": {},
   "source": [
    "Two instances of `MultiIndexSet` may be checked for equality in value via the `==` operator as demonstrated in this guide.\n",
    "\n",
    "Two instances of `MultiIndexSet` are equal in value if and only if:\n",
    "\n",
    "- The multi-indices elements stored in the `exponents` property of the two instances are equal _and_\n",
    "- The underlying $l_p$-degrees of the two instances are equal."
   ]
  },
  {
   "cell_type": "markdown",
   "id": "4c6a6b9b-e11f-4f27-96bc-81076bfc37c1",
   "metadata": {},
   "source": [
    "## Equality in value\n",
    "\n",
    "Consider the following three-dimensional multi-index sets defined for $l_p$-degree $1.0$:\n",
    "\n",
    "$$\n",
    "A = \\left\\{ (0, 0, 0), (1, 0, 0), (2, 0, 0), (0, 1, 0), (0, 0, 1) \\right\\}\n",
    "$$\n",
    "\n",
    "and create two instances of `MultiIndexSet` with identical exponents and $l_p$-degree."
   ]
  },
  {
   "cell_type": "code",
   "execution_count": null,
   "id": "b1c866ee-3ef5-4228-b3fc-d4b50993221f",
   "metadata": {},
   "outputs": [],
   "source": [
    "mi_1 = mp.MultiIndexSet(\n",
    "    np.array([[0, 0, 0], [1, 0, 0], [2, 0, 0], [0, 1, 0], [0, 0, 1]]),\n",
    "    lp_degree=1.0,\n",
    ")\n",
    "mi_2 = mp.MultiIndexSet(\n",
    "    np.array([[0, 0, 0], [1, 0, 0], [2, 0, 0], [0, 1, 0], [0, 0, 1]]),\n",
    "    lp_degree=1.0,\n",
    ")"
   ]
  },
  {
   "cell_type": "markdown",
   "id": "1b311986-ea5b-4451-9baa-ca738550c3f0",
   "metadata": {},
   "source": [
    "To check the equality between these two instances, use the `==` operator as follows:"
   ]
  },
  {
   "cell_type": "code",
   "execution_count": null,
   "id": "cc21e7a1-1943-44a3-8c34-1a946507c6e0",
   "metadata": {},
   "outputs": [],
   "source": [
    "mi_1 == mi_2"
   ]
  },
  {
   "cell_type": "markdown",
   "id": "12c24ef3-552f-4bc5-afbb-7636a81f5b0a",
   "metadata": {},
   "source": [
    "Note that the two instances are not identical as shown by the following check:"
   ]
  },
  {
   "cell_type": "code",
   "execution_count": null,
   "id": "825c7f8d-bf26-4930-8d58-7f03d151b927",
   "metadata": {},
   "outputs": [],
   "source": [
    "mi_1 is mi_2"
   ]
  },
  {
   "cell_type": "markdown",
   "id": "45e752ae-c7be-4223-bcf2-8b4e976b9cce",
   "metadata": {},
   "source": [
    "as well as the id's of the instances:"
   ]
  },
  {
   "cell_type": "code",
   "execution_count": null,
   "id": "ae780f77-fa4e-455a-a094-930c27ba1efb",
   "metadata": {},
   "outputs": [],
   "source": [
    "id(mi_1), id(mi_2)"
   ]
  },
  {
   "cell_type": "markdown",
   "id": "f2e7af6a-67a6-454c-a7b5-61f556cbcfb5",
   "metadata": {},
   "source": [
    "## Inequality in value"
   ]
  },
  {
   "cell_type": "markdown",
   "id": "bf630241-c10f-488b-b3c0-a16e88ab1516",
   "metadata": {},
   "source": [
    "As explained in the beginning of the guide, for two instances of `MultiIndexSet` to be equal both the exponents and $l_p$-degree must be equal.\n",
    "\n",
    "If two instances of `MultiIndexSet` has the same exponents but a different $l_p$-degree, the instances are not equal. Consider a multi-index set with the same exponents as the set above but with $l_p$-degree of $2.0$ (instead of $1.0$):"
   ]
  },
  {
   "cell_type": "code",
   "execution_count": null,
   "id": "af3ae376-ae75-4921-9f9c-b3b5efa00436",
   "metadata": {},
   "outputs": [],
   "source": [
    "mi_3 = mp.MultiIndexSet(mi_1.exponents, lp_degree=2.0)"
   ]
  },
  {
   "cell_type": "code",
   "execution_count": null,
   "id": "2b6a36e2-3fdc-4d90-96ad-11ddc790f2a2",
   "metadata": {},
   "outputs": [],
   "source": [
    "mi_1 == mi_3"
   ]
  },
  {
   "cell_type": "markdown",
   "id": "38414314-5c04-4422-8535-18cd01cf21b5",
   "metadata": {},
   "source": [
    "The inequality between two instances may also be checked via the `!=` operator as follows:"
   ]
  },
  {
   "cell_type": "code",
   "execution_count": null,
   "id": "0d738c3a-9b6f-4d09-bd0c-86829f5c534b",
   "metadata": {},
   "outputs": [],
   "source": [
    "mi_1 != mi_3"
   ]
  },
  {
   "cell_type": "markdown",
   "id": "e1335650-7c25-4f2c-96a3-dad3a9a1d2d4",
   "metadata": {},
   "source": [
    "Accordingly, and perhaps the more obvious case, if two instances has the same $l_p$-degree but different exponents, the instances are not equal as well. Consider another multi-index set defined also for $l_p$-degree $2.0$:"
   ]
  },
  {
   "cell_type": "code",
   "execution_count": null,
   "id": "cf7f5cbf-3693-498e-8aad-9b5f6236f6c6",
   "metadata": {},
   "outputs": [],
   "source": [
    "mi_2 = mp.MultiIndexSet(\n",
    "    np.array([[0, 0], [1, 0], [2, 0], [0, 1]]),\n",
    "    lp_degree=mi_1.lp_degree,\n",
    ")"
   ]
  },
  {
   "cell_type": "markdown",
   "id": "425fcef5-fa62-429f-ab05-f94c1e660475",
   "metadata": {},
   "source": [
    "This multi-index set is of dimension $2$ instead of $1$. As expected, the instance is not equal with the previous one:"
   ]
  },
  {
   "cell_type": "code",
   "execution_count": null,
   "id": "2223df13-4248-4a38-95ce-2900e76f163e",
   "metadata": {},
   "outputs": [],
   "source": [
    "mi_1 != mi_2"
   ]
  },
  {
   "cell_type": "markdown",
   "id": "e5de15bc-620e-4084-b228-7a8b251097dd",
   "metadata": {},
   "source": [
    "Finally, and as expected, two instances having different set of exponents and $l_p$-degree are not equal in value:"
   ]
  },
  {
   "cell_type": "code",
   "execution_count": null,
   "id": "094cd573-fffb-479f-8581-9a77748453bb",
   "metadata": {},
   "outputs": [],
   "source": [
    "mi_4 = mp.MultiIndexSet(\n",
    "    np.array([[0], [1], [2]]),\n",
    "    lp_degree=np.inf\n",
    ")\n",
    "mi_5 = mp.MultiIndexSet(\n",
    "    np.array([[0, 0], [1, 0], [2, 0]]),\n",
    "    lp_degree=1.0\n",
    ")"
   ]
  },
  {
   "cell_type": "code",
   "execution_count": null,
   "id": "5168637c-ee59-4da9-a976-196f06aeb23d",
   "metadata": {},
   "outputs": [],
   "source": [
    "mi_4 != mi_5"
   ]
  }
 ],
 "metadata": {
  "kernelspec": {
   "display_name": "Python 3 (ipykernel)",
   "language": "python",
   "name": "python3"
  },
  "language_info": {
   "codemirror_mode": {
    "name": "ipython",
    "version": 3
   },
   "file_extension": ".py",
   "mimetype": "text/x-python",
   "name": "python",
   "nbconvert_exporter": "python",
   "pygments_lexer": "ipython3",
   "version": "3.8.18"
  }
 },
 "nbformat": 4,
 "nbformat_minor": 5
}
