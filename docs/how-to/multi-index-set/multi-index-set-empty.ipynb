{
 "cells": [
  {
   "cell_type": "markdown",
   "id": "d6a11f9a-d895-4cc7-befa-bac340b8915d",
   "metadata": {},
   "source": [
    "# Create an Empty Multi-Index Set"
   ]
  },
  {
   "cell_type": "code",
   "execution_count": null,
   "id": "b86f737a-bdc7-432e-ab3f-939491391220",
   "metadata": {},
   "outputs": [],
   "source": [
    "import minterpy as mp\n",
    "import numpy as np"
   ]
  },
  {
   "cell_type": "markdown",
   "id": "b81abe18-3ed4-4925-a09e-bdd95e4b0880",
   "metadata": {},
   "source": [
    "An empty `MultiIndexSet` contains an empty array as its exponents. Such a set may arise from some set operations involving `MultiIndexSet`.\n",
    "\n",
    "This guide demonstrates how to create such an array and the corresponding conventions."
   ]
  },
  {
   "cell_type": "markdown",
   "id": "c05807a1-0c6e-4d6c-ae54-2e4ee89a28e4",
   "metadata": {},
   "source": [
    "## Construction\n",
    "\n",
    "An empty `MultiIndexSet` instance may be constructed by passing an empty two-dimensional array as the exponents to the default constructor:"
   ]
  },
  {
   "cell_type": "code",
   "execution_count": null,
   "id": "5a556b62-e39a-4b85-a9f2-2aa78534bbc6",
   "metadata": {},
   "outputs": [],
   "source": [
    "exponent = np.empty((0, 0), dtype=int)\n",
    "mi = mp.MultiIndexSet(exponent, lp_degree=1.0)\n",
    "mi"
   ]
  },
  {
   "cell_type": "markdown",
   "id": "40802d6d-13e8-4334-a148-75299ca99c00",
   "metadata": {},
   "source": [
    "Note that just like any other `MultiIndexSet` instances, the $l_p$-degree must be specified during the construction."
   ]
  },
  {
   "cell_type": "markdown",
   "id": "0380be35-2e94-4079-976e-bbc99af6bb12",
   "metadata": {},
   "source": [
    "The cardinality of an empty set is 0:"
   ]
  },
  {
   "cell_type": "code",
   "execution_count": null,
   "id": "fc248000-6cd2-4187-b8b4-885f2ef12a0d",
   "metadata": {},
   "outputs": [],
   "source": [
    "len(mi)"
   ]
  },
  {
   "cell_type": "markdown",
   "id": "e869cd81-4c9b-41be-bad3-082975ec7b5d",
   "metadata": {},
   "source": [
    "An empty `MultiIndexSet` may have 0 spatial dimension:"
   ]
  },
  {
   "cell_type": "code",
   "execution_count": null,
   "id": "8f0a3da6-9086-422c-a417-4fd77a82e6ff",
   "metadata": {},
   "outputs": [],
   "source": [
    "mi.spatial_dimension"
   ]
  },
  {
   "cell_type": "markdown",
   "id": "72c908e1-77dd-418a-8a47-f78e624bcf12",
   "metadata": {},
   "source": [
    "An empty two-dimensional array whose dimension other than 0 may also be used as the exponent of an empty `MultiIndexSet`.\n",
    "In that case, the spatial dimension follows the shape of the empty array. For example:"
   ]
  },
  {
   "cell_type": "code",
   "execution_count": null,
   "id": "ba785287-39c4-4196-9f78-de76de82f9b0",
   "metadata": {},
   "outputs": [],
   "source": [
    "exponent = np.empty((0, 3), dtype=int)\n",
    "mi = mp.MultiIndexSet(exponent, lp_degree=1.0)\n",
    "mi.spatial_dimension"
   ]
  },
  {
   "cell_type": "markdown",
   "id": "ff519537-f5d1-40a8-8ab9-8d86fad0f3fd",
   "metadata": {},
   "source": [
    "```{note}\n",
    "As a shortcut a two-dimensional array `np.array([[]])` may be passed to construct an empty `MultiIndexSet`. Strictly speaking, the shape of `np.array([[]])` is `(1, 0)`. The default constructor, however, yields the exponents of shape `(0, 0)`.\n",
    "```"
   ]
  },
  {
   "cell_type": "markdown",
   "id": "1de56aaa-cb25-4f9f-8fdf-455ca6c888d0",
   "metadata": {},
   "source": [
    "To summarize, the main properties of an empty `MultiIndexSet` instance are:\n",
    "\n",
    "- `exponents`: a two-dimensional empty array as specified.\n",
    "- `lp_degree`: as specified during construction (float).\n",
    "- `poly_degree`: `None` (it cannot be computed).\n",
    "- `spatial_dimension`: according to the value of the second dimension of the given empty array (may be 0, int).\n",
    "- `is_complete`: `False` a priori.\n",
    "- `is_downward_closed`: `False` a priori.\n",
    "- `__len__()`: 0 (i.e., zero cardinality)."
   ]
  },
  {
   "cell_type": "markdown",
   "id": "f45b4753-d8fa-4b86-9402-e3970bfa1809",
   "metadata": {},
   "source": [
    "## Union\n",
    "\n",
    "The union between any set with an empty set of the same dimension, yields the original set:"
   ]
  },
  {
   "cell_type": "code",
   "execution_count": null,
   "id": "ff4cbdae-e528-4422-a08f-e15f4e3e01ed",
   "metadata": {},
   "outputs": [],
   "source": [
    "mi_1 = mp.MultiIndexSet(np.array([[0, 0, 0], [1, 0, 1]]), lp_degree=1.0)\n",
    "mi_1"
   ]
  },
  {
   "cell_type": "code",
   "execution_count": null,
   "id": "fb5d488f-871c-4f6b-a41f-7c2d714b8445",
   "metadata": {},
   "outputs": [],
   "source": [
    "mi_1 | mi"
   ]
  },
  {
   "cell_type": "markdown",
   "id": "cc026c3e-e294-4c33-a5bb-1c89a3d8b9d0",
   "metadata": {},
   "source": [
    "If the empty set is of higher dimension, the dimension of the original set will be expanded:"
   ]
  },
  {
   "cell_type": "code",
   "execution_count": null,
   "id": "693c475c-8ff4-405b-ba83-e8ebe1e72ae0",
   "metadata": {},
   "outputs": [],
   "source": [
    "mi_2 = mp.MultiIndexSet(np.empty((0, 5)), lp_degree=1.0)\n",
    "mi_1 | mi_2"
   ]
  },
  {
   "cell_type": "markdown",
   "id": "de3ed475-dfc0-4c42-9d78-6dd9f79b2f48",
   "metadata": {},
   "source": [
    "In fact, the resulting dimension is the maximum between the two operands as the convention of union between two `MultiIndexSet`'s. The same convention applies to the resulting $l_p$-degree."
   ]
  },
  {
   "cell_type": "markdown",
   "id": "aa7c5a5d-af8a-4999-bee5-b8ae597d1d12",
   "metadata": {},
   "source": [
    "## Multiplication"
   ]
  },
  {
   "cell_type": "markdown",
   "id": "f74478a5-cd3e-4b3a-84a4-83114e388cff",
   "metadata": {},
   "source": [
    "The multiplication between any set with an empty set of the same dimension, yields the empty set:"
   ]
  },
  {
   "cell_type": "code",
   "execution_count": null,
   "id": "3d32c8ed-ee22-4d17-a750-d9ec86a4cfdf",
   "metadata": {},
   "outputs": [],
   "source": [
    "mi_1 * mi"
   ]
  },
  {
   "cell_type": "markdown",
   "id": "98418aa0-9016-422c-92bc-6eef453f1f61",
   "metadata": {},
   "source": [
    "Following the convention of multiplication between two `MultiIndexSet`'s, if the spatial dimensions of the two sets differ, the resulting set has the higher dimension.\n",
    "Similar convention applies to the $l_p$-degree of the product set."
   ]
  },
  {
   "cell_type": "markdown",
   "id": "9cf27cf1-a53a-4031-b473-71f167883134",
   "metadata": {},
   "source": [
    "## Set membership"
   ]
  },
  {
   "cell_type": "markdown",
   "id": "08108d1a-309b-4f22-8544-5a4c80568a29",
   "metadata": {},
   "source": [
    "The empty set is a subset of every set. For example:"
   ]
  },
  {
   "cell_type": "code",
   "execution_count": null,
   "id": "5a983265-3a82-4dcc-a6a5-ca4da57faa22",
   "metadata": {},
   "outputs": [],
   "source": [
    "mi.is_subset(mi_1)"
   ]
  },
  {
   "cell_type": "markdown",
   "id": "e25d5391-42c8-4a4b-9b83-2c5944f9376d",
   "metadata": {},
   "source": [
    "Every set is a superset of the empty set. For example:"
   ]
  },
  {
   "cell_type": "code",
   "execution_count": null,
   "id": "342351fa-be81-45fa-8046-1e7096f3ed16",
   "metadata": {},
   "outputs": [],
   "source": [
    "mi_1.is_super_index_set_of(mi)"
   ]
  }
 ],
 "metadata": {
  "kernelspec": {
   "display_name": "Python 3 (ipykernel)",
   "language": "python",
   "name": "python3"
  },
  "language_info": {
   "codemirror_mode": {
    "name": "ipython",
    "version": 3
   },
   "file_extension": ".py",
   "mimetype": "text/x-python",
   "name": "python",
   "nbconvert_exporter": "python",
   "pygments_lexer": "ipython3",
   "version": "3.8.18"
  }
 },
 "nbformat": 4,
 "nbformat_minor": 5
}
