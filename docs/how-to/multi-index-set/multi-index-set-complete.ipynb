{
 "cells": [
  {
   "cell_type": "markdown",
   "id": "5741d863-bc8c-4011-8d63-712c89ef9dd8",
   "metadata": {},
   "source": [
    "# Make a Multi-Index Set Complete"
   ]
  },
  {
   "cell_type": "code",
   "execution_count": 1,
   "id": "c94d29f1-8250-4231-af69-440ef9df77df",
   "metadata": {},
   "outputs": [],
   "source": [
    "import minterpy as mp\n",
    "import numpy as np"
   ]
  },
  {
   "cell_type": "markdown",
   "id": "79490875-cdde-497a-a5a8-c20588b5ece9",
   "metadata": {},
   "source": [
    "A multi-index set $A$ is said to be _complete_ if, for a given polynomial of degree $n \\in \\mathbb{N}$ under $l_p$-norm, it contains all the exponents such that $\\lVert \\boldsymbol{\\alpha} \\rVert_p = (\\alpha_1^p + \\ldots + \\alpha_M^p)^{\\frac{1}{p}} \\leq n$ for all $\\boldsymbol{\\alpha} \\in A$.\n",
    "\n",
    "This guide shows how to check a given `MultiIndexSet` instance for completeness and make the corresponding set of exponents complete."
   ]
  },
  {
   "cell_type": "markdown",
   "id": "d6f277a3-1a78-496f-9154-a092dbded327",
   "metadata": {},
   "source": [
    "## Motivating example\n",
    "\n",
    "Consider a (incomplete) three-dimensional multi-index set with a single element and $l_p$-degree of $2.0$ as follows:\n",
    "\n",
    "$$\n",
    "A = \\{ (0, 0, 2) \\}\n",
    "$$"
   ]
  },
  {
   "cell_type": "markdown",
   "id": "63a9fc78-d3e7-463a-9b11-cedf391ee827",
   "metadata": {},
   "source": [
    "This multi-index set can be created in Minterpy as follows:"
   ]
  },
  {
   "cell_type": "code",
   "execution_count": 12,
   "id": "3bff2feb-3a96-4f93-94b7-4ab900c8e4dd",
   "metadata": {},
   "outputs": [],
   "source": [
    "mi = mp.MultiIndexSet(np.array([[0, 0, 2]]), lp_degree=2.0)"
   ]
  },
  {
   "cell_type": "code",
   "execution_count": 13,
   "id": "9a115ec2-1bcc-4dd5-9dc4-c1b5af2c1fdd",
   "metadata": {},
   "outputs": [
    {
     "name": "stdout",
     "output_type": "stream",
     "text": [
      "MultiIndexSet\n",
      "[[0 0 2]]\n"
     ]
    }
   ],
   "source": [
    "print(mi)"
   ]
  },
  {
   "cell_type": "markdown",
   "id": "f8eacd5f-3ee6-4f29-ba4f-dc325b5a1b42",
   "metadata": {},
   "source": [
    "## Check for completeness\n",
    "\n",
    "The property `is_complete` of a `MultiIndexSet` instance returns `True` if the set of exponents in the instance is complete and `False` otherwise. "
   ]
  },
  {
   "cell_type": "code",
   "execution_count": 14,
   "id": "0dabd4f7-32d7-42e7-af1e-ffce35969d46",
   "metadata": {},
   "outputs": [
    {
     "data": {
      "text/plain": [
       "False"
      ]
     },
     "execution_count": 14,
     "metadata": {},
     "output_type": "execute_result"
    }
   ],
   "source": [
    "mi.is_complete"
   ]
  },
  {
   "cell_type": "markdown",
   "id": "edc4aecb-5468-460d-996c-241ad8bfb63d",
   "metadata": {},
   "source": [
    "## Make complete\n",
    "\n",
    "The method `make_complete()` creates a complete multi-index set from a given instance of `MultiIndexSet`."
   ]
  },
  {
   "cell_type": "code",
   "execution_count": 15,
   "id": "0c19ae50-684e-4766-863b-d92fa5120bba",
   "metadata": {},
   "outputs": [
    {
     "data": {
      "text/plain": [
       "MultiIndexSet\n",
       "[[0 0 0]\n",
       " [1 0 0]\n",
       " [2 0 0]\n",
       " [0 1 0]\n",
       " [1 1 0]\n",
       " [0 2 0]\n",
       " [0 0 1]\n",
       " [1 0 1]\n",
       " [0 1 1]\n",
       " [1 1 1]\n",
       " [0 0 2]]"
      ]
     },
     "execution_count": 15,
     "metadata": {},
     "output_type": "execute_result"
    }
   ],
   "source": [
    "mi.make_complete()"
   ]
  },
  {
   "cell_type": "markdown",
   "id": "08dc6cbf-6235-436f-bd0e-fe0b5d271b9f",
   "metadata": {},
   "source": [
    "The method returns a new instance of `MultiIndexSet` and can be stored in a variable for further use:"
   ]
  },
  {
   "cell_type": "code",
   "execution_count": 16,
   "id": "f66557d5-8d81-4919-937c-ba5f16b9a56d",
   "metadata": {},
   "outputs": [],
   "source": [
    "mi_complete = mi.make_complete()"
   ]
  },
  {
   "cell_type": "markdown",
   "id": "9490975f-6abd-4060-b6e3-be82041e838e",
   "metadata": {},
   "source": [
    "And indeed, the resulting multi-index set is complete:"
   ]
  },
  {
   "cell_type": "code",
   "execution_count": 10,
   "id": "a9b6e2a7-7ff5-4957-8e3f-ac789efe31e0",
   "metadata": {},
   "outputs": [
    {
     "data": {
      "text/plain": [
       "True"
      ]
     },
     "execution_count": 10,
     "metadata": {},
     "output_type": "execute_result"
    }
   ],
   "source": [
    "mi_complete.is_complete"
   ]
  }
 ],
 "metadata": {
  "kernelspec": {
   "display_name": "Python 3 (ipykernel)",
   "language": "python",
   "name": "python3"
  },
  "language_info": {
   "codemirror_mode": {
    "name": "ipython",
    "version": 3
   },
   "file_extension": ".py",
   "mimetype": "text/x-python",
   "name": "python",
   "nbconvert_exporter": "python",
   "pygments_lexer": "ipython3",
   "version": "3.8.17"
  }
 },
 "nbformat": 4,
 "nbformat_minor": 5
}
