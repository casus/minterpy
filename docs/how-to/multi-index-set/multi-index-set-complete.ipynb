{
 "cells": [
  {
   "cell_type": "markdown",
   "id": "5741d863-bc8c-4011-8d63-712c89ef9dd8",
   "metadata": {},
   "source": [
    "# Make a Multi-Index Set Complete"
   ]
  },
  {
   "cell_type": "code",
   "execution_count": null,
   "id": "c94d29f1-8250-4231-af69-440ef9df77df",
   "metadata": {},
   "outputs": [],
   "source": [
    "import minterpy as mp\n",
    "import numpy as np"
   ]
  },
  {
   "cell_type": "markdown",
   "id": "79490875-cdde-497a-a5a8-c20588b5ece9",
   "metadata": {},
   "source": [
    "A multi-index set $A$ is said to be _complete_ if, for a given polynomial of degree $n \\in \\mathbb{N}$ and with respect to a given $p$ of an $l_p$-norm (i.e., the $l_p$-degree), it contains all the exponents such that $\\lVert \\boldsymbol{\\alpha} \\rVert_p = (\\alpha_1^p + \\ldots + \\alpha_m^p)^{\\frac{1}{p}} \\leq n$ for all $\\boldsymbol{\\alpha} \\in A$.\n",
    "\n",
    "This guide shows how to check a given `MultiIndexSet` instance for completeness and make the corresponding set of exponents complete."
   ]
  },
  {
   "cell_type": "markdown",
   "id": "d6f277a3-1a78-496f-9154-a092dbded327",
   "metadata": {},
   "source": [
    "## Motivating example\n",
    "\n",
    "Consider a (incomplete) three-dimensional multi-index set with a single element and $l_p$-degree of $2.0$ as follows:\n",
    "\n",
    "$$\n",
    "A = \\{ (0, 0, 2) \\}\n",
    "$$"
   ]
  },
  {
   "cell_type": "markdown",
   "id": "63a9fc78-d3e7-463a-9b11-cedf391ee827",
   "metadata": {},
   "source": [
    "This multi-index set can be created in Minterpy as follows:"
   ]
  },
  {
   "cell_type": "code",
   "execution_count": null,
   "id": "3bff2feb-3a96-4f93-94b7-4ab900c8e4dd",
   "metadata": {},
   "outputs": [],
   "source": [
    "mi = mp.MultiIndexSet(np.array([[0, 0, 2]]), lp_degree=2.0)"
   ]
  },
  {
   "cell_type": "code",
   "execution_count": null,
   "id": "9a115ec2-1bcc-4dd5-9dc4-c1b5af2c1fdd",
   "metadata": {},
   "outputs": [],
   "source": [
    "print(mi)"
   ]
  },
  {
   "cell_type": "markdown",
   "id": "5d0a5ad1-4a03-4829-9902-1a3918c7305b",
   "metadata": {},
   "source": [
    "This set has a polynomial degree of:"
   ]
  },
  {
   "cell_type": "code",
   "execution_count": null,
   "id": "93096b3b-17c6-4827-a15e-bc918b960602",
   "metadata": {},
   "outputs": [],
   "source": [
    "mi.poly_degree"
   ]
  },
  {
   "cell_type": "markdown",
   "id": "33ce61cd-8c9b-434d-b70a-6a52509d2392",
   "metadata": {},
   "source": [
    "```{note}\n",
    "This polynomial degree corresponds to the _minimum_ degree $n$ such that all elements in the multi-index set satisfy the $l_p$-norm condition $\\lVert \\boldsymbol{\\alpha} \\rVert_p = (\\alpha_1^p + \\ldots + \\alpha_m^p)^{\\frac{1}{p}} \\leq n$ for all $\\boldsymbol{\\alpha} \\in A$. Given a set of exponents and $l_p$-degree, Minterpy automatically infers this polynomial degree.\n",
    "```"
   ]
  },
  {
   "cell_type": "markdown",
   "id": "f8eacd5f-3ee6-4f29-ba4f-dc325b5a1b42",
   "metadata": {},
   "source": [
    "## Check for completeness\n",
    "\n",
    "The property `is_complete` of a `MultiIndexSet` instance returns `True` if the set of exponents in the instance is complete and `False` otherwise. "
   ]
  },
  {
   "cell_type": "code",
   "execution_count": null,
   "id": "0dabd4f7-32d7-42e7-af1e-ffce35969d46",
   "metadata": {},
   "outputs": [],
   "source": [
    "mi.is_complete"
   ]
  },
  {
   "cell_type": "markdown",
   "id": "d7f74e72-5188-47d8-a626-eed48b7fc9e6",
   "metadata": {},
   "source": [
    "The check indicates that the given multi-index set is not complete with respect to the given polynomial degree and $l_p$-degree."
   ]
  },
  {
   "cell_type": "markdown",
   "id": "edc4aecb-5468-460d-996c-241ad8bfb63d",
   "metadata": {},
   "source": [
    "## Make complete\n",
    "\n",
    "The method `make_complete()` creates a complete multi-index set from a given instance of `MultiIndexSet`."
   ]
  },
  {
   "cell_type": "code",
   "execution_count": null,
   "id": "0c19ae50-684e-4766-863b-d92fa5120bba",
   "metadata": {},
   "outputs": [],
   "source": [
    "mi.make_complete()"
   ]
  },
  {
   "cell_type": "markdown",
   "id": "08dc6cbf-6235-436f-bd0e-fe0b5d271b9f",
   "metadata": {},
   "source": [
    "The method returns a new instance of `MultiIndexSet` and can be stored in a variable for further use:"
   ]
  },
  {
   "cell_type": "code",
   "execution_count": null,
   "id": "f66557d5-8d81-4919-937c-ba5f16b9a56d",
   "metadata": {},
   "outputs": [],
   "source": [
    "mi_complete = mi.make_complete()"
   ]
  },
  {
   "cell_type": "markdown",
   "id": "9490975f-6abd-4060-b6e3-be82041e838e",
   "metadata": {},
   "source": [
    "And indeed, the resulting multi-index set is complete:"
   ]
  },
  {
   "cell_type": "code",
   "execution_count": null,
   "id": "a9b6e2a7-7ff5-4957-8e3f-ac789efe31e0",
   "metadata": {},
   "outputs": [],
   "source": [
    "mi_complete.is_complete"
   ]
  },
  {
   "cell_type": "markdown",
   "id": "7f367996-ee84-4577-b9e7-ca12387ac297",
   "metadata": {},
   "source": [
    "## Completeness with respect to different polynomial degrees and $l_p$-degrees\n",
    "\n",
    "A complete set is always defined with respect to a given polynomial degree _and_ $l_p$-degree.\n",
    "For instance, the complete three-dimensional multi-index set for a polynomial degree $2$ and $l_p$-degree $1.0$ is:"
   ]
  },
  {
   "cell_type": "code",
   "execution_count": null,
   "id": "c04f9def-7436-46a3-b25b-dd0d5dbca014",
   "metadata": {},
   "outputs": [],
   "source": [
    "mp.MultiIndexSet.from_degree(3, 2, 1.0)"
   ]
  },
  {
   "cell_type": "markdown",
   "id": "66b1aec0-0085-4d96-b848-a1812a3e739a",
   "metadata": {},
   "source": [
    "```{note}\n",
    "As noted in {doc}`multi-index-set-create`, the constructor `from_degree()` of the `MultiIndexSet` class creates a _complete_ multi-index set for the given spatial dimensions, polynomial degree, and $l_p$-degree.\n",
    "```"
   ]
  },
  {
   "cell_type": "markdown",
   "id": "ad41049f-2560-4b3f-82f1-4296dc732499",
   "metadata": {},
   "source": [
    "while the complete three-dimensional multi-index set for a polynomial degree $2$ (the same polynomial degree) and $l_p$-degree $2.0$ as given above is:"
   ]
  },
  {
   "cell_type": "code",
   "execution_count": null,
   "id": "22ed089f-adaa-4ee7-87d4-a3361f0ffd57",
   "metadata": {},
   "outputs": [],
   "source": [
    "mi_complete"
   ]
  },
  {
   "cell_type": "markdown",
   "id": "4043d43d-1da7-4795-954f-882e75000534",
   "metadata": {},
   "source": [
    "In particular, the element $(1, 1, 1)$ is missing from the complete set with respect to $l_p$-degree $1.0$ because the element _does not_ satisfy the condition $\\left( 1^1 + 1^1 + 1^1 \\right)^1 \\leq 2$ (i.e., for $l_p$-degree $1.0$). However, the element does satisfy the condition $\\left( 1^2 + 1^2 + 1^2 \\right)^{0.5} \\leq 2$ (i.e., for $l_p$-degree $2.0$)."
   ]
  },
  {
   "cell_type": "markdown",
   "id": "42828cab-e351-435b-a1bb-1e0085182e85",
   "metadata": {},
   "source": [
    "Similarly, if the polynomial degree differs, the corresponding complete set for the same $l_p$-degree (and spatial dimensions) is in general different. For instance, the complete three-dimensional multi-index set for a polynomial degree $3$ and $l_p$-degree $2.0$:"
   ]
  },
  {
   "cell_type": "code",
   "execution_count": null,
   "id": "bf1e18d6-1eb2-4c4f-9da0-61cba6fd27dc",
   "metadata": {},
   "outputs": [],
   "source": [
    "mp.MultiIndexSet.from_degree(3, 3, 2.0)"
   ]
  },
  {
   "cell_type": "markdown",
   "id": "0d65adbe-8db5-4126-98e7-cea484aa5bc2",
   "metadata": {},
   "source": [
    "The set contains many more elements compared the previous two because the condition $\\lVert \\boldsymbol{\\alpha} \\rVert_2 = (\\alpha_1^2 + \\alpha_2^2 + \\alpha_3^2)^{\\frac{1}{2}} \\leq 3$ may now be satisfied for many more multi-index elements."
   ]
  },
  {
   "cell_type": "markdown",
   "id": "d1282a45-51fa-4bf3-b298-e4e0ec8e5f83",
   "metadata": {},
   "source": [
    "## Completeness vs downward-closedness\n",
    "\n",
    "All complete multi-index sets are downward-closed (see {doc}`multi-index-set-downward-closed`).\n",
    "Indeed, the three different complete multi-index sets given above do not contain any lexicographical \"holes\"; all are downward-closed.\n",
    "\n",
    "Generally speaking, a downward-closed set may or may not be complete but, unlike completeness, downward-closedness is defined independently from any polynomial degree and $l_p$-degree."
   ]
  }
 ],
 "metadata": {
  "kernelspec": {
   "display_name": "Python 3 (ipykernel)",
   "language": "python",
   "name": "python3"
  },
  "language_info": {
   "codemirror_mode": {
    "name": "ipython",
    "version": 3
   },
   "file_extension": ".py",
   "mimetype": "text/x-python",
   "name": "python",
   "nbconvert_exporter": "python",
   "pygments_lexer": "ipython3",
   "version": "3.8.18"
  }
 },
 "nbformat": 4,
 "nbformat_minor": 5
}
