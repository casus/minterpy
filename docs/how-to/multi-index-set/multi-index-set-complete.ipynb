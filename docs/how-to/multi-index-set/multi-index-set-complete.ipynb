{
 "cells": [
  {
   "cell_type": "markdown",
   "id": "5741d863-bc8c-4011-8d63-712c89ef9dd8",
   "metadata": {},
   "source": [
    "# Make a Multi-Index Set Complete"
   ]
  },
  {
   "cell_type": "code",
   "execution_count": 1,
   "id": "c94d29f1-8250-4231-af69-440ef9df77df",
   "metadata": {},
   "outputs": [],
   "source": [
    "import minterpy as mp\n",
    "import numpy as np"
   ]
  },
  {
   "cell_type": "markdown",
   "id": "79490875-cdde-497a-a5a8-c20588b5ece9",
   "metadata": {},
   "source": [
    "This guide shows how to make the set of exponents in an instance of `MultiIndexSet` complete."
   ]
  },
  {
   "cell_type": "markdown",
   "id": "d6f277a3-1a78-496f-9154-a092dbded327",
   "metadata": {},
   "source": [
    "## Motivating example\n",
    "\n",
    "Consider a three-dimensional multi-index set with a single element and $l_p$-degree of $2.0$ as follows:\n",
    "$$\n",
    "A = \\{ (0, 0, 2) \\}\n",
    "$$"
   ]
  },
  {
   "cell_type": "code",
   "execution_count": 3,
   "id": "3bff2feb-3a96-4f93-94b7-4ab900c8e4dd",
   "metadata": {},
   "outputs": [],
   "source": [
    "mi = mp.MultiIndexSet(\n",
    "    np.array([[0, 0, 2]]), lp_degree=2.0\n",
    ")"
   ]
  },
  {
   "cell_type": "code",
   "execution_count": 4,
   "id": "9a115ec2-1bcc-4dd5-9dc4-c1b5af2c1fdd",
   "metadata": {},
   "outputs": [
    {
     "name": "stdout",
     "output_type": "stream",
     "text": [
      "MultiIndexSet\n",
      "[[0 0 2]]\n"
     ]
    }
   ],
   "source": [
    "print(mi)"
   ]
  },
  {
   "cell_type": "markdown",
   "id": "f8eacd5f-3ee6-4f29-ba4f-dc325b5a1b42",
   "metadata": {},
   "source": [
    "## Check for completeness\n",
    "\n",
    "A multi-index set $A$ is said to be _complete_ if, for a given polynomial degree $p$ and $l_p$-degree, it contains all the exponents such that $\\lVert \\boldsymbol{\\alpha} \\rVert_p = (\\alpha_1^p + \\ldots + \\alpha_M^p)^{\\frac{1}{p}} \\leq l_p$ for all $\\boldsymbol{\\alpha} \\in A$.\n",
    "\n",
    "The property `is_complete` returns `True` if the set of exponents in a `MultiIndexSet` instance is complete and `False` otherwise. "
   ]
  },
  {
   "cell_type": "code",
   "execution_count": 6,
   "id": "0dabd4f7-32d7-42e7-af1e-ffce35969d46",
   "metadata": {},
   "outputs": [
    {
     "data": {
      "text/plain": [
       "False"
      ]
     },
     "execution_count": 6,
     "metadata": {},
     "output_type": "execute_result"
    }
   ],
   "source": [
    "mi.is_complete"
   ]
  },
  {
   "cell_type": "markdown",
   "id": "edc4aecb-5468-460d-996c-241ad8bfb63d",
   "metadata": {},
   "source": [
    "## Make complete\n",
    "\n",
    "The method `make_complete()` creates a complete multi-index set from a given instance of `MultiIndexSet`."
   ]
  },
  {
   "cell_type": "code",
   "execution_count": 7,
   "id": "0c19ae50-684e-4766-863b-d92fa5120bba",
   "metadata": {},
   "outputs": [
    {
     "ename": "TypeError",
     "evalue": "__init__() missing 1 required positional argument: 'lp_degree'",
     "output_type": "error",
     "traceback": [
      "\u001b[0;31m---------------------------------------------------------------------------\u001b[0m",
      "\u001b[0;31mTypeError\u001b[0m                                 Traceback (most recent call last)",
      "Cell \u001b[0;32mIn[7], line 1\u001b[0m\n\u001b[0;32m----> 1\u001b[0m \u001b[43mmi\u001b[49m\u001b[38;5;241;43m.\u001b[39;49m\u001b[43mmake_complete\u001b[49m\u001b[43m(\u001b[49m\u001b[43m)\u001b[49m\n",
      "File \u001b[0;32m~/projects/minterpy/dev-113/src/minterpy/core/multi_index.py:361\u001b[0m, in \u001b[0;36mMultiIndexSet.make_complete\u001b[0;34m(self)\u001b[0m\n\u001b[1;32m    359\u001b[0m     \u001b[38;5;28;01mreturn\u001b[39;00m \u001b[38;5;28mself\u001b[39m\n\u001b[1;32m    360\u001b[0m new_exponents \u001b[38;5;241m=\u001b[39m \u001b[38;5;28mself\u001b[39m\u001b[38;5;241m.\u001b[39mexponents_completed  \u001b[38;5;66;03m# compute if necessary!\u001b[39;00m\n\u001b[0;32m--> 361\u001b[0m new_instance \u001b[38;5;241m=\u001b[39m \u001b[38;5;28;43mself\u001b[39;49m\u001b[38;5;241;43m.\u001b[39;49m\u001b[38;5;18;43m__class__\u001b[39;49m\u001b[43m(\u001b[49m\u001b[43mnew_exponents\u001b[49m\u001b[43m)\u001b[49m  \u001b[38;5;66;03m# re-compute degree etc.\u001b[39;00m\n\u001b[1;32m    362\u001b[0m \u001b[38;5;66;03m# NOTE: avoid checking for completeness again!\u001b[39;00m\n\u001b[1;32m    363\u001b[0m new_instance\u001b[38;5;241m.\u001b[39m_is_complete \u001b[38;5;241m=\u001b[39m \u001b[38;5;28;01mTrue\u001b[39;00m\n",
      "\u001b[0;31mTypeError\u001b[0m: __init__() missing 1 required positional argument: 'lp_degree'"
     ]
    }
   ],
   "source": [
    "mi.make_complete()"
   ]
  },
  {
   "cell_type": "code",
   "execution_count": null,
   "id": "a8e9eb23-4eb1-42c4-9a3b-5b8d627f3b1a",
   "metadata": {},
   "outputs": [],
   "source": []
  }
 ],
 "metadata": {
  "kernelspec": {
   "display_name": "Python 3 (ipykernel)",
   "language": "python",
   "name": "python3"
  },
  "language_info": {
   "codemirror_mode": {
    "name": "ipython",
    "version": 3
   },
   "file_extension": ".py",
   "mimetype": "text/x-python",
   "name": "python",
   "nbconvert_exporter": "python",
   "pygments_lexer": "ipython3",
   "version": "3.8.17"
  }
 },
 "nbformat": 4,
 "nbformat_minor": 5
}
