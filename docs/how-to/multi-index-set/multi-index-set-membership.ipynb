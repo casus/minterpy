{
 "cells": [
  {
   "cell_type": "markdown",
   "source": [
    "# Check for Membership (Containment)"
   ],
   "metadata": {
    "collapsed": false
   },
   "id": "929e5ef6b5e9f3f5"
  },
  {
   "cell_type": "code",
   "execution_count": 1,
   "id": "9a31baab-58d9-4bec-ad3c-9a636b9821b0",
   "metadata": {
    "ExecuteTime": {
     "end_time": "2024-02-19T15:31:42.907039800Z",
     "start_time": "2024-02-19T15:31:41.874038300Z"
    }
   },
   "outputs": [],
   "source": [
    "import minterpy as mp\n",
    "import numpy as np"
   ]
  },
  {
   "cell_type": "markdown",
   "id": "c63562c0-ee9f-4de6-bc5d-f0ff72b4be1f",
   "metadata": {},
   "source": [
    "This guide shows how to check the membership of a set of exponents in a `MultiIndexSet` instance."
   ]
  },
  {
   "cell_type": "markdown",
   "id": "4c6a6b9b-e11f-4f27-96bc-81076bfc37c1",
   "metadata": {},
   "source": [
    "## Motivating example"
   ]
  },
  {
   "cell_type": "markdown",
   "id": "883618a3-742b-45ed-b945-3bd56f740441",
   "metadata": {},
   "source": [
    "As a motivating example, consider the following three multi-index sets of the same dimension and $l_p$-degree of $2.0$:\n",
    "\n",
    "\\begin{align*}\n",
    "A & = \\left\\{ (0, 0, 0), (1, 0, 0), (2, 0, 0), (0, 1, 0), (1, 1, 0) \\right\\}\\\\\n",
    "B & = \\left\\{ (0, 0, 0), (1, 0, 0) \\right\\}\\\\\n",
    "C & = \\left\\{ (0, 0, 0), (2, 0, 0), (0, 1, 0), (1, 1, 0), (0, 0, 2) \\right\\}\n",
    "\\end{align*}"
   ]
  },
  {
   "cell_type": "code",
   "execution_count": 2,
   "id": "15893b78-f97d-4da7-aa92-ca88881b024e",
   "metadata": {
    "ExecuteTime": {
     "end_time": "2024-02-19T15:31:42.923054Z",
     "start_time": "2024-02-19T15:31:42.912039200Z"
    }
   },
   "outputs": [],
   "source": [
    "mi_a = mp.MultiIndexSet(\n",
    "    np.array([[0, 0, 0], [1, 0, 0], [2, 0, 0], [0, 1, 0], [1, 1, 0]]),\n",
    "    lp_degree=2.0,\n",
    ")\n",
    "mi_b = mp.MultiIndexSet(\n",
    "    np.array([[0, 0, 0], [1, 0, 0]]),\n",
    "    lp_degree=2.0,\n",
    ")\n",
    "mi_c = mp.MultiIndexSet(\n",
    "    np.array(\n",
    "        [[0, 0, 0], [2, 0, 0], [0, 1, 0], [1, 1, 0], [0, 0, 2]],\n",
    "    ),\n",
    "    lp_degree=2.0,\n",
    ")"
   ]
  },
  {
   "cell_type": "markdown",
   "id": "be6dabac-6366-4c47-9f1a-73dcd41f8812",
   "metadata": {},
   "source": [
    "## Check for exponents membership\n",
    "\n",
    "The method `contains_these_exponents()` is used to check whether a given set of exponents are contained in the set of exponents of a `MultiIndexSet` instance. The method takes as input the set of exponents as an integer NumPy array. It returns `True` if the set of exponents are contained in the `MultiIndexSet` instance and `False` otherwise.\n",
    "\n",
    "For instance, to check if the exponents $\\{(0, 0, 0), (2, 0, 0)\\}$ are contained in the multi-index set $A$ (they are):"
   ]
  },
  {
   "cell_type": "code",
   "execution_count": 3,
   "id": "3ce7c139-aff2-4294-bb8d-e25b49d96349",
   "metadata": {
    "ExecuteTime": {
     "end_time": "2024-02-19T15:31:43.207058300Z",
     "start_time": "2024-02-19T15:31:43.192055300Z"
    }
   },
   "outputs": [
    {
     "data": {
      "text/plain": "True"
     },
     "execution_count": 3,
     "metadata": {},
     "output_type": "execute_result"
    }
   ],
   "source": [
    "mi_a.contains_these_exponents(np.array([[0, 0, 0], [2, 0, 0]]))"
   ]
  },
  {
   "cell_type": "markdown",
   "id": "8a971333-f266-423a-9051-a0bba6445d59",
   "metadata": {},
   "source": [
    "```{attention}\n",
    "Note that the dimension of the set exponents must be consistent with the dimension of the multi-index set; otherwise, an exception will be raised.\n",
    "This behavior can be changed via the parameter `expand_dim` (default is set to `False`); if set to `True`, the set whose the lower dimension is first expanded before the membership check is carried out.\n",
    "```"
   ]
  },
  {
   "cell_type": "markdown",
   "id": "494ea7fc-f1b9-4f8d-aa6e-3ea373472ce3",
   "metadata": {},
   "source": [
    "As another example, the exponent $(2, 0, 0)$ is not contained in $B$:"
   ]
  },
  {
   "cell_type": "code",
   "execution_count": 4,
   "id": "2cc47181-017e-4b09-982a-22b7f31e8a9f",
   "metadata": {
    "ExecuteTime": {
     "end_time": "2024-02-19T15:31:44.867012Z",
     "start_time": "2024-02-19T15:31:44.844007700Z"
    }
   },
   "outputs": [
    {
     "data": {
      "text/plain": "False"
     },
     "execution_count": 4,
     "metadata": {},
     "output_type": "execute_result"
    }
   ],
   "source": [
    "mi_b.contains_these_exponents(np.array([[2, 0, 0]]))"
   ]
  },
  {
   "cell_type": "markdown",
   "id": "92a88454-1264-402a-a561-a44fd782b7cb",
   "metadata": {},
   "source": [
    "If a set of exponents are checked then it is either all of them are contained in a multi-index set or none of them; a set of exponents cannot be partially contained in a multi-index set.\n",
    "\n",
    "For instance, the set of exponents $\\{ (0, 0, 0), (1, 0, 0), (2, 0, 0) \\}$ is _not_ contained in $B$ because the element $(2, 0, 0)$ is not contained in $B$:"
   ]
  },
  {
   "cell_type": "code",
   "execution_count": 5,
   "id": "7821f264-c01e-4e6b-8981-4654b451a285",
   "metadata": {
    "ExecuteTime": {
     "end_time": "2024-02-19T15:31:45.792151100Z",
     "start_time": "2024-02-19T15:31:45.780155700Z"
    }
   },
   "outputs": [
    {
     "data": {
      "text/plain": "False"
     },
     "execution_count": 5,
     "metadata": {},
     "output_type": "execute_result"
    }
   ],
   "source": [
    "mi_b.contains_these_exponents(\n",
    "    np.array([[0, 0, 0], [1, 0, 0], [2, 0, 0]])\n",
    ")"
   ]
  },
  {
   "cell_type": "markdown",
   "source": [
    "## `in` Keyword\n",
    "\n",
    "A single index element may be checked for containment in a `MultiIndexSet` instance via the `in` keyword.\n",
    "For instance, the element $(1, 1, 0)$ is in $C$:"
   ],
   "metadata": {
    "collapsed": false
   },
   "id": "ed4c4e7d36819252"
  },
  {
   "cell_type": "code",
   "outputs": [
    {
     "data": {
      "text/plain": "True"
     },
     "execution_count": 8,
     "metadata": {},
     "output_type": "execute_result"
    }
   ],
   "source": [
    "np.array([1, 1, 0]) in mi_c"
   ],
   "metadata": {
    "collapsed": false,
    "ExecuteTime": {
     "end_time": "2024-02-19T15:33:03.933478800Z",
     "start_time": "2024-02-19T15:33:03.917406100Z"
    }
   },
   "id": "68fa59c64190c0e",
   "execution_count": 8
  },
  {
   "cell_type": "markdown",
   "source": [
    "One may also use list instead of an array:"
   ],
   "metadata": {
    "collapsed": false
   },
   "id": "1fa807693584e6cb"
  },
  {
   "cell_type": "code",
   "outputs": [
    {
     "data": {
      "text/plain": "True"
     },
     "execution_count": 10,
     "metadata": {},
     "output_type": "execute_result"
    }
   ],
   "source": [
    "[0, 0, 0] in mi_a"
   ],
   "metadata": {
    "collapsed": false,
    "ExecuteTime": {
     "end_time": "2024-02-19T15:33:56.891491500Z",
     "start_time": "2024-02-19T15:33:56.856459800Z"
    }
   },
   "id": "e916e2460d68dcdd",
   "execution_count": 10
  },
  {
   "cell_type": "markdown",
   "source": [
    "Note that the containment check via the `in` keyword is forgiving in the sense that if the operation does not make any sense the statement simply returns `False` instead of raising an exception.\n",
    "For example:"
   ],
   "metadata": {
    "collapsed": false
   },
   "id": "3eec39c56c1d4448"
  },
  {
   "cell_type": "code",
   "outputs": [
    {
     "data": {
      "text/plain": "False"
     },
     "execution_count": 11,
     "metadata": {},
     "output_type": "execute_result"
    }
   ],
   "source": [
    "\"a\" in mi_a"
   ],
   "metadata": {
    "collapsed": false,
    "ExecuteTime": {
     "end_time": "2024-02-19T15:35:04.930613600Z",
     "start_time": "2024-02-19T15:35:04.888614500Z"
    }
   },
   "id": "a6dc4d12acccb755",
   "execution_count": 11
  },
  {
   "cell_type": "markdown",
   "source": [
    "## Different in spatial dimension\n",
    "\n",
    "The behavior of the `contains_these_exponents()` method and the `in` keyword differs with respect to how it handle item of different spatial dimension.\n",
    "In the method call, if there is any difference in the spatial dimension, the method raises an exception.\n",
    "This behavior can be changed via the `expand_dim` parameter."
   ],
   "metadata": {
    "collapsed": false
   },
   "id": "b15d0ee8f8e62b50"
  },
  {
   "cell_type": "markdown",
   "source": [
    "For example, the index element $(1, 1)$ when compared to a set whose spatial dimension is $3$ is expanded to $(1, 1, 0)$ (zero padding) when `expand_dim` is set to `True`: "
   ],
   "metadata": {
    "collapsed": false
   },
   "id": "55557fd08c27a054"
  },
  {
   "cell_type": "code",
   "outputs": [
    {
     "data": {
      "text/plain": "True"
     },
     "execution_count": 18,
     "metadata": {},
     "output_type": "execute_result"
    }
   ],
   "source": [
    "mi_a.contains_these_exponents(np.array([[1, 1]]), expand_dim=True)"
   ],
   "metadata": {
    "collapsed": false,
    "ExecuteTime": {
     "end_time": "2024-02-19T15:41:19.990518700Z",
     "start_time": "2024-02-19T15:41:19.979519Z"
    }
   },
   "id": "e3a6313297d47000",
   "execution_count": 18
  },
  {
   "cell_type": "markdown",
   "source": [
    "When using the `in` keyword, this dimension expansion happens automatically:"
   ],
   "metadata": {
    "collapsed": false
   },
   "id": "a4b6622c9ab4f440"
  },
  {
   "cell_type": "code",
   "outputs": [
    {
     "data": {
      "text/plain": "True"
     },
     "execution_count": 24,
     "metadata": {},
     "output_type": "execute_result"
    }
   ],
   "source": [
    "[1, 1] in mi_a"
   ],
   "metadata": {
    "collapsed": false,
    "ExecuteTime": {
     "end_time": "2024-02-19T15:42:19.352616100Z",
     "start_time": "2024-02-19T15:42:19.331585300Z"
    }
   },
   "id": "add654de4e5ede0f",
   "execution_count": 24
  }
 ],
 "metadata": {
  "kernelspec": {
   "display_name": "Python 3 (ipykernel)",
   "language": "python",
   "name": "python3"
  },
  "language_info": {
   "codemirror_mode": {
    "name": "ipython",
    "version": 3
   },
   "file_extension": ".py",
   "mimetype": "text/x-python",
   "name": "python",
   "nbconvert_exporter": "python",
   "pygments_lexer": "ipython3",
   "version": "3.8.17"
  }
 },
 "nbformat": 4,
 "nbformat_minor": 5
}
