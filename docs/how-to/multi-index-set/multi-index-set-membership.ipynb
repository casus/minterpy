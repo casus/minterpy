{
 "cells": [
  {
   "cell_type": "markdown",
   "id": "f37c96eb-ccaa-48ae-8950-2c70e195da03",
   "metadata": {},
   "source": [
    "# Check for Membership, Subset, or Superset"
   ]
  },
  {
   "cell_type": "code",
   "execution_count": null,
   "id": "9a31baab-58d9-4bec-ad3c-9a636b9821b0",
   "metadata": {},
   "outputs": [],
   "source": [
    "import minterpy as mp\n",
    "import numpy as np"
   ]
  },
  {
   "cell_type": "markdown",
   "id": "c63562c0-ee9f-4de6-bc5d-f0ff72b4be1f",
   "metadata": {},
   "source": [
    "This guide shows how to check the membership of a set of exponents in a `MultiIndexSet` instance and whether a `MultiIndexSet` instance is a superset or subset of another `MultiIndexSet` instance.\n",
    "\n",
    "The guide covers the following three methods of a `MultiIndexSet` instance:\n",
    "\n",
    "- `contains_these_exponents()` checks whether a given set of exponents are contained in the set of exponents of a `MultiIndexSet` instance.\n",
    "- `is_subset()` checks whether a `MultiIndexSet` instance is a subset of another `MultiIndexSet` instance.\n",
    "- `is_super_index_set_of()` checks whether a `MultiIndexSet` instance is a superset of another `MultiIndexSet` instance."
   ]
  },
  {
   "cell_type": "markdown",
   "id": "4c6a6b9b-e11f-4f27-96bc-81076bfc37c1",
   "metadata": {},
   "source": [
    "## Motivating example"
   ]
  },
  {
   "cell_type": "markdown",
   "id": "883618a3-742b-45ed-b945-3bd56f740441",
   "metadata": {},
   "source": [
    "As a motivating example, consider the following three multi-index sets of the same dimension and $l_p$-degree of $2.0$:\n",
    "\n",
    "\\begin{align*}\n",
    "A & = \\left\\{ (0, 0, 0), (1, 0, 0), (2, 0, 0), (0, 1, 0), (1, 1, 0) \\right\\}\\\\\n",
    "B & = \\left\\{ (0, 0, 0), (1, 0, 0) \\right\\}\\\\\n",
    "C & = \\left\\{ (0, 0, 0), (2, 0, 0), (0, 1, 0), (1, 1, 0), (0, 0, 2) \\right\\}\n",
    "\\end{align*}"
   ]
  },
  {
   "cell_type": "code",
   "execution_count": null,
   "id": "15893b78-f97d-4da7-aa92-ca88881b024e",
   "metadata": {},
   "outputs": [],
   "source": [
    "mi_a = mp.MultiIndexSet(\n",
    "    np.array([[0, 0, 0], [1, 0, 0], [2, 0, 0], [0, 1, 0], [1, 1, 0]]),\n",
    "    lp_degree=2.0,\n",
    ")\n",
    "mi_b = mp.MultiIndexSet(\n",
    "    np.array([[0, 0, 0], [1, 0, 0]]),\n",
    "    lp_degree=2.0,\n",
    ")\n",
    "mi_c = mp.MultiIndexSet(\n",
    "    np.array(\n",
    "        [[0, 0, 0], [2, 0, 0], [0, 1, 0], [1, 1, 0], [0, 0, 2]],\n",
    "    ),\n",
    "    lp_degree=2.0,\n",
    ")"
   ]
  },
  {
   "cell_type": "markdown",
   "id": "be6dabac-6366-4c47-9f1a-73dcd41f8812",
   "metadata": {},
   "source": [
    "## Check for exponents membership\n",
    "\n",
    "The method `contains_these_exponents()` is used to check whether a given set of exponents are contained in the set of exponents of a `MultiIndexSet` instance. The method takes as input the set of exponents as an integer NumPy array. It returns `True` if the set of exponents are contained in the `MultiIndexSet` instance and `False` otherwise.\n",
    "\n",
    "For instance, to check if the exponents $\\{(0, 0, 0), (2, 0, 0)\\}$ are contained in the multi-index set $A$ (they are):"
   ]
  },
  {
   "cell_type": "code",
   "execution_count": null,
   "id": "3ce7c139-aff2-4294-bb8d-e25b49d96349",
   "metadata": {},
   "outputs": [],
   "source": [
    "mi_a.contains_these_exponents(np.array([[0, 0, 0], [2, 0, 0]]))"
   ]
  },
  {
   "cell_type": "markdown",
   "id": "8a971333-f266-423a-9051-a0bba6445d59",
   "metadata": {},
   "source": [
    "```{attention}\n",
    "Note that the dimension of the set exponents must be consistent with the dimension of the multi-index set; otherwise, an exception will be raised.\n",
    "```"
   ]
  },
  {
   "cell_type": "markdown",
   "id": "494ea7fc-f1b9-4f8d-aa6e-3ea373472ce3",
   "metadata": {},
   "source": [
    "As another example, the exponent $(2, 0, 0)$ is not contained in $B$:"
   ]
  },
  {
   "cell_type": "code",
   "execution_count": null,
   "id": "2cc47181-017e-4b09-982a-22b7f31e8a9f",
   "metadata": {},
   "outputs": [],
   "source": [
    "mi_b.contains_these_exponents(np.array([[2, 0, 0]]))"
   ]
  },
  {
   "cell_type": "markdown",
   "id": "92a88454-1264-402a-a561-a44fd782b7cb",
   "metadata": {},
   "source": [
    "If a set of exponents are checked then it is either all of them are contained in a multi-index set or none of them; a set of exponents cannot be partially contained in a multi-index set.\n",
    "\n",
    "For instance, the set of exponents $\\{ (0, 0, 0), (1, 0, 0), (2, 0, 0) \\}$ is _not_ contained in $B$ because the element $(2, 0, 0)$ is not contained in $B$:"
   ]
  },
  {
   "cell_type": "code",
   "execution_count": null,
   "id": "7821f264-c01e-4e6b-8981-4654b451a285",
   "metadata": {},
   "outputs": [],
   "source": [
    "mi_b.contains_these_exponents(\n",
    "    np.array([[0, 0, 0], [1, 0, 0], [2, 0, 0]])\n",
    ")"
   ]
  },
  {
   "cell_type": "markdown",
   "id": "0eca6c48-7762-44db-9b2b-1c800455e5b1",
   "metadata": {},
   "source": [
    "## Check for superset"
   ]
  },
  {
   "cell_type": "markdown",
   "id": "77256fe3-e530-4513-a032-3d821155fb44",
   "metadata": {},
   "source": [
    "The method `is_super_index_set_of()` is used to check whether a given `MultiIndexSet` instance is a superset of another `MultiIndexSet` instance (i.e., checking if $A \\supseteq B$). The method returns `True` if the given `MultiIndexSet` is a superset of another instance and `False` otherwise.\n",
    "Unlike the method `contains_these_exponents()`, the method takes as input a `MultiIndexSet` instance (not just the exponents)."
   ]
  },
  {
   "cell_type": "markdown",
   "id": "fec532f9-45b6-4f96-bada-8aaada0e33e9",
   "metadata": {},
   "source": [
    "For instance, to check if the multi-index set $A$ is a superset of $B$ (it is):"
   ]
  },
  {
   "cell_type": "code",
   "execution_count": null,
   "id": "9689233f-ab12-4177-93ef-3566e44045ba",
   "metadata": {},
   "outputs": [],
   "source": [
    "mi_a.is_super_index_set_of(mi_b)"
   ]
  },
  {
   "cell_type": "markdown",
   "id": "51cfab21-49e4-44a1-a8b0-553bced43862",
   "metadata": {},
   "source": [
    "On the other hand, the multi-index set $C$ is _not_ a superset of $B$:"
   ]
  },
  {
   "cell_type": "code",
   "execution_count": null,
   "id": "d8bdfdaf-5192-43dd-b548-c6d8dc48a66a",
   "metadata": {},
   "outputs": [],
   "source": [
    "mi_c.is_super_index_set_of(mi_b)"
   ]
  },
  {
   "cell_type": "markdown",
   "id": "c3f93b4d-7395-41f2-bc15-2c1de54a6184",
   "metadata": {},
   "source": [
    "## Check for subset\n",
    "\n",
    "The operator `<=` is used to check whether a given `MultiIndexSet` instance is a subset of another `MultiIndexSet` instance (i.e., checking if $A \\subseteq B$).\n",
    "The method returns `True` if the given `MultiIndexSet` is a subset of another instance and `False` otherwise.\n",
    "Note that both of the operands must be of `MultiIndexSet`."
   ]
  },
  {
   "cell_type": "markdown",
   "source": [
    "For instance, to check if the multi-index set $B$ is a subset of $A$ (it is):"
   ],
   "metadata": {
    "collapsed": false
   },
   "id": "c5f01002f95d17d7"
  },
  {
   "cell_type": "code",
   "outputs": [],
   "source": [
    "mi_b <= mi_a"
   ],
   "metadata": {
    "collapsed": false
   },
   "id": "40805908dd03fb36",
   "execution_count": null
  },
  {
   "cell_type": "markdown",
   "source": [
    "Alternatively, the method `is_subset()` may also be used:"
   ],
   "metadata": {
    "collapsed": false
   },
   "id": "d123c7cfb8f9550b"
  },
  {
   "cell_type": "code",
   "outputs": [],
   "source": [
    "mi_b.is_subset(mi_a)"
   ],
   "metadata": {
    "collapsed": false
   },
   "id": "a4ddb978d8d68841",
   "execution_count": null
  },
  {
   "cell_type": "markdown",
   "source": [
    "On the other hand, the multi-index set $B$ is _not_ a subset of $C$:"
   ],
   "metadata": {
    "collapsed": false
   },
   "id": "5415e2031423f2b"
  },
  {
   "cell_type": "code",
   "outputs": [],
   "source": [
    "mi_b <= mi_c"
   ],
   "metadata": {
    "collapsed": false
   },
   "id": "b2117998ce75dd4",
   "execution_count": null
  },
  {
   "cell_type": "markdown",
   "source": [
    "or:"
   ],
   "metadata": {
    "collapsed": false
   },
   "id": "6dce433949b802eb"
  },
  {
   "cell_type": "code",
   "outputs": [],
   "source": [
    "mi_b.is_subset(mi_c)"
   ],
   "metadata": {
    "collapsed": false
   },
   "id": "f65ff59f9ee649e3",
   "execution_count": null
  },
  {
   "cell_type": "markdown",
   "source": [
    "## Different in Spatial Dimension\n",
    "\n",
    "Using operators to check whether a set is either a subset or superset of another does not require the spatial dimension of the operands to be equal.\n",
    "For instance the set:\n",
    "\n",
    "$$\n",
    "D = \\left\\{ (0, 0), (1, 0), (2, 0) \\right\\}\n",
    "$$\n",
    "\n",
    "is a subset of:\n",
    "\n",
    "$$\n",
    "E = \\left\\{ (0, 0, 0), (1, 0, 0), (2, 0, 0), (0, 1, 0), (1, 1, 0) \\right\\}\n",
    "$$\n",
    "\n",
    "as the dimension of set $D$ is first expanded such that:\n",
    "\n",
    "$$\n",
    "D = \\left\\{ (0, 0, 0), (1, 0, 0), (2, 0, 0) \\right\\}.\n",
    "$$"
   ],
   "metadata": {
    "collapsed": false
   },
   "id": "9b3ee273245f6ad4"
  },
  {
   "cell_type": "code",
   "outputs": [],
   "source": [
    "mi_d = mp.MultiIndexSet(np.array([[0, 0], [1, 0], [2, 0]]), lp_degree=1.0)\n",
    "mi_e = mp.MultiIndexSet(\n",
    "    np.array([[0, 0, 0], [1, 0, 0], [2, 0, 0], [0, 1, 0], [1, 1, 0]]),\n",
    "    lp_degree=1.0,\n",
    ")"
   ],
   "metadata": {
    "collapsed": false
   },
   "id": "78135ad081edc0bd",
   "execution_count": null
  },
  {
   "cell_type": "code",
   "outputs": [],
   "source": [
    "mi_d <= mi_e"
   ],
   "metadata": {
    "collapsed": false
   },
   "id": "c94430088cd3b93f",
   "execution_count": null
  },
  {
   "cell_type": "markdown",
   "source": [
    "To strict the checking only for instances of the same dimension, use the method call instead (e.g., `mi_d.is_subset(mi_e)`).\n",
    "If there's a dimension mismatch, an exception is raised.\n",
    "\n",
    "The parameter `expand_dim` of the methods can be used to alter this behavior; note that this parameter is default to `False`.\n",
    "For instance:"
   ],
   "metadata": {
    "collapsed": false
   },
   "id": "420a1bc51f8c851"
  },
  {
   "cell_type": "code",
   "outputs": [],
   "source": [
    "mi_d.is_subset(mi_e, expand_dim=True)"
   ],
   "metadata": {
    "collapsed": false
   },
   "id": "b81a7088932f6fcf",
   "execution_count": null
  }
 ],
 "metadata": {
  "kernelspec": {
   "display_name": "Python 3 (ipykernel)",
   "language": "python",
   "name": "python3"
  },
  "language_info": {
   "codemirror_mode": {
    "name": "ipython",
    "version": 3
   },
   "file_extension": ".py",
   "mimetype": "text/x-python",
   "name": "python",
   "nbconvert_exporter": "python",
   "pygments_lexer": "ipython3",
   "version": "3.8.17"
  }
 },
 "nbformat": 4,
 "nbformat_minor": 5
}
