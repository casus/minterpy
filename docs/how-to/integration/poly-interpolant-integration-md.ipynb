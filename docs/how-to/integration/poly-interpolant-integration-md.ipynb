{
 "cells": [
  {
   "cell_type": "markdown",
   "id": "85eb368c-99e3-4b26-9101-fcddd4f8cae0",
   "metadata": {},
   "source": [
    "# Integrate an M-Dimensional Polynomial"
   ]
  },
  {
   "cell_type": "code",
   "execution_count": 1,
   "id": "e3aac0a3-7454-47f6-a0dc-ceb6639c20f9",
   "metadata": {},
   "outputs": [],
   "source": [
    "import numpy as np\n",
    "import minterpy as mp\n",
    "import matplotlib.pyplot as plt\n",
    "\n",
    "import warnings\n",
    "warnings.filterwarnings('ignore')"
   ]
  },
  {
   "cell_type": "markdown",
   "id": "b34f20bf-eacc-4054-81b3-88af12ef0e23",
   "metadata": {},
   "source": [
    "A definite integration operation may be carried for fully-specified Minterpy (multivariate) polynomials. This guide explains how to carry out a definite integration on a three-dimensional polynomial interpolant in different bases."
   ]
  },
  {
   "cell_type": "markdown",
   "id": "727d5b16-4718-4bdd-87e4-b9e202f50bd9",
   "metadata": {},
   "source": [
    "## Motivating example"
   ]
  },
  {
   "cell_type": "markdown",
   "id": "1a9cd951-30df-4c80-8ae6-147efaaf1255",
   "metadata": {},
   "source": [
    "Consider the following three-dimensional function:\n",
    "\n",
    "$$\n",
    "f(\\boldsymbol{x}) = \\prod_{m = 1}^3 (m \\cos{(m x_m)}),\\;\\; x \\in [-1, 1].\n",
    "$$"
   ]
  },
  {
   "cell_type": "markdown",
   "id": "7c022e8b-82b3-41b7-9c7e-45f24ad354d9",
   "metadata": {},
   "source": [
    "Define the function in Python as follows:"
   ]
  },
  {
   "cell_type": "code",
   "execution_count": 3,
   "id": "112a8fa0-94b1-4acc-917a-13443a146a62",
   "metadata": {},
   "outputs": [],
   "source": [
    "def fun(xx):\n",
    "    m = np.arange(1, xx.shape[1] + 1)\n",
    "    return np.prod(m * np.cos(m * xx), axis=1)"
   ]
  },
  {
   "cell_type": "markdown",
   "id": "7be2857b-fbbe-497a-867b-a866e2fa791c",
   "metadata": {},
   "source": [
    "## Polynomial interpolation"
   ]
  },
  {
   "cell_type": "markdown",
   "id": "dbc1c7d4-576a-49f2-a375-18f1ca8fc15a",
   "metadata": {},
   "source": [
    "In this guide, we are going to create a polynomial interpolant in Minterpy from scratch in four steps:\n",
    "\n",
    "1. Define the multi-index set\n",
    "2. Create the interpolation grid (of unisolvent nodes)\n",
    "3. Evaluate the function on the grid\n",
    "4. Create a polynomial interpolant in Lagrange basis"
   ]
  },
  {
   "cell_type": "markdown",
   "id": "0ebaaac1-5e89-4d58-83d7-cd6bf8f1a793",
   "metadata": {},
   "source": [
    "A polynomial interpolant of a given degree may be created using the Lagrange basis.\n",
    "First, create the multi-index set:"
   ]
  },
  {
   "cell_type": "code",
   "execution_count": 4,
   "id": "18f43174-4125-42a0-b79b-f0961bfd9d5e",
   "metadata": {},
   "outputs": [],
   "source": [
    "m = 3\n",
    "mi = mp.MultiIndexSet.from_degree(spatial_dimension=m, poly_degree=20, lp_degree=1.0)"
   ]
  },
  {
   "cell_type": "markdown",
   "id": "a23d6f14-9a96-483e-9db4-12aee83f07c8",
   "metadata": {},
   "source": [
    "Because the function is highly irregular, we use a high polynomial degree to interpolate the function.\n",
    "Then, create the interpolation grid given multi-index set:"
   ]
  },
  {
   "cell_type": "code",
   "execution_count": 5,
   "id": "ce94d852-5f98-4a1c-a425-00417b2fe991",
   "metadata": {},
   "outputs": [],
   "source": [
    "grd = mp.Grid(multi_index=mi)"
   ]
  },
  {
   "cell_type": "markdown",
   "id": "abae61ed-8e2f-4ab7-b621-c29c49856b3d",
   "metadata": {},
   "source": [
    "The grid contains unisolvent nodes on which the function should be evaluated as the coefficients of a polynomial in the Lagrange basis:"
   ]
  },
  {
   "cell_type": "code",
   "execution_count": 6,
   "id": "0c1811c1-158f-4c57-8d15-fc2d9bc10085",
   "metadata": {},
   "outputs": [],
   "source": [
    "lag_coeffs = fun(grd.unisolvent_nodes)"
   ]
  },
  {
   "cell_type": "markdown",
   "id": "71ae6d63-6536-437d-9b2d-ffaacd8893d0",
   "metadata": {},
   "source": [
    "Finally, a polynomial interpolant in Lagrange basis is created from the multi-index set and the set of coefficients:"
   ]
  },
  {
   "cell_type": "code",
   "execution_count": 7,
   "id": "df4247d0-8140-4ddb-93d2-76ae07e4dbdb",
   "metadata": {},
   "outputs": [],
   "source": [
    "lag_poly = mp.LagrangePolynomial(multi_index=mi, coeffs=lag_coeffs)"
   ]
  },
  {
   "cell_type": "markdown",
   "id": "18159e22-1d24-443e-938c-16f0c7f06b3f",
   "metadata": {},
   "source": [
    "```{note}\n",
    "In Minterpy, polynomials in the Lagrange basis cannot be directly evaluated. To evaluate an interpolating polynomial, the Newton basis is recommended.\n",
    "```"
   ]
  },
  {
   "cell_type": "markdown",
   "id": "eee42d52-f873-4d4d-afa1-36fa73e7ac30",
   "metadata": {},
   "source": [
    "## Integration over the domain $[-1, 1]^3$"
   ]
  },
  {
   "cell_type": "markdown",
   "id": "c412e30a-3c82-4ecc-b553-0aec36c95d85",
   "metadata": {},
   "source": [
    "The method `integrate_over()` integrates the polynomial over the default domain of $[-1, 1]^3$:"
   ]
  },
  {
   "cell_type": "code",
   "execution_count": 19,
   "id": "12697cf4-6709-4e4d-b572-d378bb2e7cb8",
   "metadata": {},
   "outputs": [
    {
     "data": {
      "text/plain": [
       "0.8638208594281799"
      ]
     },
     "execution_count": 19,
     "metadata": {},
     "output_type": "execute_result"
    }
   ],
   "source": [
    "int_value = lag_poly.integrate_over()\n",
    "int_value"
   ]
  },
  {
   "cell_type": "markdown",
   "id": "4f19c80a-0e36-43e7-9a17-78e5d2de3483",
   "metadata": {},
   "source": [
    "The analytical value of the integral of the above function is available:\n",
    "\n",
    "$$\n",
    "I[f] \\equiv \\int_{-1}^{1} f(\\boldsymbol{x})\\; d\\boldsymbol{x} = 2^3 \\prod_{m = 1}^3 \\sin{(m)}.\n",
    "$$"
   ]
  },
  {
   "cell_type": "code",
   "execution_count": 26,
   "id": "54a52e4a-1e7e-453d-941f-d0d8b1855fa2",
   "metadata": {},
   "outputs": [],
   "source": [
    "ref_value = 2**m * np.prod(np.sin(np.arange(1, m + 1)))"
   ]
  },
  {
   "cell_type": "markdown",
   "id": "94d6a263-aabb-430d-9817-5d4581911269",
   "metadata": {},
   "source": [
    "With polynomial degree of $20$ and $l_p$-degree of $1.0$, we obtain the following relative error of the integral:"
   ]
  },
  {
   "cell_type": "code",
   "execution_count": 27,
   "id": "2924cf27-548b-4add-a6db-24dcbdff3017",
   "metadata": {},
   "outputs": [
    {
     "data": {
      "text/plain": [
       "5.99516238131088e-12"
      ]
     },
     "execution_count": 27,
     "metadata": {},
     "output_type": "execute_result"
    }
   ],
   "source": [
    "np.abs(ref_value - int_value) / ref_value"
   ]
  },
  {
   "cell_type": "markdown",
   "id": "0a42396e-e77f-4db9-8e7a-3638d33b0708",
   "metadata": {},
   "source": [
    "## Integration over specified bounds"
   ]
  },
  {
   "cell_type": "markdown",
   "id": "9386bf4f-f8d7-4b88-a695-4e248449288a",
   "metadata": {},
   "source": [
    "The bounds of the integration may be specified. For instance, to integrate the polynomial over $[-1, 0]^3$:"
   ]
  },
  {
   "cell_type": "code",
   "execution_count": 28,
   "id": "fcab6fbd-7e4d-4982-9544-85930c3628bf",
   "metadata": {},
   "outputs": [
    {
     "data": {
      "text/plain": [
       "0.10797760744251568"
      ]
     },
     "execution_count": 28,
     "metadata": {},
     "output_type": "execute_result"
    }
   ],
   "source": [
    "lag_poly.integrate_over([[-1, 0], [-1, 0], [-1, 0]])"
   ]
  },
  {
   "cell_type": "markdown",
   "id": "e07e9c3d-de79-4018-9a11-722923e8da61",
   "metadata": {},
   "source": [
    "and over $[0, 1]^3$:"
   ]
  },
  {
   "cell_type": "code",
   "execution_count": 29,
   "id": "1fe4f0cd-4253-4ca2-ba5b-79440a26c5a8",
   "metadata": {},
   "outputs": [
    {
     "data": {
      "text/plain": [
       "0.10797760740695787"
      ]
     },
     "execution_count": 29,
     "metadata": {},
     "output_type": "execute_result"
    }
   ],
   "source": [
    "lag_poly.integrate_over([[0, 1], [0, 1], [0, 1]])"
   ]
  },
  {
   "cell_type": "markdown",
   "id": "4bac3422-ccb6-49c4-b539-dd72a349a4dd",
   "metadata": {},
   "source": [
    "## Integration in different bases"
   ]
  },
  {
   "cell_type": "markdown",
   "id": "2fc773c2-faaa-4cd8-a3bd-175c0f33d2ea",
   "metadata": {},
   "source": [
    "The integration may also be carried out on the polynomial in different bases. The same method `integrate_over()` is used.\n",
    "Below is the integration in the Newton basis:"
   ]
  },
  {
   "cell_type": "code",
   "execution_count": 30,
   "id": "39949725-a86a-471b-9a28-09aed34cb65c",
   "metadata": {},
   "outputs": [
    {
     "data": {
      "text/plain": [
       "0.8638208594282368"
      ]
     },
     "execution_count": 30,
     "metadata": {},
     "output_type": "execute_result"
    }
   ],
   "source": [
    "nwt_poly = mp.LagrangeToNewton(lag_poly)()\n",
    "nwt_poly.integrate_over()"
   ]
  },
  {
   "cell_type": "markdown",
   "id": "bd860566-f5fb-429e-8ed9-42e53de18f3b",
   "metadata": {},
   "source": [
    "And in the canonical basis:"
   ]
  },
  {
   "cell_type": "code",
   "execution_count": 31,
   "id": "a48e9b10-c14c-4938-b71e-73d0822c01bd",
   "metadata": {},
   "outputs": [
    {
     "data": {
      "text/plain": [
       "0.8638208596305778"
      ]
     },
     "execution_count": 31,
     "metadata": {},
     "output_type": "execute_result"
    }
   ],
   "source": [
    "can_poly = mp.LagrangeToCanonical(lag_poly)()\n",
    "can_poly.integrate_over()"
   ]
  },
  {
   "cell_type": "markdown",
   "id": "b7feeb98-ed86-449a-9a98-78afb01f718d",
   "metadata": {},
   "source": [
    "```{warning}\n",
    "The integration of polynomials in the canonical basis having a high polynomial degree is not recommended as it may suffer from a severe instability.\n",
    "```"
   ]
  }
 ],
 "metadata": {
  "kernelspec": {
   "display_name": "Python 3 (ipykernel)",
   "language": "python",
   "name": "python3"
  },
  "language_info": {
   "codemirror_mode": {
    "name": "ipython",
    "version": 3
   },
   "file_extension": ".py",
   "mimetype": "text/x-python",
   "name": "python",
   "nbconvert_exporter": "python",
   "pygments_lexer": "ipython3",
   "version": "3.8.17"
  }
 },
 "nbformat": 4,
 "nbformat_minor": 5
}
