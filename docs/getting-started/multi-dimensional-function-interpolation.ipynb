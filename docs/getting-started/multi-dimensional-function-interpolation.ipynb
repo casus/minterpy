{
 "cells": [
  {
   "cell_type": "markdown",
   "id": "c79aee65-043d-46b3-b700-b276640f1f01",
   "metadata": {},
   "source": [
    "# Multi-dimensional Function Interpolation\n",
    "\n",
    "Consider a 7-dimensional function that predicts the circular motion of a piston within a cylinder:\n",
    "\n",
    "$$\n",
    "\\begin{split}\n",
    "C(\\boldsymbol{x}) & = 2\\pi \\left( \\frac{M}{k + S^2 \\frac{P_0 V_0}{T_0} \\frac{T_0}{V^2}} \\right)^{0.5} \\\\\n",
    "V(\\boldsymbol{x}) & = \\frac{S}{2k} \\left( \\left( A^2 + 4k \\frac{P_0 V_0}{T_0} T_a \\right)^{0.5} - A \\right) \\\\\n",
    "A & = P_0 S + 19.62M - \\frac{k V_0}{S}\n",
    "\\end{split} \n",
    "$$\n",
    "\n",
    "where $\\boldsymbol{x} = \\{ M, S, V_0, k, P_0, T_a, T_0 \\}$ with the following domain:\n",
    "\n",
    "| No | Input | Description | Bound |\n",
    "|--- | ----- | ----------- | :----: |\n",
    "|1| $M$   | Piston weight         | [30, 60] |\n",
    "|2| $S$   | Piston surface area   | [0.005, 0.020] |\n",
    "|3| $V_0$ | Initial gas volume    | [0.002, 0.010] |\n",
    "|4| $k$   | Spring coefficient    | [1000, 5000] |\n",
    "|5| $P_0$ | Atmospheric pressure  | [90'000, 110'000] |\n",
    "|6| $T_a$ | Ambient temperature   | [290, 296] |\n",
    "|7| $T_0$ | Filling gas temperature | [340, 360] |"
   ]
  },
  {
   "cell_type": "markdown",
   "id": "d8625e84-4e01-4549-a2db-6e010378e0be",
   "metadata": {},
   "source": [
    "## Problem setup"
   ]
  },
  {
   "cell_type": "markdown",
   "id": "fe26117f-029c-47a4-a62f-0d3288edaf79",
   "metadata": {},
   "source": [
    "Import all the required packages:"
   ]
  },
  {
   "cell_type": "code",
   "execution_count": 1,
   "id": "903ab7eb-8020-4084-aee8-6aab775f2388",
   "metadata": {},
   "outputs": [],
   "source": [
    "import numpy as np\n",
    "import matplotlib.pyplot as plt\n",
    "import minterpy as mp"
   ]
  },
  {
   "cell_type": "markdown",
   "id": "d75a0051-9c10-4a90-a510-dc45251c5e74",
   "metadata": {},
   "source": [
    "Define the piston motion function:"
   ]
  },
  {
   "cell_type": "code",
   "execution_count": 2,
   "id": "27d2bc35-2755-4652-bbd3-4c1cbeeaa0ca",
   "metadata": {},
   "outputs": [],
   "source": [
    "def calc_circ_motion(x):\n",
    "    A = (x[:,4] * x[:,1] + 19.62 * x[:,0] - x[:,3] * x[:,2] / x[:,1])\n",
    "    V = x[:,1] / 2 / x[:,2] * (np.sqrt(A**2 + 4 * x[:,3] * x[:,4] / x[:,6] * x[:,5]) - A)\n",
    "    C = 2 * np.pi * np.sqrt(x[:,0] / (x[:,3] + x[:,1]**2 * x[:,3] * x[:,4] / x[:,6] * x[:,6] / V**2))\n",
    "    return C"
   ]
  },
  {
   "cell_type": "code",
   "execution_count": 3,
   "id": "a56f2846-c330-4d1d-a948-b4e49333f756",
   "metadata": {},
   "outputs": [],
   "source": [
    "def transform_input(x):\n",
    "    x_t = np.copy(x)\n",
    "    x_t[:,0] = 30 + (60-30) * (x_t[:,0] + 1) / 2\n",
    "    x_t[:,1] = 0.005 + (0.020 - 0.005) * (x_t[:,1] + 1) / 2\n",
    "    x_t[:,2] = 0.002 + (0.002 - 0.010) * (x_t[:,2] + 1) / 2\n",
    "    x_t[:,3] = 1e3 + (5e3 - 1e3) * (x_t[:,3] + 1) / 2\n",
    "    x_t[:,4] = 9e4 + (11e4 - 9e4) * (x_t[:,4] + 1) / 2\n",
    "    x_t[:,5] = 290 + (296-290) * (x_t[:,5] + 1) / 2\n",
    "    x_t[:,6] = 340 + (360-340) * (x_t[:,6] + 1) / 2\n",
    "    \n",
    "    return x_t"
   ]
  },
  {
   "cell_type": "markdown",
   "id": "e9c39456-56ce-42c7-8ae9-a69ff3bf106e",
   "metadata": {},
   "source": [
    "Evaluate the function on some large set of sample points:"
   ]
  },
  {
   "cell_type": "code",
   "execution_count": 4,
   "id": "58a14490-bcda-424b-826a-e05065e4a6a6",
   "metadata": {},
   "outputs": [],
   "source": [
    "x = -1 + 2 * np.random.rand(1000000,7)\n",
    "b = transform_input(x)\n",
    "y = calc_circ_motion(b)"
   ]
  },
  {
   "cell_type": "code",
   "execution_count": 5,
   "id": "23070660-6e12-4761-884b-2a5168737824",
   "metadata": {},
   "outputs": [
    {
     "data": {
      "image/png": "[encoded data removed]",
      "text/plain": [
       "<Figure size 432x288 with 1 Axes>"
      ]
     },
     "metadata": {
      "needs_background": "light"
     },
     "output_type": "display_data"
    }
   ],
   "source": [
    "plt.hist(y);"
   ]
  },
  {
   "cell_type": "code",
   "execution_count": null,
   "id": "cbf68998",
   "metadata": {},
   "outputs": [],
   "source": []
  }
 ],
 "metadata": {
  "kernelspec": {
   "display_name": "Python 3 (ipykernel)",
   "language": "python",
   "name": "python3"
  },
  "language_info": {
   "codemirror_mode": {
    "name": "ipython",
    "version": 3
   },
   "file_extension": ".py",
   "mimetype": "text/x-python",
   "name": "python",
   "nbconvert_exporter": "python",
   "pygments_lexer": "ipython3",
   "version": "3.8.11"
  }
 },
 "nbformat": 4,
 "nbformat_minor": 5
}
