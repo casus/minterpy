{
 "cells": [
  {
   "cell_type": "markdown",
   "id": "18832584-2604-4143-b435-d224d8fcc778",
   "metadata": {},
   "source": [
    "# Polynomial Regression"
   ]
  },
  {
   "cell_type": "code",
   "execution_count": 2,
   "id": "e79dfcd0-a294-4cfe-9e67-7fb88eeb4579",
   "metadata": {},
   "outputs": [],
   "source": [
    "import matplotlib.pyplot as plt\n",
    "import numpy as np\n",
    "\n",
    "import minterpy as mp"
   ]
  },
  {
   "cell_type": "markdown",
   "id": "0698f363-c6e9-4a9d-8bf9-35c04f10bde0",
   "metadata": {},
   "source": [
    "Describe the problem of regression (modeling on scattered data):\n",
    "\n",
    "- Example case used\n",
    "- Steps to come up with the regression\n",
    "- The required transformation\n",
    "- Evaluation on testing points\n",
    "- Some validations\n",
    "\n",
    "Use common sense how to section the tutorial, we can discuss it later if reorganization is needed.\n",
    "\n",
    "Put any required functions related to regressions not yet merged to the `dev` branch locally here in the notebook (I guess based on our discussion it should not be that large).\n",
    "\n",
    "Before you push the notebook, don't forget to clear all the outputs"
   ]
  },
  {
   "cell_type": "code",
   "execution_count": null,
   "id": "733b8d44-b78d-4518-8262-3dd73f711d8a",
   "metadata": {},
   "outputs": [],
   "source": []
  }
 ],
 "metadata": {
  "kernelspec": {
   "display_name": "PyCharm (minterpy-doc)",
   "language": "python",
   "name": "pycharm-34ca517b"
  },
  "language_info": {
   "codemirror_mode": {
    "name": "ipython",
    "version": 3
   },
   "file_extension": ".py",
   "mimetype": "text/x-python",
   "name": "python",
   "nbconvert_exporter": "python",
   "pygments_lexer": "ipython3",
   "version": "3.8.12"
  }
 },
 "nbformat": 4,
 "nbformat_minor": 5
}
