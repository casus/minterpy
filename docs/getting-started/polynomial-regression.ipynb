{
 "cells": [
  {
   "cell_type": "markdown",
   "id": "18832584-2604-4143-b435-d224d8fcc778",
   "metadata": {},
   "source": [
    "# Polynomial Regression with minterpy"
   ]
  },
  {
   "cell_type": "code",
   "execution_count": null,
   "id": "e79dfcd0-a294-4cfe-9e67-7fb88eeb4579",
   "metadata": {},
   "outputs": [],
   "source": [
    "import matplotlib.pyplot as plt\n",
    "import numpy as np\n",
    "\n",
    "import minterpy as mp"
   ]
  },
  {
   "cell_type": "markdown",
   "id": "a4f04eb5",
   "metadata": {},
   "source": [
    "## Problem\n",
    "In regression, we try to find the best choice of parameters for a model that fits the data well. Polynomial regression allows you to fit your data with polynomial models. Here, we demonstrate this for a sample problem in 2D. The values of some function are given at several locations. Given this information, we try to find a polynomial model fits the model best (in the least square error sense)."
   ]
  },
  {
   "cell_type": "markdown",
   "id": "b58408fe",
   "metadata": {},
   "source": [
    "## Generate groundtruth data\n",
    "\n",
    "For demonstration and benchmarking, we generate a 2d data using a combination of transcendental functions."
   ]
  },
  {
   "cell_type": "markdown",
   "id": "0ace761d",
   "metadata": {},
   "source": [
    "$s(x,y) = \\frac{1}{\\sqrt{2}f_0(y)f_0(x) + f_1(y)f_1(x)}$\n",
    "\n",
    "where\n",
    "$f_0(z) = \\frac{1}{\\pi^{1/4} \\exp^{-z^2/2}}$\n",
    "and\n",
    "$f_1(z) = \\frac{2z}{\\sqrt{\\pi}} f_0(z)$\n",
    "\n"
   ]
  },
  {
   "cell_type": "code",
   "execution_count": null,
   "id": "644ff5a1",
   "metadata": {},
   "outputs": [],
   "source": [
    "def f0(z):\n",
    "    return 1 / (np.pi ** (1 / 4)) * np.exp(-(((z) ** 2) / 2))\n",
    "\n",
    "def f1(z):\n",
    "    return np.multiply(f0(z), (2 * z) / (np.pi ** (1 / 2)))\n",
    "\n",
    "def schroedinger2D(x, y):\n",
    "    return 1 / (2 ** (1 / 2)) * np.multiply(f0(y), f0(x)) + np.multiply(f1(y), f1(x))"
   ]
  },
  {
   "cell_type": "markdown",
   "id": "7f9d1c43",
   "metadata": {},
   "source": [
    "### Locations where the data is known"
   ]
  },
  {
   "cell_type": "code",
   "execution_count": null,
   "id": "cb0568b3",
   "metadata": {},
   "outputs": [],
   "source": [
    "linear_size = 8\n",
    "vals = np.linspace(-1.0, 1.0, linear_size)\n",
    "X, Y = np.meshgrid(vals, vals)\n",
    "gt_coord = np.c_[X.reshape(-1), Y.reshape(-1)]"
   ]
  },
  {
   "cell_type": "code",
   "execution_count": null,
   "id": "a1eff3ad",
   "metadata": {},
   "outputs": [],
   "source": [
    "plt.scatter(gt_coord[:,0], gt_coord[:,1])"
   ]
  },
  {
   "cell_type": "markdown",
   "id": "567beffb",
   "metadata": {},
   "source": [
    "### Observed groundtruth data"
   ]
  },
  {
   "cell_type": "code",
   "execution_count": null,
   "id": "5bd19bfa",
   "metadata": {},
   "outputs": [],
   "source": [
    "gt_data = schroedinger2D(gt_coord[:, 0], gt_coord[:, 1])\n",
    "plt.imshow(gt_data.reshape([linear_size,linear_size]))\n",
    "plt.colorbar()"
   ]
  },
  {
   "cell_type": "markdown",
   "id": "8d2de177",
   "metadata": {},
   "source": [
    "## Polynomial regression\n",
    "Now, what we have is some \"unknown\" data `gt_data` at locations `gt_coord`.\n",
    "\n",
    "Let us assume a polynomial model in 2D of degree `poly_deg`. We do regression in the Lagrange basis by constructing a linear system of equations. \n",
    "\n",
    "$\\mathbf{R} x = f$\n",
    "\n",
    "where $\\mathbf{R}$ is the regression matrix. Each column of the $\\mathbf{R}$ is obtained by evaluating one of the lagrange monomial at each of the input coordinate. \n",
    "$x$ is the unknown Lagrange coefficients and $f$ is the vector of data values at all input coordinates."
   ]
  },
  {
   "cell_type": "markdown",
   "id": "2b983a46",
   "metadata": {},
   "source": [
    "### Constructing the polynomial model"
   ]
  },
  {
   "cell_type": "code",
   "execution_count": null,
   "id": "67b66724",
   "metadata": {},
   "outputs": [],
   "source": [
    "poly_deg = 7\n",
    "mi = mp.MultiIndexSet.from_degree(spatial_dimension=2,\n",
    "                                 poly_degree=poly_deg)\n",
    "lag_poly = mp.LagrangePolynomial(mi)"
   ]
  },
  {
   "cell_type": "markdown",
   "id": "16aa8c40",
   "metadata": {},
   "source": [
    "### Constructing the Regression matrix"
   ]
  },
  {
   "cell_type": "code",
   "execution_count": null,
   "id": "c0eb5fc2",
   "metadata": {},
   "outputs": [],
   "source": [
    "from minterpy.utils import eval_newton_polynomials\n",
    "\n",
    "def get_regression_matrix(lag_poly, points):\n",
    "    \"\"\" constructs the regression matrix by evaluating the lagrange monomials on\n",
    "    all the points.\n",
    "    :return: (k x N) the value of each Lagrange monomial in Newton form at each point.\n",
    "    \"\"\"\n",
    "\n",
    "    coeffs_newton = mp.get_transformation(lag_poly, mp.NewtonPolynomial).transformation_operator.array_repr_full\n",
    "    exponents = lag_poly.multi_index.exponents\n",
    "    generating_points = lag_poly.grid.generating_points\n",
    "    return eval_newton_polynomials(points, coeffs_newton, exponents,\n",
    "                     generating_points)\n"
   ]
  },
  {
   "cell_type": "code",
   "execution_count": null,
   "id": "f641b09f",
   "metadata": {},
   "outputs": [],
   "source": [
    "R = get_regression_matrix(lag_poly, gt_coord)"
   ]
  },
  {
   "cell_type": "markdown",
   "id": "f04a4969",
   "metadata": {},
   "source": [
    "We can now solve the least square problem by using scipy. This gives us the Lagrange coefficients for the polynomial model."
   ]
  },
  {
   "cell_type": "code",
   "execution_count": null,
   "id": "a9b0334c",
   "metadata": {},
   "outputs": [],
   "source": [
    "import scipy\n",
    "coeffs_lagrange, _, _, _ = scipy.linalg.lstsq(R, gt_data)\n",
    "lag_poly = mp.LagrangePolynomial(mi, coeffs_lagrange)"
   ]
  },
  {
   "cell_type": "markdown",
   "id": "32a916a8",
   "metadata": {},
   "source": [
    "We transform the polynomial to Newton basis as it is convenient for polynomial evaluations. "
   ]
  },
  {
   "cell_type": "code",
   "execution_count": null,
   "id": "352b7d9a",
   "metadata": {},
   "outputs": [],
   "source": [
    "l2n = mp.get_transformation(lag_poly, mp.NewtonPolynomial)\n",
    "newt_poly = l2n()"
   ]
  },
  {
   "cell_type": "markdown",
   "id": "7f6260fb",
   "metadata": {},
   "source": [
    "## Reconstruct the groundtruth using fit polynomial\n",
    "\n",
    "Now, let us see how good the polynomial model fits the data by evaluating it on the input coordinates."
   ]
  },
  {
   "cell_type": "code",
   "execution_count": null,
   "id": "f0d38d63",
   "metadata": {},
   "outputs": [],
   "source": [
    "reg_vals = newt_poly(gt_coord)\n",
    "plt.imshow(reg_vals.reshape([linear_size,linear_size]))\n",
    "plt.colorbar()"
   ]
  },
  {
   "cell_type": "markdown",
   "id": "23028faa",
   "metadata": {},
   "source": [
    "### Fit error"
   ]
  },
  {
   "cell_type": "code",
   "execution_count": null,
   "id": "26098d01",
   "metadata": {},
   "outputs": [],
   "source": [
    "reg_vals = newt_poly(gt_coord)\n",
    "fit_err = np.max(np.abs(reg_vals - gt_data))\n",
    "print(f\"The L_inf error of fitting is {fit_err}\")"
   ]
  },
  {
   "cell_type": "markdown",
   "id": "af3318b6",
   "metadata": {},
   "source": [
    "## Resampling on a finer grid\n",
    "\n",
    "Since we have the polynomial model, we can evaluate it on any location within the domain of regression."
   ]
  },
  {
   "cell_type": "code",
   "execution_count": null,
   "id": "1f8039a5",
   "metadata": {},
   "outputs": [],
   "source": [
    "fs_linear_size = 100\n",
    "vals = np.linspace(-1.0, 1.0, fs_linear_size)\n",
    "X, Y = np.meshgrid(vals, vals)\n",
    "fine_coord = np.c_[X.reshape(-1), Y.reshape(-1)]"
   ]
  },
  {
   "cell_type": "code",
   "execution_count": null,
   "id": "d162d2e1",
   "metadata": {},
   "outputs": [],
   "source": [
    "reconstruct_vals = newt_poly(fine_coord)"
   ]
  },
  {
   "cell_type": "code",
   "execution_count": null,
   "id": "e594ce16",
   "metadata": {},
   "outputs": [],
   "source": [
    "plt.imshow(reconstruct_vals.reshape([fs_linear_size, fs_linear_size]))\n",
    "plt.colorbar()"
   ]
  }
 ],
 "metadata": {
  "kernelspec": {
   "display_name": "Python 3 (ipykernel)",
   "language": "python",
   "name": "python3"
  },
  "language_info": {
   "codemirror_mode": {
    "name": "ipython",
    "version": 3
   },
   "file_extension": ".py",
   "mimetype": "text/x-python",
   "name": "python",
   "nbconvert_exporter": "python",
   "pygments_lexer": "ipython3",
   "version": "3.8.13"
  }
 },
 "nbformat": 4,
 "nbformat_minor": 5
}
