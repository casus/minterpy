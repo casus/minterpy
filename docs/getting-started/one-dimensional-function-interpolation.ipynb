{
 "cells": [
  {
   "cell_type": "markdown",
   "id": "60f73f47",
   "metadata": {},
   "source": [
    "# One-dimensional function interpolation"
   ]
  },
  {
   "cell_type": "code",
   "execution_count": null,
   "id": "02a0b689",
   "metadata": {},
   "outputs": [],
   "source": [
    "import minterpy as mp\n",
    "import numpy as np\n",
    "import matplotlib.pyplot as plt\n",
    "\n",
    "%matplotlib inline"
   ]
  },
  {
   "cell_type": "markdown",
   "id": "ddc849d4",
   "metadata": {},
   "source": [
    "## Setup"
   ]
  },
  {
   "cell_type": "markdown",
   "id": "e3e7323c",
   "metadata": {},
   "source": [
    "Create a test function:"
   ]
  },
  {
   "cell_type": "code",
   "execution_count": null,
   "id": "2a9da652",
   "metadata": {},
   "outputs": [],
   "source": [
    "fx = lambda x: x * np.sin(12*x)\n",
    "x = np.linspace(-1, 1, 300)\n",
    "y = fx(x)"
   ]
  },
  {
   "cell_type": "markdown",
   "id": "febcb03c",
   "metadata": {},
   "source": [
    "The plot:"
   ]
  },
  {
   "cell_type": "code",
   "execution_count": null,
   "id": "469bb02c",
   "metadata": {},
   "outputs": [],
   "source": [
    "plt.plot(x, y);"
   ]
  },
  {
   "cell_type": "markdown",
   "id": "8ccbda1d",
   "metadata": {},
   "source": [
    "## Create an interpolant\n",
    "\n",
    "You can create an interpolant using the [interpolate](../api/interpolation/interpolate.rst) function by specifying:\n",
    "\n",
    "- The function to interpolate\n",
    "- The number of dimensions\n",
    "- The degree of the polynomial interpolant"
   ]
  },
  {
   "cell_type": "code",
   "execution_count": null,
   "id": "02b8a2bb",
   "metadata": {},
   "outputs": [],
   "source": [
    "fx_interp = mp.interpolate(fx, spatial_dimension=1, poly_degree=4)"
   ]
  },
  {
   "cell_type": "markdown",
   "id": "d22ea351",
   "metadata": {},
   "source": [
    "The interpolant can be evaluated on the test points:"
   ]
  },
  {
   "cell_type": "code",
   "execution_count": null,
   "id": "4a643506",
   "metadata": {},
   "outputs": [],
   "source": [
    "y_interp = fx_interp(x)"
   ]
  },
  {
   "cell_type": "code",
   "execution_count": null,
   "id": "0a86b3ee",
   "metadata": {},
   "outputs": [],
   "source": [
    "plt.plot(x, y, label=\"true function\");\n",
    "plt.plot(x, y_interp, label=\"interpolant\");\n",
    "plt.legend();"
   ]
  },
  {
   "cell_type": "markdown",
   "id": "af274acd",
   "metadata": {},
   "source": [
    "That shows that degree 4 polynomial is not accurate enough to approximate the true function.\n",
    "\n",
    "The infinity norm provides a measure of the greatest error of the interpolant over the whole domain.\n",
    "The norm is defined as:\n",
    "\n",
    "$$\n",
    "||f(x) - \\hat{f}(x)||_\\infty = \\sup_{-1\\leq x \\leq 1} |f(x) - \\hat{f}(x)|\n",
    "$$\n",
    "\n",
    "The infinity norm of the degree 4 polynomial is:"
   ]
  },
  {
   "cell_type": "code",
   "execution_count": null,
   "id": "97a7fbd1",
   "metadata": {},
   "outputs": [],
   "source": [
    "np.max(np.abs(y - y_interp))"
   ]
  },
  {
   "cell_type": "markdown",
   "id": "f20dfa83",
   "metadata": {},
   "source": [
    "hardly a numerical convergence."
   ]
  },
  {
   "cell_type": "markdown",
   "id": "ea69d63e",
   "metadata": {},
   "source": [
    "## Interpolants of increasing degrees"
   ]
  },
  {
   "cell_type": "markdown",
   "id": "3ba4d069",
   "metadata": {},
   "source": [
    "Let's create interpolant of increasing degrees and evaluate them on the test function:"
   ]
  },
  {
   "cell_type": "code",
   "execution_count": null,
   "id": "1a0cd266",
   "metadata": {},
   "outputs": [],
   "source": [
    "degrees = [4, 8, 16, 32, 64]\n",
    "y_interp = np.empty((x.size, len(degrees)))\n",
    "for i,p in enumerate(degrees):\n",
    "    fx_interp = mp.interpolate(fx, spatial_dimension=1, poly_degree=p)\n",
    "    y_interp[:,i] = fx_interp(x)"
   ]
  },
  {
   "cell_type": "code",
   "execution_count": null,
   "id": "97f40cbf",
   "metadata": {},
   "outputs": [],
   "source": [
    "plt.plot(x, y);\n",
    "for i,p in enumerate(degrees):\n",
    "    plt.plot(x, y_interp[:,i], label=\"degree = {}\".format(p));\n",
    "plt.legend();"
   ]
  },
  {
   "cell_type": "markdown",
   "id": "a649b0c7",
   "metadata": {},
   "source": [
    "The numerical convergence is shown below:"
   ]
  },
  {
   "cell_type": "code",
   "execution_count": null,
   "id": "8a3da62f",
   "metadata": {},
   "outputs": [],
   "source": [
    "errors = np.max(np.abs(y[:,np.newaxis] - y_interp),axis=0)"
   ]
  },
  {
   "cell_type": "code",
   "execution_count": null,
   "id": "013d3c3b",
   "metadata": {},
   "outputs": [],
   "source": [
    "plt.plot(degrees,errors,'-x');\n",
    "plt.yscale(\"log\");"
   ]
  },
  {
   "cell_type": "markdown",
   "id": "bd0b6298",
   "metadata": {},
   "source": [
    "The absolute error of the degree 64 polynomials in the domain is shown below:"
   ]
  },
  {
   "cell_type": "code",
   "execution_count": null,
   "id": "ac8fcc7f",
   "metadata": {},
   "outputs": [],
   "source": [
    "plt.plot(x, np.abs(y - y_interp[:,-1]));\n",
    "plt.ylim(1e-18,1);\n",
    "plt.yscale(\"log\");"
   ]
  },
  {
   "cell_type": "markdown",
   "id": "75f68f38",
   "metadata": {},
   "source": [
    "The seemingly random behavior of the (very small) absolute error indicates that machine precision has been reached. Compare it with the absolute error of degree 4 polynomials:"
   ]
  },
  {
   "cell_type": "code",
   "execution_count": null,
   "id": "935cb455",
   "metadata": {},
   "outputs": [],
   "source": [
    "plt.plot(x, np.abs(y - y_interp[:,0]));\n",
    "plt.yscale(\"log\");"
   ]
  }
 ],
 "metadata": {
  "kernelspec": {
   "display_name": "Python 3 (ipykernel)",
   "language": "python",
   "name": "python3"
  },
  "language_info": {
   "codemirror_mode": {
    "name": "ipython",
    "version": 3
   },
   "file_extension": ".py",
   "mimetype": "text/x-python",
   "name": "python",
   "nbconvert_exporter": "python",
   "pygments_lexer": "ipython3",
   "version": "3.8.11"
  }
 },
 "nbformat": 4,
 "nbformat_minor": 5
}
