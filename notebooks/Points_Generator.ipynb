{
 "cells": [
  {
   "cell_type": "code",
   "execution_count": 6,
   "metadata": {},
   "outputs": [],
   "source": [
    "import numpy as np\n",
    "import matplotlib.pyplot as plt"
   ]
  },
  {
   "cell_type": "code",
   "execution_count": 3,
   "metadata": {},
   "outputs": [],
   "source": [
    "def chebpoints(n):\n",
    "    return np.cos(np.arange(n,dtype=np.float128)*np.pi/(n-1))"
   ]
  },
  {
   "cell_type": "code",
   "execution_count": 5,
   "metadata": {},
   "outputs": [],
   "source": [
    "x = chebpoints(10)"
   ]
  },
  {
   "cell_type": "code",
   "execution_count": 8,
   "metadata": {},
   "outputs": [
    {
     "data": {
      "text/plain": [
       "[<matplotlib.lines.Line2D at 0x11aaaa390>]"
      ]
     },
     "execution_count": 8,
     "metadata": {},
     "output_type": "execute_result"
    },
    {
     "data": {
      "image/png": "[encoded data removed]",
      "text/plain": [
       "<Figure size 432x288 with 1 Axes>"
      ]
     },
     "metadata": {
      "needs_background": "light"
     },
     "output_type": "display_data"
    }
   ],
   "source": [
    "plt.plot(x,'*')"
   ]
  },
  {
   "cell_type": "code",
   "execution_count": 9,
   "metadata": {},
   "outputs": [],
   "source": [
    "def Leja(n):\n",
    "    # Leja Ordering Chebyshev nodes\n",
    "    points = chebpoints(n + 1)[::-1]\n",
    "    Points = points\n",
    "    ord = np.arange(1, n + 1)\n",
    "\n",
    "    LJ = np.zeros([1, n + 1])\n",
    "    LJ[0] = 0\n",
    "    M = 0\n",
    "\n",
    "    for k in range(0, n):\n",
    "        JJ = 0\n",
    "        for i in range(0, n - k):\n",
    "            P = 1\n",
    "            for j in range(k + 1):\n",
    "                idx_pts = int(LJ[0, j])\n",
    "                P = P * (points[idx_pts] - points[ord[i]])\n",
    "            P = np.abs(P)\n",
    "            if (P >= M):\n",
    "                JJ = i\n",
    "                M = P\n",
    "        M = 0\n",
    "        LJ[0, k + 1] = ord[JJ]\n",
    "        ord = np.delete(ord, JJ)\n",
    "\n",
    "    Leja_Points = np.zeros([1, n + 1])\n",
    "    for i in range(n + 1):\n",
    "        Leja_Points[0, i] = Points[int(LJ[0, i])]\n",
    "    return Leja_Points"
   ]
  },
  {
   "cell_type": "code",
   "execution_count": 16,
   "metadata": {},
   "outputs": [],
   "source": [
    "def gen_points_lp(m, N, Points, Gamma):\n",
    "    PP = np.zeros((m, N))\n",
    "    for i in range(N):\n",
    "        for j in range(m):\n",
    "            PP[j,i] = Points[j, int(Gamma[j, i])]\n",
    "    return PP"
   ]
  },
  {
   "cell_type": "code",
   "execution_count": 12,
   "metadata": {},
   "outputs": [],
   "source": [
    "def Gamma_lp(m, n, gamma, gamma2, p):\n",
    "        gamma0 = gamma.copy()\n",
    "        gamma0[m - 1] = gamma0[m - 1] + 1\n",
    "\n",
    "        norm = np.linalg.norm(gamma0.reshape(-1), p)\n",
    "        if (norm < n and m > 1):\n",
    "            o1 = Gamma_lp(m - 1, n, gamma.copy(), gamma.copy(), p)\n",
    "            o2 = Gamma_lp(m, n, gamma0.copy(), gamma0.copy(), p)\n",
    "            out = np.concatenate([o1, o2], axis=-1)\n",
    "        elif (norm < n and m == 1):\n",
    "            out = np.concatenate([gamma2, Gamma_lp(m, n, gamma0.copy(), gamma0.copy(), p)], axis=-1)\n",
    "        elif (norm == n and m > 1):\n",
    "            out = np.concatenate([Gamma_lp(m - 1, n, gamma.copy(), gamma.copy(), p), gamma0], axis=-1)\n",
    "        elif (norm == n and m == 1):\n",
    "            out = np.concatenate([gamma2, gamma0], axis=-1)\n",
    "        elif (norm > n):\n",
    "            norm_ = np.linalg.norm(gamma.reshape(-1), p)\n",
    "            if (norm_ < n and m > 1):\n",
    "                for j in range(1, m):\n",
    "                    gamma0 = gamma.copy()\n",
    "                    gamma0[j - 1] = gamma0[j - 1] + 1  # gamm0 -> 1121 broken\n",
    "                    if (np.linalg.norm(gamma0.reshape(-1), p) <= n):\n",
    "                        gamma2 = np.concatenate([gamma2, Gamma_lp(j, n, gamma0.copy(), gamma0.copy(), p)], axis=-1)\n",
    "                out = gamma2\n",
    "            elif (m == 1):\n",
    "                out = gamma2\n",
    "            elif (norm_ <= n):\n",
    "                out = gamma\n",
    "            else:\n",
    "                out = []\n",
    "\n",
    "        return out"
   ]
  },
  {
   "cell_type": "code",
   "execution_count": 23,
   "metadata": {},
   "outputs": [],
   "source": [
    "m = 2\n",
    "n = 2\n",
    "p = 2\n",
    "\n",
    "gamma = np.zeros((m, 1))\n",
    "Gamma = Gamma_lp(m, n, gamma, gamma.copy(), p)\n",
    "N = Gamma.shape[1]\n",
    "\n",
    "Points = np.zeros((m, n + 1))\n",
    "\n",
    "for i in range(m):\n",
    "    Points[i,] = (-1) ** (i + 1) * Leja(n)\n",
    "\n",
    "PP = gen_points_lp(m, N, Points,Gamma)\n"
   ]
  },
  {
   "cell_type": "code",
   "execution_count": 24,
   "metadata": {},
   "outputs": [
    {
     "data": {
      "text/plain": [
       "array([[ 1.00000000e+00, -1.00000000e+00, -6.12303177e-17,\n",
       "         1.00000000e+00, -1.00000000e+00,  1.00000000e+00],\n",
       "       [-1.00000000e+00, -1.00000000e+00, -1.00000000e+00,\n",
       "         1.00000000e+00,  1.00000000e+00,  6.12303177e-17]])"
      ]
     },
     "execution_count": 24,
     "metadata": {},
     "output_type": "execute_result"
    }
   ],
   "source": [
    "PP\n"
   ]
  },
  {
   "cell_type": "code",
   "execution_count": null,
   "metadata": {},
   "outputs": [],
   "source": []
  }
 ],
 "metadata": {
  "kernelspec": {
   "display_name": "Python 3",
   "language": "python",
   "name": "python3"
  },
  "language_info": {
   "codemirror_mode": {
    "name": "ipython",
    "version": 3
   },
   "file_extension": ".py",
   "mimetype": "text/x-python",
   "name": "python",
   "nbconvert_exporter": "python",
   "pygments_lexer": "ipython3",
   "version": "3.7.4"
  }
 },
 "nbformat": 4,
 "nbformat_minor": 2
}
