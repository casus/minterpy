{
 "cells": [
  {
   "cell_type": "code",
   "execution_count": null,
   "metadata": {},
   "outputs": [],
   "source": [
    "import phasenet.zernike as Z\n",
    "import phasenet.psf as P\n",
    "import sys\n",
    "sys.path.append('./../oldPack/')\n",
    "import MultiIndicesTree\n",
    "import Solvers"
   ]
  },
  {
   "cell_type": "code",
   "execution_count": null,
   "metadata": {},
   "outputs": [],
   "source": [
    "def chebpoints(n):\n",
    "    return np.cos(np.arange(n,dtype=np.float128)*np.pi/(n-1))"
   ]
  },
  {
   "cell_type": "code",
   "execution_count": null,
   "metadata": {},
   "outputs": [],
   "source": [
    "def chebpoints_first(n):\n",
    "    return np.cos(((2*np.arange(1,n+2,dtype=np.float128)-1) *np.pi)/(2*(n+1)))"
   ]
  },
  {
   "cell_type": "code",
   "execution_count": null,
   "metadata": {},
   "outputs": [],
   "source": [
    "def spherical_ordering(n):\n",
    "    arr = chebpoints_first(n)\n",
    "    arr_even = np.sort(arr[arr>=0])\n",
    "    arr_odd = arr[arr<0]\n",
    "    new_arr = []\n",
    "    for i,a in enumerate(arr_even):\n",
    "        new_arr.append(a)\n",
    "        try:\n",
    "            new_arr.append(arr_odd[i])\n",
    "        except:\n",
    "            pass\n",
    "    new_arr = np.expand_dims(new_arr,0)\n",
    "    return new_arr"
   ]
  },
  {
   "cell_type": "code",
   "execution_count": null,
   "metadata": {},
   "outputs": [],
   "source": [
    "def Leja(n):\n",
    "    # Leja Ordering Chebyshev nodes\n",
    "    points = chebpoints(n + 1)[::-1]\n",
    "    Points = points\n",
    "    ord = np.arange(1, n + 1)\n",
    "\n",
    "    LJ = np.zeros([1, n + 1])\n",
    "    LJ[0] = 0\n",
    "    M = 0\n",
    "\n",
    "    for k in range(0, n):\n",
    "        JJ = 0\n",
    "        for i in range(0, n - k):\n",
    "            P = 1\n",
    "            for j in range(k + 1):\n",
    "                idx_pts = int(LJ[0, j])\n",
    "                P = P * (points[idx_pts] - points[ord[i]])\n",
    "            P = np.abs(P)\n",
    "            if (P >= M):\n",
    "                JJ = i\n",
    "                M = P\n",
    "        M = 0\n",
    "        LJ[0, k + 1] = ord[JJ]\n",
    "        ord = np.delete(ord, JJ)\n",
    "\n",
    "    Leja_Points = np.zeros([1, n + 1])\n",
    "    for i in range(n + 1):\n",
    "        Leja_Points[0, i] = Points[int(LJ[0, i])]\n",
    "    return Leja_Points"
   ]
  },
  {
   "cell_type": "code",
   "execution_count": null,
   "metadata": {},
   "outputs": [],
   "source": [
    "def gen_points_lp(m, N, Points, Gamma):\n",
    "    PP = np.zeros((m, N))\n",
    "    for i in range(N):\n",
    "        for j in range(m):\n",
    "            PP[j,i] = Points[j, int(Gamma[j, i])]\n",
    "    return PP"
   ]
  },
  {
   "cell_type": "code",
   "execution_count": null,
   "metadata": {},
   "outputs": [],
   "source": [
    "def Gamma_lp(m, n, gamma, gamma2, p):\n",
    "        gamma0 = gamma.copy()\n",
    "        gamma0[m - 1] = gamma0[m - 1] + 1\n",
    "\n",
    "        norm = np.linalg.norm(gamma0.reshape(-1), p)\n",
    "        if (norm < n and m > 1):\n",
    "            o1 = Gamma_lp(m - 1, n, gamma.copy(), gamma.copy(), p)\n",
    "            o2 = Gamma_lp(m, n, gamma0.copy(), gamma0.copy(), p)\n",
    "            out = np.concatenate([o1, o2], axis=-1)\n",
    "        elif (norm < n and m == 1):\n",
    "            out = np.concatenate([gamma2, Gamma_lp(m, n, gamma0.copy(), gamma0.copy(), p)], axis=-1)\n",
    "        elif (norm == n and m > 1):\n",
    "            out = np.concatenate([Gamma_lp(m - 1, n, gamma.copy(), gamma.copy(), p), gamma0], axis=-1)\n",
    "        elif (norm == n and m == 1):\n",
    "            out = np.concatenate([gamma2, gamma0], axis=-1)\n",
    "        elif (norm > n):\n",
    "            norm_ = np.linalg.norm(gamma.reshape(-1), p)\n",
    "            if (norm_ < n and m > 1):\n",
    "                for j in range(1, m):\n",
    "                    gamma0 = gamma.copy()\n",
    "                    gamma0[j - 1] = gamma0[j - 1] + 1  # gamm0 -> 1121 broken\n",
    "                    if (np.linalg.norm(gamma0.reshape(-1), p) <= n):\n",
    "                        gamma2 = np.concatenate([gamma2, Gamma_lp(j, n, gamma0.copy(), gamma0.copy(), p)], axis=-1)\n",
    "                out = gamma2\n",
    "            elif (m == 1):\n",
    "                out = gamma2\n",
    "            elif (norm_ <= n):\n",
    "                out = gamma\n",
    "            else:\n",
    "                out = []\n",
    "\n",
    "        return out"
   ]
  },
  {
   "cell_type": "code",
   "execution_count": null,
   "metadata": {},
   "outputs": [],
   "source": [
    "m = 6 #Dimensions\n",
    "n = 2 #degree\n",
    "p = 5\n",
    "\n",
    "gamma = np.zeros((m, 1))\n",
    "Gamma = Gamma_lp(m, n, gamma, gamma.copy(), p)\n",
    "N = Gamma.shape[1]\n",
    "\n",
    "GP = np.zeros((m, n + 1))\n",
    "\n",
    "# for i in range(m):\n",
    "#     GP[i,] = (-1) ** (i + 1) * Leja(n)\n",
    "\n",
    "for i in range(m):\n",
    "    GP[i,] = (-1) ** (i + 1) * spherical_ordering(n)\n",
    "\n",
    "PP = gen_points_lp(m, N, GP,Gamma)"
   ]
  },
  {
   "cell_type": "code",
   "execution_count": null,
   "metadata": {
    "scrolled": true
   },
   "outputs": [],
   "source": [
    "PP.shape"
   ]
  },
  {
   "cell_type": "code",
   "execution_count": null,
   "metadata": {},
   "outputs": [],
   "source": [
    "mul = 0.1\n",
    "amp = PP.T*mul"
   ]
  },
  {
   "cell_type": "code",
   "execution_count": null,
   "metadata": {},
   "outputs": [],
   "source": [
    "shift = np.random.uniform(-0.1,0.1,size=(1,m))"
   ]
  },
  {
   "cell_type": "code",
   "execution_count": null,
   "metadata": {},
   "outputs": [],
   "source": [
    "np.max(amp)"
   ]
  },
  {
   "cell_type": "code",
   "execution_count": null,
   "metadata": {},
   "outputs": [],
   "source": [
    "np.max(shift)"
   ]
  },
  {
   "cell_type": "code",
   "execution_count": null,
   "metadata": {},
   "outputs": [],
   "source": [
    "amp = amp+shift"
   ]
  },
  {
   "cell_type": "code",
   "execution_count": null,
   "metadata": {},
   "outputs": [],
   "source": [
    "N = 64*1\n",
    "dx = .1\n",
    "\n",
    "psf = P.PsfGenerator3D(psf_shape=(N,)*3, units=(dx,)*3, na_detection=1.1, lam_detection=.5, n=1.33)"
   ]
  },
  {
   "cell_type": "code",
   "execution_count": null,
   "metadata": {},
   "outputs": [],
   "source": [
    "max_inten = []\n",
    "for a in amp:\n",
    "    wf = Z.ZernikeWavefront({3:a[0], 5:a[1]}, order='ansi')\n",
    "#     wf = Z.ZernikeWavefront({3:a[0], 5:a[1],}, order='ansi')\n",
    "    h1 = np.fft.fftshift(psf.incoherent_psf(wf, normed=True))\n",
    "    max_inten.append(np.max(h1[32]))"
   ]
  },
  {
   "cell_type": "code",
   "execution_count": null,
   "metadata": {},
   "outputs": [],
   "source": [
    "Pmax = PP[np.argmax(np.array(:,max_inten))]\n",
    "print(np.around(Pmax,3), np.max(np.array(max_inten)))"
   ]
  },
  {
   "cell_type": "code",
   "execution_count": null,
   "metadata": {},
   "outputs": [],
   "source": [
    "Pmax = PP[:,np.argmax(np.array(max_inten))]\n",
    "print(Pmax, np.max(np.array(max_inten)))"
   ]
  },
  {
   "cell_type": "code",
   "execution_count": null,
   "metadata": {},
   "outputs": [],
   "source": [
    "np.around(Pmax*mul,5)"
   ]
  },
  {
   "cell_type": "code",
   "execution_count": null,
   "metadata": {},
   "outputs": [],
   "source": [
    "np.around(shift,3)"
   ]
  },
  {
   "cell_type": "code",
   "execution_count": null,
   "metadata": {},
   "outputs": [],
   "source": [
    "wf = Z.ZernikeWavefront({3:shift[0,0], 5:shift[0,1]}, order='ansi')\n",
    "h1 = np.fft.fftshift(psf.incoherent_psf(wf, normed=True))\n",
    "print(np.max(h1[32]))"
   ]
  },
  {
   "cell_type": "code",
   "execution_count": null,
   "metadata": {},
   "outputs": [],
   "source": [
    "# params\n",
    "lpDegree = p"
   ]
  },
  {
   "cell_type": "code",
   "execution_count": null,
   "metadata": {},
   "outputs": [],
   "source": [
    "tr = MultiIndicesTree.MultiIndicesTree(M=m,K=n,lpDegree=lpDegree)"
   ]
  },
  {
   "cell_type": "code",
   "execution_count": null,
   "metadata": {},
   "outputs": [],
   "source": [
    "tr.GP = GP"
   ]
  },
  {
   "cell_type": "code",
   "execution_count": null,
   "metadata": {},
   "outputs": [],
   "source": [
    "nn, N = tr.PP.shape"
   ]
  },
  {
   "cell_type": "code",
   "execution_count": null,
   "metadata": {},
   "outputs": [],
   "source": [
    "gamma = np.zeros([m])"
   ]
  },
  {
   "cell_type": "code",
   "execution_count": null,
   "metadata": {},
   "outputs": [],
   "source": [
    "dds = Solvers.DDS()\n",
    "D = dds.run(m,N,tr.tree, np.array(max_inten).copy(), tr.GP.copy(), gamma.copy(), 1, 1)"
   ]
  },
  {
   "cell_type": "code",
   "execution_count": null,
   "metadata": {},
   "outputs": [],
   "source": [
    "# evaluate \n",
    "max_inten_hat = np.zeros((len(max_inten)))\n",
    "for i in range(len(max_inten)):\n",
    "    max_inten_hat[i] = tr.eval_lp(PP[:, i].copy(), D.copy(), m, n, N, gamma.copy(), tr.GP, tr.lpDegree, 1, 1)"
   ]
  },
  {
   "cell_type": "code",
   "execution_count": null,
   "metadata": {
    "scrolled": true
   },
   "outputs": [],
   "source": [
    "plt.plot(max_inten_hat,'*',label='Prediction')\n",
    "plt.plot(max_inten,'.',label='GT')\n",
    "plt.legend()\n",
    "None;"
   ]
  },
  {
   "cell_type": "code",
   "execution_count": null,
   "metadata": {},
   "outputs": [],
   "source": [
    "# Evaluate on random points\n",
    "nx = 100\n",
    "# PPx = np.random.uniform(low = Pmax-Pmax*percentage,high= Pmax+Pmax*percentage, size=(nx,m)).T\n",
    "PPx = np.random.uniform(low = Pmax-Pmax*percentage,high= Pmax+Pmax*percentage, size=(nx,m)).T"
   ]
  },
  {
   "cell_type": "code",
   "execution_count": null,
   "metadata": {},
   "outputs": [],
   "source": [
    "max_inten_hat = np.zeros(PPx.shape[0])\n",
    "max_inten_hat = tr.eval_lp(PPx.copy(), D.copy(), m, n, N, gamma.copy(), tr.GP, tr.lpDegree, 1, 1)"
   ]
  },
  {
   "cell_type": "code",
   "execution_count": null,
   "metadata": {},
   "outputs": [],
   "source": [
    "ampx = PPx.T*mul\n",
    "max_intenx = []\n",
    "for a in ampx:\n",
    "    wf = Z.ZernikeWavefront({3:a[0], 5:a[1], 6:a[2], 7:a[3],8:a[4],9:a[5]}, order='ansi')\n",
    "#     wf = Z.ZernikeWavefront({3:a[0], 5:a[1]}, order='ansi')\n",
    "    h1 = np.fft.fftshift(psf.incoherent_psf(wf, normed=True))\n",
    "    max_intenx.append(np.max(h1[32]))\n",
    "max_intenx = np.array(max_intenx)"
   ]
  },
  {
   "cell_type": "code",
   "execution_count": null,
   "metadata": {},
   "outputs": [],
   "source": [
    "print(\"Degree: %d  E: %f\"%(n,np.mean(np.abs(max_intenx - max_inten_hat))))"
   ]
  },
  {
   "cell_type": "code",
   "execution_count": null,
   "metadata": {},
   "outputs": [],
   "source": [
    "print(\"Degree: %d  E: %f\"%(n,np.mean(np.abs(max_intenx - max_inten_hat))))"
   ]
  },
  {
   "cell_type": "code",
   "execution_count": null,
   "metadata": {},
   "outputs": [],
   "source": [
    "wf = Z.ZernikeWavefront({3:0.00}, order='ansi')\n",
    "h1 = np.fft.fftshift(psf.incoherent_psf(wf, normed=True))"
   ]
  },
  {
   "cell_type": "code",
   "execution_count": null,
   "metadata": {},
   "outputs": [],
   "source": [
    "max_intenx"
   ]
  },
  {
   "cell_type": "code",
   "execution_count": null,
   "metadata": {},
   "outputs": [],
   "source": [
    "max_inten_hat"
   ]
  },
  {
   "cell_type": "code",
   "execution_count": null,
   "metadata": {},
   "outputs": [],
   "source": [
    "np.around(Pmax,3)"
   ]
  },
  {
   "cell_type": "code",
   "execution_count": null,
   "metadata": {},
   "outputs": [],
   "source": [
    "np.around(shift,3)"
   ]
  },
  {
   "cell_type": "code",
   "execution_count": null,
   "metadata": {},
   "outputs": [],
   "source": [
    "np.max(max_inten)"
   ]
  },
  {
   "cell_type": "code",
   "execution_count": null,
   "metadata": {},
   "outputs": [],
   "source": []
  }
 ],
 "metadata": {
  "kernelspec": {
   "display_name": "Python 3",
   "language": "python",
   "name": "python3"
  },
  "language_info": {
   "codemirror_mode": {
    "name": "ipython",
    "version": 3
   },
   "file_extension": ".py",
   "mimetype": "text/x-python",
   "name": "python",
   "nbconvert_exporter": "python",
   "pygments_lexer": "ipython3",
   "version": "3.6.6"
  }
 },
 "nbformat": 4,
 "nbformat_minor": 2
}
